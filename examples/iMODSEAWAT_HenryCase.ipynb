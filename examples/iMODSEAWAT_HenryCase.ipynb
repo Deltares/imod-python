{
 "cells": [
  {
   "cell_type": "markdown",
   "metadata": {},
   "source": [
    "# iMODSEAWAT: Henry case"
   ]
  },
  {
   "cell_type": "code",
   "execution_count": null,
   "metadata": {},
   "outputs": [],
   "source": [
    "import xarray as xr\n",
    "import pandas as pd\n",
    "import numpy as np\n",
    "import imod\n",
    "import subprocess\n",
    "from collections import OrderedDict\n",
    "\n",
    "%matplotlib inline"
   ]
  },
  {
   "cell_type": "code",
   "execution_count": null,
   "metadata": {},
   "outputs": [],
   "source": [
    "nrow = 1\n",
    "ncol = 100\n",
    "nlay = 50\n",
    "\n",
    "dz = 1.0\n",
    "dx = 1.0\n",
    "dy = dx\n",
    "\n",
    "# scale parameters with discretization\n",
    "qscaled = 0.03 * (dx * dz * dy)\n",
    "dsp_al = 0.1 * dx\n",
    "dsp_dmcoef = 0.05 * dx"
   ]
  },
  {
   "cell_type": "markdown",
   "metadata": {},
   "source": [
    "We start by defining the domain, and setting up tops and bottoms."
   ]
  },
  {
   "cell_type": "code",
   "execution_count": null,
   "metadata": {},
   "outputs": [],
   "source": [
    "bnd = xr.DataArray(\n",
    "    data = np.full((nrow, ncol, nlay), 1.0),\n",
    "    coords = {\"y\": [0.5], \"x\": np.arange(0.5 * dx, dx * ncol, dx), \"layer\": np.arange(1, 1 + nlay)},\n",
    "    dims = (\"y\", \"x\", \"layer\"),\n",
    ")"
   ]
  },
  {
   "cell_type": "markdown",
   "metadata": {},
   "source": [
    "This is a nice example of automatic broadcasting in xarray: because both `bnd` and `top1D` have the same coordinate `\"layer\"`, it knows how to broadcast to the other dimensions."
   ]
  },
  {
   "cell_type": "code",
   "execution_count": null,
   "metadata": {},
   "outputs": [],
   "source": [
    "top1D = xr.DataArray(np.arange(nlay * dz, 0.0, -dz), {\"layer\":np.arange(1, 1 + nlay)}, (\"layer\"))\n",
    "top = bnd * top1D\n",
    "\n",
    "# We define constant head here, after generating the tops, or we'd end up with negative top values\n",
    "bnd[:,-1,:] = -1\n",
    "# layer 0 is at the top, so we flip around the y-axis with yincrase\n",
    "bnd.plot(y=\"layer\", yincrease=False)"
   ]
  },
  {
   "cell_type": "markdown",
   "metadata": {},
   "source": [
    "We need to force it into a transient run, so we assign a start and end time to the BND array."
   ]
  },
  {
   "cell_type": "code",
   "execution_count": null,
   "metadata": {},
   "outputs": [],
   "source": [
    "bnd_s = bnd.copy().assign_coords(time=np.datetime64(\"2000-01-01\"))\n",
    "bnd_e = bnd.copy().assign_coords(time=np.datetime64(\"2001-12-31\"))\n",
    "bnd_tr = xr.concat([bnd_s, bnd_e], dim=\"time\")"
   ]
  },
  {
   "cell_type": "markdown",
   "metadata": {},
   "source": [
    "Define WEL data: take care that columns are ordered properly! \n",
    "\n",
    "iMODSEAWAT does not use the column names, it relies on ordering only, which is:\n",
    "1. x \n",
    "2. y\n",
    "3. rate\n",
    "\n",
    "Everything afterwards can be in arbitrary order."
   ]
  },
  {
   "cell_type": "code",
   "execution_count": null,
   "metadata": {},
   "outputs": [],
   "source": [
    "weldata = pd.DataFrame()\n",
    "weldata[\"x\"] = np.full(nlay, 0.5 * dx)\n",
    "weldata[\"y\"] = np.full(nlay, 0.5)\n",
    "weldata[\"q\"] = qscaled\n",
    "weldata[\"layer\"] = np.arange(1, 1 + nlay)\n",
    "welconc = xr.full_like(bnd, np.nan)\n",
    "welconc[:,0,:] = 0.0"
   ]
  },
  {
   "cell_type": "markdown",
   "metadata": {},
   "source": [
    "Finally, we build up the model. The `imod` package uses the keys of the dictionary (\"bnd\", \"shd\", etc.) to determine what the data means."
   ]
  },
  {
   "cell_type": "code",
   "execution_count": null,
   "metadata": {},
   "outputs": [],
   "source": [
    "model = OrderedDict()\n",
    "model[\"bnd\"] = bnd_tr\n",
    "model[\"icbund\"] = xr.full_like(bnd, 1.0)\n",
    "model[\"khv\"] = xr.full_like(bnd, 10.0)\n",
    "model[\"kva\"] = xr.full_like(bnd, 10.0)\n",
    "model[\"top\"] = top\n",
    "model[\"bot\"] = top - dz\n",
    "model[\"thickness\"] = model[\"top\"] - model[\"bot\"]\n",
    "model[\"shd\"] = xr.full_like(bnd, 1.0)\n",
    "model[\"sto\"] = xr.full_like(bnd, 0.0001)\n",
    "model[\"por\"] = xr.full_like(bnd, 0.35)\n",
    "model[\"sconc\"] = xr.full_like(bnd, 35.0)\n",
    "model[\"dsp-al\"] = xr.full_like(bnd, dsp_al)\n",
    "model[\"dsp-trpt\"] = xr.full_like(bnd, 1.0)\n",
    "model[\"dsp-trpv\"] = xr.full_like(bnd, 1.0)\n",
    "model[\"dsp-dmcoef\"] = xr.full_like(bnd, dsp_dmcoef)\n",
    "model[\"wel-rate\"] = weldata\n",
    "model[\"wel-conc\"] = welconc"
   ]
  },
  {
   "cell_type": "markdown",
   "metadata": {},
   "source": [
    "Now we write the model, including runfile:"
   ]
  },
  {
   "cell_type": "code",
   "execution_count": null,
   "metadata": {},
   "outputs": [],
   "source": [
    "imod.seawat_write(\"HenryCase\", model)"
   ]
  },
  {
   "cell_type": "markdown",
   "metadata": {},
   "source": [
    "You can run the model from a jupyter notebook, by using the `subprocess` package. You won't get any output printed here however, so you'll only have the exit code to see if the run went right. \n",
    "\n",
    "Just replace \"imod-wq_svn269_x64r.exe\" with the path to whatever executable you're using:"
   ]
  },
  {
   "cell_type": "code",
   "execution_count": null,
   "metadata": {},
   "outputs": [],
   "source": [
    "subprocess.run(\"imod-wq_svn270_x64r.exe HenryCase/runfile.run\")"
   ]
  },
  {
   "cell_type": "markdown",
   "metadata": {},
   "source": [
    "# Results"
   ]
  },
  {
   "cell_type": "markdown",
   "metadata": {},
   "source": [
    "We can use the glob paths, with wildcards like `*`, to easily open the results IDFs for all layers:"
   ]
  },
  {
   "cell_type": "code",
   "execution_count": null,
   "metadata": {},
   "outputs": [],
   "source": [
    "head = imod.idf.load(r\"results\\head_20011231000000_l*.idf\")\n",
    "head.plot(y=\"layer\", yincrease=False)"
   ]
  },
  {
   "cell_type": "code",
   "execution_count": null,
   "metadata": {},
   "outputs": [],
   "source": [
    "conc = imod.idf.load(r\"results\\conc_20011231000000_l*.idf\")\n",
    "conc.plot(y=\"layer\", levels=range(0,35,5), yincrease=False)"
   ]
  }
 ],
 "metadata": {
  "kernelspec": {
   "display_name": "Python 3",
   "language": "python",
   "name": "python3"
  },
  "language_info": {
   "codemirror_mode": {
    "name": "ipython",
    "version": 3
   },
   "file_extension": ".py",
   "mimetype": "text/x-python",
   "name": "python",
   "nbconvert_exporter": "python",
   "pygments_lexer": "ipython3",
   "version": "3.6.5"
  }
 },
 "nbformat": 4,
 "nbformat_minor": 2
}
