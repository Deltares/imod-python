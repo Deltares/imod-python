{
  "cells": [
    {
      "cell_type": "markdown",
      "metadata": {},
      "source": [
        "\n# Reproject data\n\nIn this example we will see how to reproject vector and raster datasets.\n"
      ]
    },
    {
      "cell_type": "code",
      "execution_count": null,
      "metadata": {
        "collapsed": false
      },
      "outputs": [],
      "source": [
        "import matplotlib.pyplot as plt\nimport pyproj"
      ]
    },
    {
      "cell_type": "markdown",
      "metadata": {},
      "source": [
        "We'll start with the imports\n\n"
      ]
    },
    {
      "cell_type": "code",
      "execution_count": null,
      "metadata": {
        "collapsed": false
      },
      "outputs": [],
      "source": [
        "import imod"
      ]
    },
    {
      "cell_type": "markdown",
      "metadata": {},
      "source": [
        "## Reproject points\n\n"
      ]
    },
    {
      "cell_type": "code",
      "execution_count": null,
      "metadata": {
        "collapsed": false
      },
      "outputs": [],
      "source": [
        "wgs84 = pyproj.CRS(\"EPSG:4326\")\namersfoort = pyproj.CRS(\"EPSG:28992\")\nlon = [5.053, 4.479, 5.722]\nlat = [52.201, 52.009, 52.19246]\nx, y = pyproj.transform(wgs84, amersfoort, lat, lon)\n\nprint(x, y)"
      ]
    },
    {
      "cell_type": "markdown",
      "metadata": {},
      "source": [
        "## Reproject vector dataset\n\nIn this case, the shapefile is imported using geopandas, obtaining a\nGeoDataFrame. GeoPandas has the option geopandas.GeoSeries.to_crs to directly\nchange the coordinate system of a geopandas GeoDataFrame.\n\n"
      ]
    },
    {
      "cell_type": "code",
      "execution_count": null,
      "metadata": {
        "collapsed": false
      },
      "outputs": [],
      "source": [
        "temp_dir = imod.util.temporary_directory()\n\nlakes = imod.data.lakes_shp(temp_dir)\nprint(lakes.crs)\n\nlakes_wgs84 = lakes.to_crs(epsg=4326)\nprint(lakes_wgs84.crs)"
      ]
    },
    {
      "cell_type": "markdown",
      "metadata": {},
      "source": [
        "## Reproject raster dataset\n\nimod-python has the function :py:func:`imod.prepare.reproject`. There are\nthree options:\n\n### 1. Resample to a new cellsize\n\nUse the same projection: provide only \"like\".\n\nImporting the original file, which has a cellsize of 100.0 m and its EPSG is 28992:\n\n"
      ]
    },
    {
      "cell_type": "code",
      "execution_count": null,
      "metadata": {
        "collapsed": false
      },
      "outputs": [],
      "source": [
        "ahn = imod.data.ahn()[\"ahn\"]\n\nfig, ax = plt.subplots()\nahn.plot.imshow(ax=ax)"
      ]
    },
    {
      "cell_type": "markdown",
      "metadata": {},
      "source": [
        "We'll create our like grid Resampling DataArray to a new cellsize of 50.0 m,\nby creating a like DataArray first:\n\n"
      ]
    },
    {
      "cell_type": "code",
      "execution_count": null,
      "metadata": {
        "collapsed": false
      },
      "outputs": [],
      "source": [
        "xmin = 90950\nxmax = 115650\nymax = 467550\nymin = 445850\ncellsize = 50.0\ndx = cellsize\ndy = -cellsize\n\nlike = imod.util.empty_2d(dx, xmin, xmax, dy, ymin, ymax)"
      ]
    },
    {
      "cell_type": "markdown",
      "metadata": {},
      "source": [
        "Apply the :py:func:`imod.prepare.reproject` function. The new dataset will\nhave a 50 m resolution:\n\n"
      ]
    },
    {
      "cell_type": "code",
      "execution_count": null,
      "metadata": {
        "collapsed": false
      },
      "outputs": [],
      "source": [
        "ahn_50m = imod.prepare.reproject(source=ahn, like=like, method=\"average\")\nprint(ahn_50m.res)"
      ]
    },
    {
      "cell_type": "markdown",
      "metadata": {},
      "source": [
        "### 2. Only reproject\n\nOnly provide the source coordinate reference system (src_crs) and the target\ncoordinate reference system (dst_crs). In this case, to reproject from\nEPSG:28992 to EPSG:32631:\n\n"
      ]
    },
    {
      "cell_type": "code",
      "execution_count": null,
      "metadata": {
        "collapsed": false
      },
      "outputs": [],
      "source": [
        "ahn_utm = imod.prepare.reproject(source=ahn, src_crs=\"EPSG:28992\", dst_crs=\"EPSG:32631\")\nprint(ahn_utm.res)"
      ]
    },
    {
      "cell_type": "markdown",
      "metadata": {},
      "source": [
        "If we plot, notice that the grid is slightly \"rotated\". This is caused by the\nreprojection.\n\n"
      ]
    },
    {
      "cell_type": "code",
      "execution_count": null,
      "metadata": {
        "collapsed": false
      },
      "outputs": [],
      "source": [
        "fig, ax = plt.subplots()\nahn_utm.plot.imshow(ax=ax)"
      ]
    },
    {
      "cell_type": "markdown",
      "metadata": {},
      "source": [
        "### 3. Reproject and resample to a specific domain\n\nProvide \"src_crs\", \"dst_crs\" and \"like\".\nThe resulting dataset will have a cellsize of 50m and\nit's coordinate system will be EPSG:32631:\n\n"
      ]
    },
    {
      "cell_type": "code",
      "execution_count": null,
      "metadata": {
        "collapsed": false
      },
      "outputs": [],
      "source": [
        "ahn_utm_50m = imod.prepare.reproject(\n    source=ahn, like=like, src_crs=\"EPSG:28992\", dst_crs=\"EPSG:32631\"\n)\nprint(ahn_utm_50m.res)\nprint(ahn_utm_50m.crs)"
      ]
    }
  ],
  "metadata": {
    "kernelspec": {
      "display_name": "Python 3",
      "language": "python",
      "name": "python3"
    },
    "language_info": {
      "codemirror_mode": {
        "name": "ipython",
        "version": 3
      },
      "file_extension": ".py",
      "mimetype": "text/x-python",
      "name": "python",
      "nbconvert_exporter": "python",
      "pygments_lexer": "ipython3",
      "version": "3.11.7"
    }
  },
  "nbformat": 4,
  "nbformat_minor": 0
}