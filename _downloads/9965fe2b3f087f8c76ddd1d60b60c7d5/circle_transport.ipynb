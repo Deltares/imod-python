{
  "cells": [
    {
      "cell_type": "markdown",
      "metadata": {},
      "source": [
        "\n# Freshwater lens (circle)\n\nThis example illustrates how to setup a very simple unstructured groundwater\ntransport model using the ``imod`` package and associated packages.\n\nIn overview, we'll set the following steps:\n\n    * Setting up the flow model, just like in the circle.py example\n    * set up the transport model\n    * Run the simulation.\n    * Visualize the results.\n"
      ]
    },
    {
      "cell_type": "code",
      "execution_count": null,
      "metadata": {
        "collapsed": false
      },
      "outputs": [],
      "source": [
        ""
      ]
    },
    {
      "cell_type": "markdown",
      "metadata": {},
      "source": [
        "We'll start with the following imports:\n\n"
      ]
    },
    {
      "cell_type": "code",
      "execution_count": null,
      "metadata": {
        "collapsed": false
      },
      "outputs": [],
      "source": [
        "import matplotlib.pyplot as plt\nimport numpy as np\nimport pandas as pd\nimport xarray as xr\nimport xugrid as xu\n\nimport imod"
      ]
    },
    {
      "cell_type": "markdown",
      "metadata": {},
      "source": [
        "## Parameters\n\n"
      ]
    },
    {
      "cell_type": "code",
      "execution_count": null,
      "metadata": {
        "collapsed": false
      },
      "outputs": [],
      "source": [
        "porosity = 0.10\nmax_concentration = 35.0\nmin_concentration = 0.0\nmax_density = 1025.0\nmin_density = 1000.0\nk_value = 10.0"
      ]
    },
    {
      "cell_type": "markdown",
      "metadata": {},
      "source": [
        "## Create a mesh\n\nThe first steps consists of generating a mesh. In this example, we'll use data\nincluded with iMOD Python for a circular mesh. Note that this is a [Ugrid2D\nobject.](https://deltares.github.io/xugrid/api/xugrid.Ugrid2d.html)\nFor more information on working with unstructured grids see the\n[Xugrid documentation](https://deltares.github.io/xugrid/index.html)\n\n"
      ]
    },
    {
      "cell_type": "code",
      "execution_count": null,
      "metadata": {
        "collapsed": false
      },
      "outputs": [],
      "source": [
        "grid_triangles = imod.data.circle()\n\nfig, ax = plt.subplots()\nxu.plot.line(grid_triangles)\nax.set_aspect(1)"
      ]
    },
    {
      "cell_type": "markdown",
      "metadata": {},
      "source": [
        "However a triangular grid has the issue that the direction of the fluxes\nbetween cell centres is not perpendicular to the cell vertices. The default\nformulation of Modflow 6 does not account for this, which causes mass balance\nerrors. The XT3D formulation is able to account for this, but the last version\nof Modflow 6 (6.3 at time of writing) does not support this in combination\nwith the Buoyancy package and using XT3D comes with an extra, significant\ncomputational burden. It is therefore easier to use a voronoi grid, for which\n[Xugrid](https://deltares.github.io/xugrid/index.html) has a very convenient\nmethod.\n\n"
      ]
    },
    {
      "cell_type": "code",
      "execution_count": null,
      "metadata": {
        "collapsed": false
      },
      "outputs": [],
      "source": [
        "grid = grid_triangles.tesselate_centroidal_voronoi()\n\nfig, ax = plt.subplots()\nxu.plot.line(grid)\nax.set_aspect(1)"
      ]
    },
    {
      "cell_type": "markdown",
      "metadata": {},
      "source": [
        "Create arrays\n\n"
      ]
    },
    {
      "cell_type": "code",
      "execution_count": null,
      "metadata": {
        "collapsed": false
      },
      "outputs": [],
      "source": [
        "nface = grid.n_face\nnlayer = 15\n\nlayer = np.arange(nlayer, dtype=int) + 1\n\nidomain = xu.UgridDataArray(\n    xr.DataArray(\n        np.ones((nlayer, nface), dtype=np.int32),\n        coords={\"layer\": layer},\n        dims=[\"layer\", grid.face_dimension],\n    ),\n    grid=grid,\n)\nicelltype = xu.full_like(idomain, 0)\nk = xu.full_like(idomain, k_value, dtype=float)\nk33 = k.copy()\n\ntop = 0.0\nbottom = xr.DataArray(top - (layer * 10.0), dims=[\"layer\"])"
      ]
    },
    {
      "cell_type": "markdown",
      "metadata": {},
      "source": [
        "## Recharge\n\nWe need a recharge rate for the fluid and a recharge rate for the solute. The\nfluid recharge rate is volumetric and per unit area, so the unit is\nlength/time. The solute recharge rate is the concentration of solute in the\nrecharge, and has concentration units.\n\n"
      ]
    },
    {
      "cell_type": "code",
      "execution_count": null,
      "metadata": {
        "collapsed": false
      },
      "outputs": [],
      "source": [
        "rch_rate = xu.full_like(idomain.sel(layer=1), 0.001, dtype=float)\nrch_concentration = xu.full_like(rch_rate, min_concentration)\nrch_concentration = rch_concentration.expand_dims(species=[\"salinity\"])"
      ]
    },
    {
      "cell_type": "markdown",
      "metadata": {},
      "source": [
        "Unlike a recharge boundary, with a prescribed head boundary we don't know a\npriori whether water will flow in over the boundary or leave across the\nboundary. If water flows into the model over the boundary, it carries a\nprescribed solute concentration. If it leaves, it leaves with the\nconcentration that was computed for the cell.\n\nIn this example we set the prescribed head value to 0.0 and the external\nconcentration to 35.0 as well. The boundary only operates on the top layer.\n\n"
      ]
    },
    {
      "cell_type": "code",
      "execution_count": null,
      "metadata": {
        "collapsed": false
      },
      "outputs": [],
      "source": [
        "chd_location = xu.zeros_like(idomain.sel(layer=1), dtype=bool).ugrid.binary_dilation(\n    border_value=True\n)\nconstant_head = xu.full_like(idomain, 0.0, dtype=float).where(chd_location)\n# Approximate face area\nface_area = (1000.0 / 6) ** 2 * 0.5\n\nconductance = xu.full_like(idomain, face_area * k_value, dtype=float).where(\n    chd_location\n)\n\nconstant_concentration = xu.full_like(constant_head, max_concentration).where(\n    chd_location\n)\nconstant_concentration = constant_concentration.expand_dims(species=[\"salinity\"])"
      ]
    },
    {
      "cell_type": "markdown",
      "metadata": {},
      "source": [
        "## Add flow model to simulation\n\nSee the circle.py example for more information.\n\n"
      ]
    },
    {
      "cell_type": "code",
      "execution_count": null,
      "metadata": {
        "collapsed": false
      },
      "outputs": [],
      "source": [
        "gwf_model = imod.mf6.GroundwaterFlowModel()\ngwf_model[\"disv\"] = imod.mf6.VerticesDiscretization(\n    top=top, bottom=bottom, idomain=idomain\n)\ngwf_model[\"ghb\"] = imod.mf6.GeneralHeadBoundary(\n    constant_head,\n    conductance=conductance,\n    concentration=constant_concentration,\n    print_input=True,\n    print_flows=True,\n    save_flows=True,\n)\ngwf_model[\"ic\"] = imod.mf6.InitialConditions(start=0.0)\ngwf_model[\"npf\"] = imod.mf6.NodePropertyFlow(\n    icelltype=icelltype,\n    k=k,\n    k33=k33,\n    save_flows=True,\n)\ngwf_model[\"sto\"] = imod.mf6.SpecificStorage(\n    specific_storage=1.0e-5,\n    specific_yield=0.15,\n    transient=False,\n    convertible=0,\n)\ngwf_model[\"oc\"] = imod.mf6.OutputControl(save_head=\"last\", save_budget=\"last\")\ngwf_model[\"rch\"] = imod.mf6.Recharge(\n    rch_rate, concentration=rch_concentration, print_flows=True, save_flows=True\n)\n\nsimulation = imod.mf6.Modflow6Simulation(\"circle\")\nsimulation[\"flow\"] = gwf_model\nsimulation[\"flow_solver\"] = imod.mf6.Solution(\n    modelnames=[\"flow\"],\n    print_option=\"summary\",\n    outer_dvclose=1.0e-4,\n    outer_maximum=500,\n    under_relaxation=None,\n    inner_dvclose=1.0e-4,\n    inner_rclose=0.001,\n    inner_maximum=100,\n    linear_acceleration=\"bicgstab\",\n    scaling_method=None,\n    reordering_method=None,\n    relaxation_factor=0.97,\n)"
      ]
    },
    {
      "cell_type": "markdown",
      "metadata": {},
      "source": [
        "Set the timesteps, we want output each year, so we specify stress periods\nwhich last 1 year. However, timesteps of 1 year yield unstable results, so we\nset ``n_timesteps`` to 10, which sets the amount of timesteps within a stress\nperiod.\n\n"
      ]
    },
    {
      "cell_type": "code",
      "execution_count": null,
      "metadata": {
        "collapsed": false
      },
      "outputs": [],
      "source": [
        "simtimes = pd.date_range(start=\"2000-01-01\", end=\"2030-01-01\", freq=\"As\")\nsimulation.create_time_discretization(additional_times=simtimes)\nsimulation[\"time_discretization\"][\"n_timesteps\"] = 10"
      ]
    },
    {
      "cell_type": "markdown",
      "metadata": {},
      "source": [
        "## Buoyancy\nSince we are solving a variable density problem, we need to add the buoyancy\npackage. It will use the species \"salinity\" that we are simulating with a\ntransport model defined below.\n\n"
      ]
    },
    {
      "cell_type": "code",
      "execution_count": null,
      "metadata": {
        "collapsed": false
      },
      "outputs": [],
      "source": [
        "slope = (max_density - min_density) / (max_concentration - min_concentration)\ngwf_model[\"buoyancy\"] = imod.mf6.Buoyancy(\n    reference_density=min_density,\n    modelname=[\"transport\"],\n    reference_concentration=[min_concentration],\n    density_concentration_slope=[slope],\n    species=[\"salinity\"],\n)"
      ]
    },
    {
      "cell_type": "markdown",
      "metadata": {},
      "source": [
        "## Add transport model to simulation\n\nThe transport model requires the flow field inside the domain computed by the\nflow model. It also needs the fluxes over the boundary. It uses the same\ndiscretization as the flow model. Here we create a transport model for\nsalinity, derive sources and sinks based from the flow model, and tell it to\nuse the same discretization.\n\n"
      ]
    },
    {
      "cell_type": "code",
      "execution_count": null,
      "metadata": {
        "collapsed": false
      },
      "outputs": [],
      "source": [
        "transport_model = imod.mf6.GroundwaterTransportModel()\ntransport_model[\"ssm\"] = imod.mf6.SourceSinkMixing.from_flow_model(\n    gwf_model, \"salinity\"\n)\ntransport_model[\"disv\"] = gwf_model[\"disv\"]"
      ]
    },
    {
      "cell_type": "markdown",
      "metadata": {},
      "source": [
        "Now we define some transport packages for simulating the physical processes\nof advection, mechanical dispersion, and molecular diffusion dispersion. This\nexample is transient, and the volume available for storage is the porosity,\nin this case 0.10.\n\n"
      ]
    },
    {
      "cell_type": "code",
      "execution_count": null,
      "metadata": {
        "collapsed": false
      },
      "outputs": [],
      "source": [
        "al = 0.001\n\ntransport_model[\"dsp\"] = imod.mf6.Dispersion(\n    diffusion_coefficient=1e-4,\n    longitudinal_horizontal=al,\n    transversal_horizontal1=al * 0.1,\n    transversal_vertical=al * 0.01,\n    xt3d_off=False,\n    xt3d_rhs=False,\n)\ntransport_model[\"adv\"] = imod.mf6.AdvectionUpstream()\ntransport_model[\"mst\"] = imod.mf6.MobileStorageTransfer(porosity)"
      ]
    },
    {
      "cell_type": "markdown",
      "metadata": {},
      "source": [
        "Define the maximum concentration as the initial conditions, also output\noptions for the transport model, and assign the transport model to the\nsimulation as well.\n\n"
      ]
    },
    {
      "cell_type": "code",
      "execution_count": null,
      "metadata": {
        "collapsed": false
      },
      "outputs": [],
      "source": [
        "transport_model[\"ic\"] = imod.mf6.InitialConditions(start=max_concentration)\ntransport_model[\"oc\"] = imod.mf6.OutputControl(\n    save_concentration=\"last\", save_budget=\"last\"\n)\n\nsimulation[\"transport\"] = transport_model\nsimulation[\"transport_solver\"] = imod.mf6.Solution(\n    modelnames=[\"transport\"],\n    print_option=\"summary\",\n    outer_dvclose=1.0e-4,\n    outer_maximum=500,\n    under_relaxation=None,\n    inner_dvclose=1.0e-4,\n    inner_rclose=0.001,\n    inner_maximum=100,\n    linear_acceleration=\"bicgstab\",\n    scaling_method=None,\n    reordering_method=None,\n    relaxation_factor=0.97,\n)"
      ]
    },
    {
      "cell_type": "markdown",
      "metadata": {},
      "source": [
        "We'll create a new directory in which we will write and run the model.\n\n"
      ]
    },
    {
      "cell_type": "code",
      "execution_count": null,
      "metadata": {
        "collapsed": false
      },
      "outputs": [],
      "source": [
        "modeldir = imod.util.temporary_directory()\nsimulation.write(modeldir, binary=False)"
      ]
    },
    {
      "cell_type": "markdown",
      "metadata": {},
      "source": [
        "## Run the model\n\n<div class=\"alert alert-info\"><h4>Note</h4><p>The following lines assume the ``mf6`` executable is available on your\n  PATH. The examples introduction shortly describes how to add it to yours.</p></div>\n\n"
      ]
    },
    {
      "cell_type": "code",
      "execution_count": null,
      "metadata": {
        "collapsed": false
      },
      "outputs": [],
      "source": [
        "simulation.run()"
      ]
    },
    {
      "cell_type": "markdown",
      "metadata": {},
      "source": [
        "## Open the results\n\n"
      ]
    },
    {
      "cell_type": "code",
      "execution_count": null,
      "metadata": {
        "collapsed": false
      },
      "outputs": [],
      "source": [
        "sim_concentration = simulation.open_concentration().compute()\nsim_head = simulation.open_head().compute()"
      ]
    },
    {
      "cell_type": "markdown",
      "metadata": {},
      "source": [
        "## Assign coordinates to output\n\nThe model output does not feature very useful coordinate values for ``time``\nand ``z``, therefore it is best to assign these to the datasets for more\nunderstandable plots.\n\nFirst we have to compute values for a z coordinate. The\n\n"
      ]
    },
    {
      "cell_type": "code",
      "execution_count": null,
      "metadata": {
        "collapsed": false
      },
      "outputs": [],
      "source": [
        "interfaces = np.concatenate([[top], bottom.values])\nz = (interfaces[:-1] + interfaces[1:]) / 2\n\nz"
      ]
    },
    {
      "cell_type": "markdown",
      "metadata": {},
      "source": [
        "Assign these new coordinate values to the dataset\n\n"
      ]
    },
    {
      "cell_type": "code",
      "execution_count": null,
      "metadata": {
        "collapsed": false
      },
      "outputs": [],
      "source": [
        "coords = {\"time\": simtimes[1:], \"z\": (\"layer\", z)}\n\nsim_head = sim_head.assign_coords(**coords)\nsim_concentration = sim_concentration.assign_coords(**coords)"
      ]
    },
    {
      "cell_type": "markdown",
      "metadata": {},
      "source": [
        "## Visualize the results\n\nWe can quickly and easily visualize the output with the plotting functions\nprovided by xarray and xugrid:\n\n"
      ]
    },
    {
      "cell_type": "code",
      "execution_count": null,
      "metadata": {
        "collapsed": false
      },
      "outputs": [],
      "source": [
        "fig, ax = plt.subplots()\nsim_head.isel(time=-1, layer=0).ugrid.plot(ax=ax)\nax.set_aspect(1)"
      ]
    },
    {
      "cell_type": "markdown",
      "metadata": {},
      "source": [
        "We can draw a crossection through the center by selecting y=0, for which we\ncan plot the contours as follows:\n\n"
      ]
    },
    {
      "cell_type": "code",
      "execution_count": null,
      "metadata": {
        "collapsed": false
      },
      "outputs": [],
      "source": [
        "fig, ax = plt.subplots()\nsim_concentration.isel(time=-1).ugrid.sel(y=0).plot.contourf(\n    ax=ax, x=\"mesh2d_x\", y=\"z\", cmap=\"RdYlBu_r\"\n)"
      ]
    }
  ],
  "metadata": {
    "kernelspec": {
      "display_name": "Python 3",
      "language": "python",
      "name": "python3"
    },
    "language_info": {
      "codemirror_mode": {
        "name": "ipython",
        "version": 3
      },
      "file_extension": ".py",
      "mimetype": "text/x-python",
      "name": "python",
      "nbconvert_exporter": "python",
      "pygments_lexer": "ipython3",
      "version": "3.11.10"
    }
  },
  "nbformat": 4,
  "nbformat_minor": 0
}