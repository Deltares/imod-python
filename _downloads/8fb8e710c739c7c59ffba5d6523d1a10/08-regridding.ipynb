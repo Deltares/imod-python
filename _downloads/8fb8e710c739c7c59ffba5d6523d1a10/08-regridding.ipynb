{
  "cells": [
    {
      "cell_type": "markdown",
      "metadata": {},
      "source": [
        "\n# Regridding\n\n## Introduction\n\nMost MODFLOW 6 packages have spatial data arrays as input. These arrays are\ndiscrete: they are defined over the simulation grid and contain values\nassociated to each cell.\n\nRegridding these package means: create a new package with spatial data arrays\ndefined over a different grid. Computing what the values in these new arrays\nshould be, is done by xugrid.\n\nxugrid will compute a regridded array based on:\n\n- the original array\n- the original discretization (this is described in the coordinates of the\n  original arry)\n- the new discretization\n- a regridding method\n\nMore information on the available regridding methods can be found in the xugrid\ndocumentation https://deltares.github.io/xugrid/user_guide.html\n\nThe regridding method that should be used depends on the property being\nregridded. For example a point-based property (whose value do not depend\nintrinsically on the grid block size) such as temperature or density can be\nregridded by an averaging approach (for upscaling) or sampling (for\ndownscaling). Volume-based properties (whose values do depend on the grid block\nsize) include (water) mass and pore volume of a gridblock, and the regridding\nmethod should be chosen to reflect that. Finally regridding methods for\nconductivity-like properties follow the rules for parallel or serial resistors-\nat least when the tensor rotation angles are constant or comparable in the\ninvolved gridblocks.\n\nNote that the different regridding methods may have a different output domain\nwhen regridding: if the original array has no-data values in some cells, then\nthe output array may have no-data values as well, and where these end up depends\non the chosen regridding method. Also note that regridding is only possible in\nthe xy-plane, and not across the layer dimension. The output array will have the\nsame number of layers as the input array.\n"
      ]
    },
    {
      "cell_type": "code",
      "execution_count": null,
      "metadata": {
        "collapsed": false
      },
      "outputs": [],
      "source": [
        ""
      ]
    },
    {
      "cell_type": "markdown",
      "metadata": {},
      "source": [
        "## Obtaining the final (i)domain\n\nIn many real-world models, some cells will be inactive or marked as \"vertical\npassthrough\" (VPT) in the idomain array of the simulation. Some packages\nrequire that all cells that are inactictive or VPT in idomain are excluded\nfrom the package as well. An example is the :class:`imod.mf6.NodePropertyFlow`\npackage: cells that are inactive or VPT in idomain, should not have\nconductivity data in the npf package. Therefore at the end of the regridding\nprocess, a final step consists in enforcing consistency between those of\nidomain and all the packages. This is a 2-step process:\n\n1) for cells that do not have inputs in crucial packages like npf or storage,\n   idomain will be set to inactive.\n2) for cells that are marked as inactive or VPT in idomain, all package inputs\n   will be removed from all the packages\n\nThis synchronization step between idomain and the packages is automated, and it\nis carried out when calling regrid_like on the simulation object or the model\nobject. There are 2 caveats:\n\n1) the synchronization between idomain and the package domains is done on the\n   model-level. If we have a simulation containing both a flow model and a\n   transport model then idomain for flow is determined independent from that for\n   transport. These models may therefore end up using different domains (this\n   may lead to undesired results, so a manual synchronization may be necessary\n   between the flow regridding and the transport regridding) This manual\n   synchronization can be done using the \"mask_all_packages\" function- this\n   function removes input from all packages that are marked as inactive or VPT\n   in the idomain passed to this method.\n2) The idomain/packages synchronization step is carried out when regridding a\n   model, and when regridding a model it will use default methods for all the\n   packages. So if you have regridded some packages yourself with non-default\n   methods, then these are not taken into account during this synchonization\n   step.\n\n## Regridding using default methods\n\nThe regrid_like function is available on packages, models and simulations.\nWhen the default methods are acceptable, regridding the whole simulation is\nthe most convenient from a user-perspective.\n\n"
      ]
    },
    {
      "cell_type": "code",
      "execution_count": null,
      "metadata": {
        "collapsed": false
      },
      "outputs": [],
      "source": [
        "import imod\n\ntmpdir = imod.util.temporary_directory()\n\noriginal_simulation = imod.data.hondsrug_simulation(tmpdir / \"hondsrug_saved\")"
      ]
    },
    {
      "cell_type": "markdown",
      "metadata": {},
      "source": [
        "To reduce computational overhead for this example, we are going to clip off\nmost of the timesteps.\n\n"
      ]
    },
    {
      "cell_type": "code",
      "execution_count": null,
      "metadata": {
        "collapsed": false
      },
      "outputs": [],
      "source": [
        "original_simulation = original_simulation.clip_box(time_max=\"2010-01-01\")"
      ]
    },
    {
      "cell_type": "markdown",
      "metadata": {},
      "source": [
        "Let's take a look at the original discretization:\n\n"
      ]
    },
    {
      "cell_type": "code",
      "execution_count": null,
      "metadata": {
        "collapsed": false
      },
      "outputs": [],
      "source": [
        "original_simulation[\"GWF\"][\"dis\"]"
      ]
    },
    {
      "cell_type": "markdown",
      "metadata": {},
      "source": [
        "We want to regrid this to the following target grid:\n\n"
      ]
    },
    {
      "cell_type": "code",
      "execution_count": null,
      "metadata": {
        "collapsed": false
      },
      "outputs": [],
      "source": [
        "import xarray as xr\n\nimport imod\n\ndx = 100\ndy = -100\nxmin = 237500.0\nxmax = 250000.0\nymin = 559000.0\nymax = 564000.0\ntarget_grid = imod.util.empty_2d(\n    dx=dx, dy=dy, xmin=xmin, xmax=xmax, ymin=ymin, ymax=ymax\n)\n\ntarget_grid"
      ]
    },
    {
      "cell_type": "markdown",
      "metadata": {},
      "source": [
        "This is a grid of nans, and we require a grid of ones, which can create with\nxarray:\n\n"
      ]
    },
    {
      "cell_type": "code",
      "execution_count": null,
      "metadata": {
        "collapsed": false
      },
      "outputs": [],
      "source": [
        "target_grid = xr.ones_like(target_grid)\n\ntarget_grid"
      ]
    },
    {
      "cell_type": "markdown",
      "metadata": {},
      "source": [
        "Now regrid the simulation (without recharge):\n\n"
      ]
    },
    {
      "cell_type": "code",
      "execution_count": null,
      "metadata": {
        "collapsed": false
      },
      "outputs": [],
      "source": [
        "regridded_simulation = original_simulation.regrid_like(\"regridded\", target_grid)"
      ]
    },
    {
      "cell_type": "markdown",
      "metadata": {},
      "source": [
        "Let's look at the discretization again:\n\n"
      ]
    },
    {
      "cell_type": "code",
      "execution_count": null,
      "metadata": {
        "collapsed": false
      },
      "outputs": [],
      "source": [
        "regridded_simulation[\"GWF\"][\"dis\"]"
      ]
    },
    {
      "cell_type": "markdown",
      "metadata": {},
      "source": [
        "All packages have been regridded, for example the NPF package:\n\n"
      ]
    },
    {
      "cell_type": "code",
      "execution_count": null,
      "metadata": {
        "collapsed": false
      },
      "outputs": [],
      "source": [
        "regridded_simulation[\"GWF\"][\"npf\"]"
      ]
    },
    {
      "cell_type": "markdown",
      "metadata": {},
      "source": [
        "Let's make a comparison plot of the hydraulic conductivities:\n\n"
      ]
    },
    {
      "cell_type": "code",
      "execution_count": null,
      "metadata": {
        "collapsed": false
      },
      "outputs": [],
      "source": [
        "import matplotlib.pyplot as plt\nimport numpy as np\n\nfig, axes = plt.subplots(nrows=2, sharex=True)\nplot_kwargs = {\"colors\": \"viridis\", \"levels\": np.linspace(0.0, 100.0, 21), \"fig\": fig}\n\nimod.visualize.spatial.plot_map(\n    original_simulation[\"GWF\"][\"npf\"][\"k\"].sel(layer=3), ax=axes[0], **plot_kwargs\n)\nimod.visualize.spatial.plot_map(\n    regridded_simulation[\"GWF\"][\"npf\"][\"k\"].sel(layer=3), ax=axes[1], **plot_kwargs\n)\n\naxes[0].set_ylabel(\"original\")\naxes[1].set_ylabel(\"regridded\")"
      ]
    },
    {
      "cell_type": "markdown",
      "metadata": {},
      "source": [
        "## Regridding using non-default methods\n\nWhen non-default methods are used for one or more packages, these should be\nregridded separately. In that case, the most convenient approach is likely:\n\n- pop the packages that should use non-default methods from the source\n  simulation (the popping is optional, and is only recommended for packages\n  whose presence is not mandatory for validation.)\n- regrid the source simulation: this takes care of all the packages that\n  should use default methods.\n- regrid the package(s) where you want to use non-standard rergridding methods\n  indivudually starting from the packages in the source simulation\n- insert the custom-regridded packages to the regridded simulation (or replace\n  the package regridded with default methods with the one you just regridded\n  with non-default methods if it was not popped)\n\nIn code, consider an example where we want to regrid the recharge package\nusing non default methods then we would do the following. First we'll load\nsome example simulation. There is a separate example contained in\n:doc:`/examples/mf6/hondsrug` that you should look at if you are interested in\nthe model building\n\n"
      ]
    },
    {
      "cell_type": "markdown",
      "metadata": {},
      "source": [
        "Set up the input needed for custom regridding. Create a regridder\nweight-cache. This object can (and should) be reused for all the packages that\nundergo custom regridding at this stage.\n\n"
      ]
    },
    {
      "cell_type": "code",
      "execution_count": null,
      "metadata": {
        "collapsed": false
      },
      "outputs": [],
      "source": [
        "from imod.util.regrid import RegridderWeightsCache\n\nregrid_cache = RegridderWeightsCache()\n\nregrid_cache"
      ]
    },
    {
      "cell_type": "markdown",
      "metadata": {},
      "source": [
        "Next, we'll remove the recharge package and obtain it as a variable. We'll do\nthis for later use.\n\n"
      ]
    },
    {
      "cell_type": "code",
      "execution_count": null,
      "metadata": {
        "collapsed": false
      },
      "outputs": [],
      "source": [
        "original_rch_package = original_simulation[\"GWF\"].pop(\"rch\")\n\noriginal_rch_package"
      ]
    },
    {
      "cell_type": "markdown",
      "metadata": {},
      "source": [
        "Regrid the recharge package with a custom regridder. In this case we opt for\nthe centroid locator regridder. This regridder is similar to using a \"nearest\nneighbour\" lookup.\n\n"
      ]
    },
    {
      "cell_type": "code",
      "execution_count": null,
      "metadata": {
        "collapsed": false
      },
      "outputs": [],
      "source": [
        "from imod.common.utilities.regrid import RegridderType\nfrom imod.mf6.regrid import RechargeRegridMethod\n\nregridder_types = RechargeRegridMethod(rate=(RegridderType.CENTROIDLOCATOR,))\n\nregridded_recharge = original_rch_package.regrid_like(\n    target_grid,\n    regrid_cache=regrid_cache,\n    regridder_types=regridder_types,\n)\n\nregridded_recharge"
      ]
    },
    {
      "cell_type": "markdown",
      "metadata": {},
      "source": [
        "Next, add the recharge package to the regridded simulation\n\n"
      ]
    },
    {
      "cell_type": "code",
      "execution_count": null,
      "metadata": {
        "collapsed": false
      },
      "outputs": [],
      "source": [
        "regridded_simulation[\"GWF\"][\"rch\"] = regridded_recharge\n\n# We can also reattach the original again\noriginal_simulation[\"GWF\"][\"rch\"] = original_rch_package"
      ]
    },
    {
      "cell_type": "markdown",
      "metadata": {},
      "source": [
        "## Comparison with histograms\n\nIn the next segment we will compare the input of the models on different\ngrids. We advice to always check how your input is regridded. In this example\nwe upscaled grid, many input parameters are regridded with a ``mean`` method.\nThis means that their input range is reduced, which can be seen in tailings in\nthe histograms becoming shorter\n\n"
      ]
    },
    {
      "cell_type": "code",
      "execution_count": null,
      "metadata": {
        "collapsed": false
      },
      "outputs": [],
      "source": [
        "def plot_histograms_side_by_side(array_original, array_regridded, title):\n    \"\"\"This function creates a plot of normalized histograms of the 2 input\n    DataArray. It plots a title above each histogram.\"\"\"\n    _, (ax0, ax1) = plt.subplots(1, 2, sharex=True, sharey=True, tight_layout=True)\n    array_original.plot.hist(ax=ax0, bins=25, density=True)\n    array_regridded.plot.hist(ax=ax1, bins=25, density=True)\n    ax0.title.set_text(f\"{title} (original)\")\n    ax1.title.set_text(f\"{title} (regridded)\")"
      ]
    },
    {
      "cell_type": "markdown",
      "metadata": {},
      "source": [
        "Compare constant head arrays.\n\n"
      ]
    },
    {
      "cell_type": "code",
      "execution_count": null,
      "metadata": {
        "collapsed": false
      },
      "outputs": [],
      "source": [
        "plot_histograms_side_by_side(\n    original_simulation[\"GWF\"][\"chd\"][\"head\"],\n    regridded_simulation[\"GWF\"][\"chd\"][\"head\"],\n    \"chd head\",\n)"
      ]
    },
    {
      "cell_type": "markdown",
      "metadata": {},
      "source": [
        "Compare horizontal hydraulic conductivities.\n\n"
      ]
    },
    {
      "cell_type": "code",
      "execution_count": null,
      "metadata": {
        "collapsed": false
      },
      "outputs": [],
      "source": [
        "plot_histograms_side_by_side(\n    original_simulation[\"GWF\"][\"npf\"][\"k\"],\n    regridded_simulation[\"GWF\"][\"npf\"][\"k\"],\n    \"npf k\",\n)"
      ]
    },
    {
      "cell_type": "markdown",
      "metadata": {},
      "source": [
        "Compare vertical hydraulic conductivities.\n\n"
      ]
    },
    {
      "cell_type": "code",
      "execution_count": null,
      "metadata": {
        "collapsed": false
      },
      "outputs": [],
      "source": [
        "plot_histograms_side_by_side(\n    original_simulation[\"GWF\"][\"npf\"][\"k33\"],\n    regridded_simulation[\"GWF\"][\"npf\"][\"k33\"],\n    \"npf k33\",\n)"
      ]
    },
    {
      "cell_type": "markdown",
      "metadata": {},
      "source": [
        "Compare starting heads.\n\n"
      ]
    },
    {
      "cell_type": "code",
      "execution_count": null,
      "metadata": {
        "collapsed": false
      },
      "outputs": [],
      "source": [
        "plot_histograms_side_by_side(\n    original_simulation[\"GWF\"][\"ic\"][\"start\"],\n    regridded_simulation[\"GWF\"][\"ic\"][\"start\"],\n    \"ic start\",\n)"
      ]
    },
    {
      "cell_type": "markdown",
      "metadata": {},
      "source": [
        "Compare river stages.\n\n"
      ]
    },
    {
      "cell_type": "code",
      "execution_count": null,
      "metadata": {
        "collapsed": false
      },
      "outputs": [],
      "source": [
        "plot_histograms_side_by_side(\n    original_simulation[\"GWF\"][\"riv\"][\"stage\"],\n    regridded_simulation[\"GWF\"][\"riv\"][\"stage\"],\n    \"riv stage\",\n)"
      ]
    },
    {
      "cell_type": "markdown",
      "metadata": {},
      "source": [
        "Compare river bottom elevations.\n\n"
      ]
    },
    {
      "cell_type": "code",
      "execution_count": null,
      "metadata": {
        "collapsed": false
      },
      "outputs": [],
      "source": [
        "plot_histograms_side_by_side(\n    original_simulation[\"GWF\"][\"riv\"][\"bottom_elevation\"],\n    regridded_simulation[\"GWF\"][\"riv\"][\"bottom_elevation\"],\n    \"riv bottom elevation\",\n)"
      ]
    },
    {
      "cell_type": "markdown",
      "metadata": {},
      "source": [
        "Compare riverbed conductance.\n\n"
      ]
    },
    {
      "cell_type": "code",
      "execution_count": null,
      "metadata": {
        "collapsed": false
      },
      "outputs": [],
      "source": [
        "plot_histograms_side_by_side(\n    original_simulation[\"GWF\"][\"riv\"][\"conductance\"],\n    regridded_simulation[\"GWF\"][\"riv\"][\"conductance\"],\n    \"riv conductance\",\n)"
      ]
    },
    {
      "cell_type": "markdown",
      "metadata": {},
      "source": [
        "Compare recharge rates.\n\n"
      ]
    },
    {
      "cell_type": "code",
      "execution_count": null,
      "metadata": {
        "collapsed": false
      },
      "outputs": [],
      "source": [
        "plot_histograms_side_by_side(\n    original_simulation[\"GWF\"][\"rch\"][\"rate\"],\n    regridded_simulation[\"GWF\"][\"rch\"][\"rate\"],\n    \"rch rate\",\n)"
      ]
    },
    {
      "cell_type": "markdown",
      "metadata": {},
      "source": [
        "Compare drainage elevations.\n\n"
      ]
    },
    {
      "cell_type": "code",
      "execution_count": null,
      "metadata": {
        "collapsed": false
      },
      "outputs": [],
      "source": [
        "plot_histograms_side_by_side(\n    original_simulation[\"GWF\"][\"drn-pipe\"][\"elevation\"],\n    regridded_simulation[\"GWF\"][\"drn-pipe\"][\"elevation\"],\n    \"drn-pipe elevation\",\n)"
      ]
    },
    {
      "cell_type": "markdown",
      "metadata": {},
      "source": [
        "Compare drain conductances.\n\n"
      ]
    },
    {
      "cell_type": "code",
      "execution_count": null,
      "metadata": {
        "collapsed": false
      },
      "outputs": [],
      "source": [
        "plot_histograms_side_by_side(\n    original_simulation[\"GWF\"][\"drn-pipe\"][\"conductance\"],\n    regridded_simulation[\"GWF\"][\"drn-pipe\"][\"conductance\"],\n    \"drn-pipe conductance\",\n)"
      ]
    },
    {
      "cell_type": "markdown",
      "metadata": {},
      "source": [
        "## Compare simulation outputs\n\nLet's compare outputs now.\n\n"
      ]
    },
    {
      "cell_type": "code",
      "execution_count": null,
      "metadata": {
        "collapsed": false
      },
      "outputs": [],
      "source": [
        "# Write simulation\noriginal_simulation.write(tmpdir / \"original\")\n# Run and open heads\noriginal_simulation.run()\nhds_original = original_simulation.open_head()\n\nhds_original"
      ]
    },
    {
      "cell_type": "code",
      "execution_count": null,
      "metadata": {
        "collapsed": false
      },
      "outputs": [],
      "source": [
        "regridded_simulation.write(tmpdir / \"regridded\", validate=False)\nregridded_simulation.run()\nhds_regridded = regridded_simulation.open_head()\n\nhds_regridded"
      ]
    },
    {
      "cell_type": "markdown",
      "metadata": {},
      "source": [
        "Let's make a comparison plot of the regridded heads.\n\n"
      ]
    },
    {
      "cell_type": "code",
      "execution_count": null,
      "metadata": {
        "collapsed": false
      },
      "outputs": [],
      "source": [
        "fig, axes = plt.subplots(nrows=2, sharex=True)\nplot_kwargs = {\"colors\": \"viridis\", \"levels\": np.linspace(0.0, 11.0, 12), \"fig\": fig}\n\nimod.visualize.spatial.plot_map(\n    hds_original.isel(layer=6, time=-1), ax=axes[0], **plot_kwargs\n)\nimod.visualize.spatial.plot_map(\n    hds_regridded.isel(layer=6, time=-1), ax=axes[1], **plot_kwargs\n)\n\naxes[0].set_ylabel(\"original\")\naxes[1].set_ylabel(\"regridded\")"
      ]
    },
    {
      "cell_type": "markdown",
      "metadata": {},
      "source": [
        "## A note on regridding conductivity\n\nIn the npf package, it is possible to use for definining the conductivity\ntensor:\n\n- 1 array (K)\n- 2 arrays (K and K22)\n- 3 arrays (K, K22, K33)\n\nIf 1 array is given the tensor is called isotropic. Defining only K gives the\nsame behavior as specifying K, K22 and K33 with the same value. When\nregridding, K33 has a default method different from that of K and K22, but it\ncan only be applied if K33 exists in the source model in the first place. So\nit is recommended to introduce K33 as a separate array in the source model\neven if it is isotropic. Also note that default regridding methods were chosen\nassuming that K and K22 are roughly horizontal and K33 roughly vertical. But\nthis may not be the case if the input arrays angle2 and/or angle3 have large\nvalues.\n\n## Regridding boundary conditions\n\nSpecial care must be taken when regridding boundary conditions, and it is\nrecommended that users verify the balance output of a regridded simulation and\ncompare it to the original model. If the regridded simulation is a good\nrepresentation of the original simulation, the mass contributions on the\nbalance by the different boundary conditions should be comparable in both\nsimulations. To achieve this, it may be necessary to tweak the input or the\nregridding methods. An example of this is upscaling recharge (so the target\ngrid has coarser cells than the source grid). Its default method is averaging,\nwith the following rules:\n\n- if a cell in the source grid is inactive in the source recharge package\n  (meaning no recharge), it will not count when averaging. So if a target cell\n  has partial overlap with one source recharge cell, and the rest of the\n  target cell has no overlap with any source active recharge cell, it will get\n  the recharge of the one cell it has overlap with. But since the target cell\n  is larger, this effectively means the regridded recharge will be more in the\n  regridded simulation than it was in the source simulation\n- but we do the same regridding this time assigning a zero recharge to cells\n  without recharge then the averaging will take the zero-recharge cells into\n  account and the regridded recharge will be the same as the source recharge.\n\n\n## A note on regridding transport\n\nTransport simulations can be unstable if constraints related to the grid\nPeclet number and the courant number are exceeded. This can easily happen when\nregridding. It may be necessary to reduce the simulation's time step size\nespecially when downscaling, to prevent numerical issues. Increasing\ndispersivities or the molecular diffusion constant can also help to stabilize\nthe simulation. Inversely, when upscaling, a larger time step size can be\nacceptable.\n\n\n## Unsupported packages\n\nSome packages cannot be regridded. This includes the Lake package and the UZF\npackage. Such packages should be removed from the simulation before\nregridding, and then new packages should be created by the user and then added\nto the regridded simulation.\n\n## Listing all default regridding methods\n\n### MODFLOW 6\nThis code snippet prints all default methods:\n\n\n"
      ]
    },
    {
      "cell_type": "code",
      "execution_count": null,
      "metadata": {
        "collapsed": false
      },
      "outputs": [],
      "source": [
        "import inspect\nimport sys\nfrom dataclasses import asdict\n\nimport pandas as pd\n\n\ndef collect_regrid_methods(classes: list):\n    \"\"\"Collect all regrid methods from all list of package classes.\"\"\"\n    regrid_method_setup = {\n        \"package name\": [],\n        \"array name\": [],\n        \"method name\": [],\n        \"function name\": [],\n    }\n    regrid_method_table = pd.DataFrame(regrid_method_setup)\n    counter = 0\n    for obj in classes:\n        if hasattr(obj, \"_regrid_method\"):\n            package_name = obj.__name__\n            regrid_methods = asdict(obj.get_regrid_methods())\n            for array_name in regrid_methods.keys():\n                method_name = regrid_methods[array_name][0].name\n                function_name = \"\"\n                if len(regrid_methods[array_name]) > 0:\n                    function_name = regrid_methods[array_name][1]\n                regrid_method_table.loc[counter] = (\n                    package_name,\n                    array_name,\n                    method_name,\n                    function_name,\n                )\n                counter = counter + 1\n\n    # Set multi index to group with packages\n    regrid_method_table = regrid_method_table.set_index([\"package name\", \"array name\"])\n    return regrid_method_table\n\n\n# Get all classes in the imod.mf6 module (e.g.\n# :class:`imod.mf6.NodePropertyFlow`, :class:`imod.mf6.GroundwaterFlowModel`,\n# :class:`imod.mf6.River`)\nmf6_classes = [\n    obj for _, obj in inspect.getmembers(sys.modules[\"imod.mf6\"], inspect.isclass)\n]\n\nmf6_regrid_methods = collect_regrid_methods(mf6_classes)\n\n# Pandas by default displays at max 60 rows, which this table exceeds.\nnrows = mf6_regrid_methods.shape[0]\n# Configure pandas to increase the max amount of displayable rows.\npd.set_option(\"display.max_rows\", nrows + 1)\n# Display rows:\nmf6_regrid_methods"
      ]
    },
    {
      "cell_type": "markdown",
      "metadata": {},
      "source": [
        "### MetaSWAP\n\nLet's list all default regridding methods for all MetaSWAP packages:\n\n"
      ]
    },
    {
      "cell_type": "code",
      "execution_count": null,
      "metadata": {
        "collapsed": false
      },
      "outputs": [],
      "source": [
        "msw_classes = [\n    obj for _, obj in inspect.getmembers(sys.modules[\"imod.msw\"], inspect.isclass)\n]\n\nmsw_regrid_methods = collect_regrid_methods(msw_classes)\n\nmsw_regrid_methods"
      ]
    }
  ],
  "metadata": {
    "kernelspec": {
      "display_name": "Python 3",
      "language": "python",
      "name": "python3"
    },
    "language_info": {
      "codemirror_mode": {
        "name": "ipython",
        "version": 3
      },
      "file_extension": ".py",
      "mimetype": "text/x-python",
      "name": "python",
      "nbconvert_exporter": "python",
      "pygments_lexer": "ipython3",
      "version": "3.12.12"
    }
  },
  "nbformat": 4,
  "nbformat_minor": 0
}