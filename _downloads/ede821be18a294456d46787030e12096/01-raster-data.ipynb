{
  "cells": [
    {
      "cell_type": "markdown",
      "metadata": {},
      "source": [
        "\n# Raster data and xarray\n\nGeospatial data primarily comes in two forms: raster data and vector data.\nThis guide focuses on the first.\n\nRaster data consists of rows and columns of rectangular cells. Their location\nin space is defined by the number of rows, the number of columns, a cell size\nalong the rows, a cell size along the columns, the origin (x, y), and\noptionally rotation (x, y) -- an `affine`_ matrix.\n\nTypical examples of file formats containing raster data are:\n\n* GeoTIFF\n* ESRII ASCII\n* netCDF\n* IDF\n\nIn groundwater modeling, data commonly stored in raster format are:\n\n* Layer topology: the tops and bottoms of geohydrological layers\n* Layer properties: conductivity of aquifers and aquitards\n* Model output: heads or cell by cell flows\n\nThese data consist of values for every single cell. Xarray provides many\nconveniences for such data, such as plotting or selecting. To demonstrate,\nwe'll get some sample data provided with the imod package.\n"
      ]
    },
    {
      "cell_type": "code",
      "execution_count": null,
      "metadata": {
        "collapsed": false
      },
      "outputs": [],
      "source": [
        "import xarray as xr"
      ]
    },
    {
      "cell_type": "code",
      "execution_count": null,
      "metadata": {
        "collapsed": false
      },
      "outputs": [],
      "source": [
        "import imod\n\nelevation = imod.data.ahn()[\"ahn\"]\nelevation"
      ]
    },
    {
      "cell_type": "markdown",
      "metadata": {},
      "source": [
        "## Two dimensions: x, y\n\nThis dataset represents some surface elevation in the west of the\nNetherlands, in the form of an xarray DataArray.\n\nXarray provides a \"rich\" representation of this data, note the x and y coordinates\nare shown above. We can use these coordinates for plotting, selecting, etc.\n\n"
      ]
    },
    {
      "cell_type": "code",
      "execution_count": null,
      "metadata": {
        "collapsed": false
      },
      "outputs": [],
      "source": [
        "elevation.plot()"
      ]
    },
    {
      "cell_type": "markdown",
      "metadata": {},
      "source": [
        "This creates an informative plot.\n\nWe can also easily make a selection of a 10 by 10 km square, and plot the\nresult:\n\n"
      ]
    },
    {
      "cell_type": "code",
      "execution_count": null,
      "metadata": {
        "collapsed": false
      },
      "outputs": [],
      "source": [
        "selection = elevation.sel(x=slice(100_000.0, 110_000.0), y=slice(460_000.0, 450_000.0))\nselection.plot()"
      ]
    },
    {
      "cell_type": "markdown",
      "metadata": {},
      "source": [
        "## More dimensions\n\nRaster data can also be \"stacked\" to represent additional dimensions, such as\nheight or time. Xarray is fully N-dimensional, and can directly represent\nthese data.\n\nLet's start with a three dimensional example: a geohydrological layer model.\n\n"
      ]
    },
    {
      "cell_type": "code",
      "execution_count": null,
      "metadata": {
        "collapsed": false
      },
      "outputs": [],
      "source": [
        "layermodel = imod.data.hondsrug_layermodel()\nlayermodel"
      ]
    },
    {
      "cell_type": "markdown",
      "metadata": {},
      "source": [
        "This dataset contains multiple variables. We can take a closer look at the\nthe \"top\" variable, which represents the top of every layer.\n\n"
      ]
    },
    {
      "cell_type": "code",
      "execution_count": null,
      "metadata": {
        "collapsed": false
      },
      "outputs": [],
      "source": [
        "top = layermodel[\"top\"]\ntop"
      ]
    },
    {
      "cell_type": "markdown",
      "metadata": {},
      "source": [
        "This DataArray has three dimensions: layer, y, x. We can't make a planview\nplot of this entire dataset: every (x, y) locations has as many values as\nlayers. A single layer can be selected and shown as follows:\n\n"
      ]
    },
    {
      "cell_type": "code",
      "execution_count": null,
      "metadata": {
        "collapsed": false
      },
      "outputs": [],
      "source": [
        "top.sel(layer=1).plot()"
      ]
    },
    {
      "cell_type": "markdown",
      "metadata": {},
      "source": [
        "Xarray doesn't favor specific dimensions. We can select a value along the\ny-axis just as easily, to create a cross-section.\n\n"
      ]
    },
    {
      "cell_type": "code",
      "execution_count": null,
      "metadata": {
        "collapsed": false
      },
      "outputs": [],
      "source": [
        "section = top.sel(y=560_000.0, method=\"nearest\")\nsection.plot.line(x=\"x\")"
      ]
    },
    {
      "cell_type": "markdown",
      "metadata": {},
      "source": [
        "Xarray provides us a lot of convenience compared to working with traditional\ntwo dimensional rasters: rather than continuously loop over the data of single\ntimesteps or layers, we can process them in a single command.\n\nFor example, to compute the thickness of every layer:\n\n"
      ]
    },
    {
      "cell_type": "code",
      "execution_count": null,
      "metadata": {
        "collapsed": false
      },
      "outputs": [],
      "source": [
        "thickness = layermodel[\"top\"] - layermodel[\"bottom\"]\nthickness"
      ]
    },
    {
      "cell_type": "markdown",
      "metadata": {},
      "source": [
        "This is easily multiplied, then summed over the layer dimensions to provide\nus a map of the total transmissivity:\n\n"
      ]
    },
    {
      "cell_type": "code",
      "execution_count": null,
      "metadata": {
        "collapsed": false
      },
      "outputs": [],
      "source": [
        "transmissivity = layermodel[\"k\"] * thickness\ntotal = transmissivity.sum(\"layer\")\ntotal.plot()"
      ]
    },
    {
      "cell_type": "markdown",
      "metadata": {},
      "source": [
        "## Input and output\n\nThe imod package started as a collection of functions to read IDF files\ninto xarray DataArrays. By convention, IDF files store the coordinates\nof the extra dimensions (layer, time) in the file name.\n:py:func:`imod.idf.save` will automatically generate these names from\na DataArray.\n\nLet's demonstrate by writing the transmissivity computed above to IDF.\n(We'll do this in a temporary directory to keep things tidy.)\n\n"
      ]
    },
    {
      "cell_type": "code",
      "execution_count": null,
      "metadata": {
        "collapsed": false
      },
      "outputs": [],
      "source": [
        "tempdir = imod.util.temporary_directory()\nimod.idf.save(tempdir / \"transmissivity\", transmissivity)"
      ]
    },
    {
      "cell_type": "markdown",
      "metadata": {},
      "source": [
        "<div class=\"alert alert-info\"><h4>Note</h4><p>``tempdir`` is a Python ``pathlib.Path`` object. These objects\n  are very convenient for working with paths; we can easily check\n  if paths exists, join paths with ``/``, etc.</p></div>\n\nLet's check which files have been written in the temporary directory:\n\n"
      ]
    },
    {
      "cell_type": "code",
      "execution_count": null,
      "metadata": {
        "collapsed": false
      },
      "outputs": [],
      "source": [
        "filenames = [path.name for path in tempdir.iterdir()]\nprint(\"\\n\".join(filenames))"
      ]
    },
    {
      "cell_type": "markdown",
      "metadata": {},
      "source": [
        "Just as easily, we can read all IDFs back into a single DataArray.\nWe can do so by using a wildcard. These wildcards function according to\nthe rules of `Glob`_ via the `python glob module`_.\n\nNote that every IDF has to have identical x-y coordinates: files with\ndifferent cell sizes or extents will not be combined automatically.\n\n"
      ]
    },
    {
      "cell_type": "code",
      "execution_count": null,
      "metadata": {
        "collapsed": false
      },
      "outputs": [],
      "source": [
        "back = imod.idf.open(tempdir / \"*.idf\")\nback"
      ]
    },
    {
      "cell_type": "markdown",
      "metadata": {},
      "source": [
        "These glob patterns are quite versatile, and may be used to filter as well.\n\n"
      ]
    },
    {
      "cell_type": "code",
      "execution_count": null,
      "metadata": {
        "collapsed": false
      },
      "outputs": [],
      "source": [
        "selection = imod.idf.open(tempdir / \"transmissivity_l[1-5].idf\")\nselection"
      ]
    },
    {
      "cell_type": "markdown",
      "metadata": {},
      "source": [
        "Rather commonly, the paths of the IDFs are not named according to consistent\nrules. In such cases, we can manually specify how the name should be\ninterpreted via the ``pattern`` argument.\n\n"
      ]
    },
    {
      "cell_type": "code",
      "execution_count": null,
      "metadata": {
        "collapsed": false
      },
      "outputs": [],
      "source": [
        "back = imod.idf.open(tempdir / \"*.idf\", pattern=\"{name}_l{layer}\")\nback"
      ]
    },
    {
      "cell_type": "markdown",
      "metadata": {},
      "source": [
        "See the documenation of :py:func:`imod.idf.open` for more details.\n\n## Other raster formats\n\nIDF is one raster format, but there are many more.\n:py:func:`imod.rasterio.open` wraps the `rasterio`_ Python package (which in\nturn wraps `GDAL`_) to provide access to many GIS raster formats.\n:py:func:`imod.rasterio.open` and :py:func:`imod.rasterio.save` work exactly\nthe same as the respective IDF functions, except they write to a different\nformat.\n\nFor example, to write the transsmisivity to GeoTIFF:\n\n"
      ]
    },
    {
      "cell_type": "code",
      "execution_count": null,
      "metadata": {
        "collapsed": false
      },
      "outputs": [],
      "source": [
        "imod.rasterio.save(tempdir / \"transmissivity.tif\", transmissivity)\nfilenames = [path.name for path in tempdir.iterdir()]\nprint(\"\\n\".join(filenames))"
      ]
    },
    {
      "cell_type": "markdown",
      "metadata": {},
      "source": [
        "Note :py:func:`imod.rasterio.save` will split the extension off the path,\ninfer the `GDAL driver`_, attach the additional coordinates to the file name,\nand re-attach the extension.\n\n## netCDF\n\nThe final format to discuss here is `netCDF`_. Two dimensional raster files\nare convenient for viewing, as every file corresponds with a single \"map\nview\" in a GIS viewer. However, they are not convenient for storing many\ntimesteps or many layers: especially long running simulations will generate\nhundreds, thousands, or even millions of files.\n\nnetCDF is a file format specifically designed for multi-dimensional data, and\nallows us to conveniently bundle all data in a single file. Xarray objects\ncan directly be written to netCDF, as the data model of xarray itself is\nbased on the netCDF data model.\n\nWith netCDF, there is no need to encode the different dimension labels in the\nthe name: they are stored directly in the file instead.\n\n"
      ]
    },
    {
      "cell_type": "code",
      "execution_count": null,
      "metadata": {
        "collapsed": false
      },
      "outputs": [],
      "source": [
        "layermodel.to_netcdf(tempdir / \"layermodel.nc\")\nback = xr.open_dataset(tempdir / \"layermodel.nc\")\nback"
      ]
    },
    {
      "cell_type": "markdown",
      "metadata": {},
      "source": [
        "## Coordinate reference systems (CRS)\n\nReprojection from one CRS to another is a common frustration. Since the data\nin an xarray DataArray is always accompanied by its x and y coordinates, we\ncan easily reproject the data. See the example\n:doc:`../examples/prepare/reproject`.\n\n## MODFLOW 6\n\niMOD Python's MODFLOW 6 module supports raster data in the form of xarray\nDataArrays. It will interpret data with an ``\"x\"`` and ``\"y\"`` coordinate\nautomatically as data on structured grid. Let's create a structured\ndiscretization package (DIS) first. Note that MODFLOW 6 requires ``top`` to\nhave only one layer, so we select the first layer of the layer model.\nFurthermore, the idomain is required to be an integer array, so we convert it\nto an integer type.\n\n"
      ]
    },
    {
      "cell_type": "code",
      "execution_count": null,
      "metadata": {
        "collapsed": false
      },
      "outputs": [],
      "source": [
        "import imod\n\ntop = layermodel[\"top\"].sel(layer=1)\nidomain = layermodel[\"idomain\"].astype(int)\n\ndis = imod.mf6.StructuredDiscretization(\n    top=top, bottom=layermodel[\"bottom\"], idomain=idomain\n)\ndis"
      ]
    },
    {
      "cell_type": "markdown",
      "metadata": {},
      "source": [
        "Great! We can now use this discretization in a MODFLOW 6 model. Say we want to\ncreate a drainage package for overland flow. We can use the top array as drain\nelevation, but we only want drain cells in the first layer, where ``idomain ==\n1``.\n\n"
      ]
    },
    {
      "cell_type": "code",
      "execution_count": null,
      "metadata": {
        "collapsed": false
      },
      "outputs": [],
      "source": [
        "layer = layermodel.coords[\"layer\"]\nis_top_layer_and_active = (layer == 1) & (idomain == 1)\ndrain_elevation = layermodel[\"top\"].where(is_top_layer_and_active)"
      ]
    },
    {
      "cell_type": "markdown",
      "metadata": {},
      "source": [
        "Next, we need to create a conductance array. The conductance is a measure of\nhow much water can flow through a cell. We can use the areas of the cells to\ncompute a conductance array.\n\n"
      ]
    },
    {
      "cell_type": "code",
      "execution_count": null,
      "metadata": {
        "collapsed": false
      },
      "outputs": [],
      "source": [
        "area = layermodel[\"dx\"] * layermodel[\"dy\"] * -1\nresistance = 1  # Example resistance value in days\nconductance_value = area / resistance\nconductance = conductance_value.where(is_top_layer_and_active)"
      ]
    },
    {
      "cell_type": "markdown",
      "metadata": {},
      "source": [
        "We can now create a drainage package object:\n\n"
      ]
    },
    {
      "cell_type": "code",
      "execution_count": null,
      "metadata": {
        "collapsed": false
      },
      "outputs": [],
      "source": [
        "drn = imod.mf6.Drainage(\n    elevation=drain_elevation,\n    conductance=conductance,\n)\ndrn"
      ]
    },
    {
      "cell_type": "markdown",
      "metadata": {},
      "source": [
        "\n"
      ]
    }
  ],
  "metadata": {
    "kernelspec": {
      "display_name": "Python 3",
      "language": "python",
      "name": "python3"
    },
    "language_info": {
      "codemirror_mode": {
        "name": "ipython",
        "version": 3
      },
      "file_extension": ".py",
      "mimetype": "text/x-python",
      "name": "python",
      "nbconvert_exporter": "python",
      "pygments_lexer": "ipython3",
      "version": "3.12.12"
    }
  },
  "nbformat": 4,
  "nbformat_minor": 0
}