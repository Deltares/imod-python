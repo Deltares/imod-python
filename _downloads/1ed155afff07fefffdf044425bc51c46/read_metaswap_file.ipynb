{
  "cells": [
    {
      "cell_type": "markdown",
      "metadata": {},
      "source": [
        "\n# Reading existing MetaSWAP input\n\niMOD Python currently has no support for reading entire MetaSWAP models,\nhowever reading individual .inp files into a pandas DataFrame is possible.\n\nThis is especially handy for reusing previously made lookup tables, e.g.\nLanduseOptions (luse_svat.inp) or AnnualGrowthFactors (fact_svat.inp).\n\nWe'll start with the usual imports:\n"
      ]
    },
    {
      "cell_type": "code",
      "execution_count": null,
      "metadata": {
        "collapsed": false
      },
      "outputs": [],
      "source": [
        "import os\n\nimport pandas as pd\nimport xarray as xr\n\nimport imod"
      ]
    },
    {
      "cell_type": "markdown",
      "metadata": {},
      "source": [
        "## Creating an example file\n\nFor this example we'll first have to create a file which we are going to\nread. You might already have such a file at hand from an existing model. In\nthat case you can skip this step.\n\n"
      ]
    },
    {
      "cell_type": "code",
      "execution_count": null,
      "metadata": {
        "collapsed": false
      },
      "outputs": [],
      "source": [
        "vegetation_index = [1, 2, 3]\nnames = [\"grassland\", \"maize\", \"potatoes\"]\n\nlanduse_index = [1, 2, 3]\ncoords = {\"landuse_index\": landuse_index}\n\nlanduse_names = xr.DataArray(data=names, coords=coords, dims=(\"landuse_index\",))\nvegetation_index_da = xr.DataArray(\n    data=vegetation_index, coords=coords, dims=(\"landuse_index\",)\n)\n\n# Because there are a lot of parameters to define, we'll create a DataArray of\n# ones (``lu``) to more easily broadcast all the different parameters.\n\nlu = xr.ones_like(vegetation_index_da, dtype=float)\n\nlanduse_options = imod.msw.LanduseOptions(\n    landuse_name=landuse_names,\n    vegetation_index=vegetation_index_da,\n    jarvis_o2_stress=xr.ones_like(lu),\n    jarvis_drought_stress=xr.ones_like(lu),\n    feddes_p1=xr.full_like(lu, 99.0),\n    feddes_p2=xr.full_like(lu, 99.0),\n    feddes_p3h=lu * [-2.0, -4.0, -3.0],\n    feddes_p3l=lu * [-8.0, -5.0, -5.0],\n    feddes_p4=lu * [-80.0, -100.0, -100.0],\n    feddes_t3h=xr.full_like(lu, 5.0),\n    feddes_t3l=xr.full_like(lu, 1.0),\n    threshold_sprinkling=lu * [-8.0, -5.0, -5.0],\n    fraction_evaporated_sprinkling=xr.full_like(lu, 0.05),\n    gift=xr.full_like(lu, 20.0),\n    gift_duration=xr.full_like(lu, 0.25),\n    rotational_period=lu * [10, 7, 7],\n    start_sprinkling_season=lu * [120, 180, 150],\n    end_sprinkling_season=lu * [230, 230, 240],\n    interception_option=xr.ones_like(lu, dtype=int),\n    interception_capacity_per_LAI=xr.zeros_like(lu),\n    interception_intercept=xr.ones_like(lu),\n)"
      ]
    },
    {
      "cell_type": "markdown",
      "metadata": {},
      "source": [
        "Just to create an example file, we'll write landuse_options into a\nluse_svat.inp file in a temporary directory\n\n"
      ]
    },
    {
      "cell_type": "code",
      "execution_count": null,
      "metadata": {
        "collapsed": false
      },
      "outputs": [],
      "source": [
        "directory = imod.util.temporary_directory()\nos.makedirs(directory)\n\nlanduse_options.write(directory, None, None, None, None)"
      ]
    },
    {
      "cell_type": "markdown",
      "metadata": {},
      "source": [
        "## Reading the .inp file\n\nWe'll construct the path to the luse_svat.inp file first\n\n"
      ]
    },
    {
      "cell_type": "code",
      "execution_count": null,
      "metadata": {
        "collapsed": false
      },
      "outputs": [],
      "source": [
        "input_file = directory / \"luse_svat.inp\""
      ]
    },
    {
      "cell_type": "markdown",
      "metadata": {},
      "source": [
        "iMOD Python has a ``fixed_format_parser`` to parse MetaSWAP's .inp files.\nThis requires the file path and a ``metadata_dict``, which is stored in the\npackage. You can access it by calling <pkg>._metadata_dict. This function\nreturns stores your data in a dictionary.\n\n"
      ]
    },
    {
      "cell_type": "code",
      "execution_count": null,
      "metadata": {
        "collapsed": false
      },
      "outputs": [],
      "source": [
        "from imod.msw.fixed_format import fixed_format_parser\n\n# Store the pkg in this variable for brevity\npkg = imod.msw.LanduseOptions\nparsed = fixed_format_parser(input_file, pkg._metadata_dict)\n\nparsed"
      ]
    },
    {
      "cell_type": "markdown",
      "metadata": {},
      "source": [
        "You can easily convert this to a pandas DataFrame as follows:\n\n"
      ]
    },
    {
      "cell_type": "code",
      "execution_count": null,
      "metadata": {
        "collapsed": false
      },
      "outputs": [],
      "source": [
        "df = pd.DataFrame(parsed)\n\ndf"
      ]
    },
    {
      "cell_type": "markdown",
      "metadata": {},
      "source": [
        "We can set ``landuse_index`` as the index:\n\n"
      ]
    },
    {
      "cell_type": "code",
      "execution_count": null,
      "metadata": {
        "collapsed": false
      },
      "outputs": [],
      "source": [
        "df = df.set_index(\"landuse_index\")\n\ndf"
      ]
    },
    {
      "cell_type": "markdown",
      "metadata": {},
      "source": [
        "This DataFrame can consequently be converted to a xarray Dataset\n\n"
      ]
    },
    {
      "cell_type": "code",
      "execution_count": null,
      "metadata": {
        "collapsed": false
      },
      "outputs": [],
      "source": [
        "ds = xr.Dataset.from_dataframe(df)\n\nds"
      ]
    },
    {
      "cell_type": "markdown",
      "metadata": {},
      "source": [
        "Not all variables contain data, these are variables which are not supported\nby iMOD Python, for example this parameter:\n\n"
      ]
    },
    {
      "cell_type": "code",
      "execution_count": null,
      "metadata": {
        "collapsed": false
      },
      "outputs": [],
      "source": [
        "ds[\"albedo\"]"
      ]
    },
    {
      "cell_type": "markdown",
      "metadata": {},
      "source": [
        "We use some basic xarray plotting functionality to get a general idea of\ndata for each landuse index\n\n"
      ]
    },
    {
      "cell_type": "code",
      "execution_count": null,
      "metadata": {
        "collapsed": false
      },
      "outputs": [],
      "source": [
        "xticks = ds.coords[\"landuse_index\"]\n\nds[\"feddes_p3h\"].plot.step(where=\"mid\", xticks=xticks)"
      ]
    },
    {
      "cell_type": "markdown",
      "metadata": {},
      "source": [
        "It is better to plot ordinal data on a bar chart. So in this case, we can\nuse matplotlib's bar function.\n\n\n"
      ]
    },
    {
      "cell_type": "code",
      "execution_count": null,
      "metadata": {
        "collapsed": false
      },
      "outputs": [],
      "source": [
        "import matplotlib.pyplot as plt\n\nplt.bar(xticks, ds[\"feddes_p3h\"].values)\nplt.xticks(xticks)\nplt.xlabel(\"landuse_index\")\nplt.ylabel(\"feddes_p3h\")"
      ]
    }
  ],
  "metadata": {
    "kernelspec": {
      "display_name": "Python 3",
      "language": "python",
      "name": "python3"
    },
    "language_info": {
      "codemirror_mode": {
        "name": "ipython",
        "version": 3
      },
      "file_extension": ".py",
      "mimetype": "text/x-python",
      "name": "python",
      "nbconvert_exporter": "python",
      "pygments_lexer": "ipython3",
      "version": "3.11.11"
    }
  },
  "nbformat": 4,
  "nbformat_minor": 0
}