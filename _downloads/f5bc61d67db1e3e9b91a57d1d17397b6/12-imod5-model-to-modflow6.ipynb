{
  "cells": [
    {
      "cell_type": "markdown",
      "metadata": {},
      "source": [
        "\n# Working with iMOD5 models in MODFLOW 6\n\nThis example shows how to work with iMOD5 models in MODFLOW 6. It demonstrates\nhow to convert an iMOD5 model to a MODFLOW 6 model using the `imod` package. The\nexample fetches an iMOD5 model, converts it to a MODFLOW 6 model, regrids it to\nan unstructured grid, and compares differences in output between the structured\nand unstructured grids.\n"
      ]
    },
    {
      "cell_type": "code",
      "execution_count": null,
      "metadata": {
        "collapsed": false
      },
      "outputs": [],
      "source": [
        "import imod"
      ]
    },
    {
      "cell_type": "markdown",
      "metadata": {},
      "source": [
        "## Fetching an iMOD5 model\n\nLet's start by fetching the example data\nfrom the `imod.data` module. This will download a project file and\naccompanying data files to a temporary directory.\n\n"
      ]
    },
    {
      "cell_type": "code",
      "execution_count": null,
      "metadata": {
        "collapsed": false
      },
      "outputs": [],
      "source": [
        "tmpdir = imod.util.temporary_directory()\n\nprj_dir = tmpdir / \"prj\"\nprj_dir.mkdir(exist_ok=True, parents=True)\n\nmodel_dir = imod.data.fetch_imod5_model(prj_dir)"
      ]
    },
    {
      "cell_type": "markdown",
      "metadata": {},
      "source": [
        "Let's view the model directory. We can use ``.glob(\"*\")`` to view all\ndirectory contents. The directory contains the project file and accompanying\nmodel contents.\n\n"
      ]
    },
    {
      "cell_type": "code",
      "execution_count": null,
      "metadata": {
        "collapsed": false
      },
      "outputs": [],
      "source": [
        "from pprint import pprint\n\nimod_dir_contents = list(model_dir.glob(\"*\"))\npprint(imod_dir_contents)"
      ]
    },
    {
      "cell_type": "markdown",
      "metadata": {},
      "source": [
        "The directory contains a project file and a database folder.\nThis database contains all the IDF, IPF, and GEN files that make up the\nspatial model input.\n\nLet's look at the projectfile contents. Read the projectfile as follows:\n\n"
      ]
    },
    {
      "cell_type": "code",
      "execution_count": null,
      "metadata": {
        "collapsed": false
      },
      "outputs": [],
      "source": [
        "prj_path = model_dir / \"iMOD5_model.prj\"\nprj_content = imod.prj.read_projectfile(prj_path)\npprint(prj_content)"
      ]
    },
    {
      "cell_type": "markdown",
      "metadata": {},
      "source": [
        "This contains all the projectfile contents in a dictionary, which is quite a\nlot of information. This is too much to go through in detail. We can also open\nall data that the projectfile points to, using the\n:func:`imod.prj.open_projectfile_data` function.\n\n"
      ]
    },
    {
      "cell_type": "code",
      "execution_count": null,
      "metadata": {
        "collapsed": false
      },
      "outputs": [],
      "source": [
        "imod5_data, period_data = imod.prj.open_projectfile_data(prj_path)\nimod5_data"
      ]
    },
    {
      "cell_type": "markdown",
      "metadata": {},
      "source": [
        "This groups all data per package in the projectfile into a dictionary with\nDataArrays per variable.\n\n"
      ]
    },
    {
      "cell_type": "code",
      "execution_count": null,
      "metadata": {
        "collapsed": false
      },
      "outputs": [],
      "source": [
        "imod5_data[\"riv-1\"][\"stage\"]"
      ]
    },
    {
      "cell_type": "markdown",
      "metadata": {},
      "source": [
        "Let's plot the stage data of the first river package.\n\n"
      ]
    },
    {
      "cell_type": "code",
      "execution_count": null,
      "metadata": {
        "collapsed": false
      },
      "outputs": [],
      "source": [
        "imod5_data[\"riv-1\"][\"stage\"].isel(layer=0, drop=True).plot.imshow()"
      ]
    },
    {
      "cell_type": "markdown",
      "metadata": {},
      "source": [
        "## Converting iMOD5 model to MODFLOW 6\n\nThis is nice enough, but we want to convert this iMOD5 model to a MODFLOW 6\nmodel. We can do this using\n:meth:`imod.mf6.Modflow6Simulation.from_imod5_data` method. Next to the iMOD5\ndata and period data, we also need to provide the times. These will be used to\nresample the asynchronous well timeseries data to these times. For instance,\nwell 1 in the iMOD5 database can have rates specified on a daily basis,\nwhereas well 2 is specified on a few days in the year. Say the user wants to\nrun a model on a monthly basis, this will require resampling these rate\ntimeseries to make them consistent with the simulation timesteps. Let's\ntherefore first create a list of times which will be the simulation's\ntimesteps, we can use pandas for this. \"MS\" stands for \"month start\", meaning\nthe first day of each month.\n\n"
      ]
    },
    {
      "cell_type": "code",
      "execution_count": null,
      "metadata": {
        "collapsed": false
      },
      "outputs": [],
      "source": [
        "import pandas as pd\n\ntimes = pd.date_range(start=\"2020-01-01\", periods=10, freq=\"MS\")\ntimes"
      ]
    },
    {
      "cell_type": "markdown",
      "metadata": {},
      "source": [
        "Now that we have a list of times, we can import the iMOD5 data into a MODFLOW\n6 simulation. This might require some time, as it will convert all the iMOD5\ndata to be compatible with MODFLOW . For example, the river systems with\ninfiltration factors are transformed into a separate\nDrain and River package (if necessary) to get the same behavior as iMOD5's\ninfiltration factors.\n\n"
      ]
    },
    {
      "cell_type": "code",
      "execution_count": null,
      "metadata": {
        "collapsed": false
      },
      "outputs": [],
      "source": [
        "mf6_sim = imod.mf6.Modflow6Simulation.from_imod5_data(imod5_data, period_data, times)\nmf6_sim"
      ]
    },
    {
      "cell_type": "markdown",
      "metadata": {},
      "source": [
        "## Improving the solver settings\n\nAt the moment the MODFLOW 6 simulation has quite loose solver settings. Most\nnotably, the ``inner_dvclose`` is set to 0.01, which means that the solver\nallows a numerical error of 1 cm in the head values. This is quite loose.\n\n"
      ]
    },
    {
      "cell_type": "code",
      "execution_count": null,
      "metadata": {
        "collapsed": false
      },
      "outputs": [],
      "source": [
        "mf6_sim[\"ims\"]"
      ]
    },
    {
      "cell_type": "markdown",
      "metadata": {},
      "source": [
        "This is because by default an iMOD5 model is imported with a\nSolutionPresetModerate, which is quite loose. Let's set a stricter solver\nsetting preset, by setting it to SolutionPresetSimple. This has a\n``inner_dvclose`` of 0.001, which allows a numerical error of 1 mm in the head\nvalues.\n\n"
      ]
    },
    {
      "cell_type": "code",
      "execution_count": null,
      "metadata": {
        "collapsed": false
      },
      "outputs": [],
      "source": [
        "mf6_sim[\"ims\"] = imod.mf6.SolutionPresetSimple([\"imported_model\"])\nmf6_sim[\"ims\"]"
      ]
    },
    {
      "cell_type": "markdown",
      "metadata": {},
      "source": [
        "## A note on performance\n\nBy default, the iMOD5 model rasters will not be directly loaded into memory,\nbut instead will be lazily loaded. Read more about this in the\n:doc:`06-lazy-evaluation` documentation.\n\nBy default the data is chunked per raster file, which is a chunk per layer,\nper timestep. Usually this is not optimal, as this creates many small chunks.\n\n## Writing the structured model: in fits and starts\n\nLet's try to write this simulation. **spoiler alert**: this will fail, because\nwe still have to configure some packages.\n\n"
      ]
    },
    {
      "cell_type": "code",
      "execution_count": null,
      "metadata": {
        "collapsed": false
      },
      "outputs": [],
      "source": [
        "mf6_dir = tmpdir / \"mf6_structured\"\n\n# Ignore this \"with\" statement, it is to catch the error and render the\n# documentation without error.\nwith imod.util.print_if_error(ValueError):\n    mf6_sim.write(mf6_dir)  # Attention: this will fail!"
      ]
    },
    {
      "cell_type": "markdown",
      "metadata": {},
      "source": [
        "We are still missing output control, as the projectfile does not contain this\ninformation. For this example, we'll only save the last head of each stress period.\n\n"
      ]
    },
    {
      "cell_type": "code",
      "execution_count": null,
      "metadata": {
        "collapsed": false
      },
      "outputs": [],
      "source": [
        "gwf_model = mf6_sim[\"imported_model\"]\ngwf_model[\"oc\"] = imod.mf6.OutputControl(\n    save_head=\"last\",\n)\n\nfrom imod.schemata import ValidationError\n\nwith imod.util.print_if_error(ValidationError):\n    mf6_sim.write(mf6_dir)  # Attention: this will fail!"
      ]
    },
    {
      "cell_type": "markdown",
      "metadata": {},
      "source": [
        "Argh! The simulation still fails to write. In general, iMOD Python is a lot\nstricter with writing model data than iMOD5. iMOD Python forces users to\nconciously clean up their models, whereas iMOD5 cleaned data under the hood.\nThe error message states that the nodata is not aligned with idomain. This\nmeans there are k values and ic values specified at inactive locations, or\nvice versa. Let's try if masking the data works. This will remove all inactive\nlocations (``idomain > 0``) from the data.\n\n"
      ]
    },
    {
      "cell_type": "code",
      "execution_count": null,
      "metadata": {
        "collapsed": false
      },
      "outputs": [],
      "source": [
        "idomain = gwf_model[\"dis\"][\"idomain\"]\nmf6_sim.mask_all_models(idomain)\n\nmf6_sim.write(mf6_dir)"
      ]
    },
    {
      "cell_type": "markdown",
      "metadata": {},
      "source": [
        "## Running the structured model\n\nLet's run the simulation and open the head data.\n\n"
      ]
    },
    {
      "cell_type": "code",
      "execution_count": null,
      "metadata": {
        "collapsed": false
      },
      "outputs": [],
      "source": [
        "mf6_sim.run()\nhead_structured = mf6_sim.open_head()\n# Plot the head of the last stress period at layer 5.\nhead_structured.isel(time=-1).sel(layer=5).plot.imshow()"
      ]
    },
    {
      "cell_type": "markdown",
      "metadata": {},
      "source": [
        "## Regridding the structured model to an unstructured grid\n\nNow that we have a MODFLOW 6 simulation, we can regrid it to an unstructured\ngrid. Let's first load a triangular grid.\n\n"
      ]
    },
    {
      "cell_type": "code",
      "execution_count": null,
      "metadata": {
        "collapsed": false
      },
      "outputs": [],
      "source": [
        "triangular_grid = imod.data.lhm_clip_triangular_grid()\ntriangular_grid.plot()"
      ]
    },
    {
      "cell_type": "markdown",
      "metadata": {},
      "source": [
        "That looks more exciting than the rectangular grid we had before. You can see\nthere is refinement around some of the streams and especially around\nhorizontal flow barriers. We haven't looked at horizontal flow barriers yet,\nso let's plot them on top of the triangular mesh.\n\n"
      ]
    },
    {
      "cell_type": "code",
      "execution_count": null,
      "metadata": {
        "collapsed": false
      },
      "outputs": [],
      "source": [
        "import matplotlib.pyplot as plt\n\nfig, ax = plt.subplots()\ntriangular_grid.plot(ax=ax, color=\"lightgrey\", edgecolor=\"black\")\ngwf_model[\"hfb-25\"].line_data.plot(ax=ax, color=\"blue\", linewidth=2)\ngwf_model[\"hfb-26\"].line_data.plot(ax=ax, color=\"blue\", linewidth=2)"
      ]
    },
    {
      "cell_type": "markdown",
      "metadata": {},
      "source": [
        "However, this grid is triangular, which has the disadvantage that the connections\nbetween cell centers are not orthogonal to the cell edges, which can lead to\nmass balance errors. xugrid has a method to convert this triangular grid\nto a Voronoi grid, which has orthogonal connections between cell centers and\nedges.\n\n"
      ]
    },
    {
      "cell_type": "code",
      "execution_count": null,
      "metadata": {
        "collapsed": false
      },
      "outputs": [],
      "source": [
        "voronoi_grid = triangular_grid.tesselate_centroidal_voronoi()\nvoronoi_grid.plot()\n\n# iMOD Python regridding functionality requires a UgridDataArray instead of a\n# Ugrid2d, so we create a UgridDataArray with the voronoi grid.\nfrom imod.util import ones_like_ugrid\n\nvoronoi_uda = ones_like_ugrid(voronoi_grid)"
      ]
    },
    {
      "cell_type": "markdown",
      "metadata": {},
      "source": [
        "Now that we have a Voronoi grid, we can regrid the MODFLOW 6 simulation to this\ngrid.\n\n"
      ]
    },
    {
      "cell_type": "code",
      "execution_count": null,
      "metadata": {
        "collapsed": false
      },
      "outputs": [],
      "source": [
        "mf6_unstructured = mf6_sim.regrid_like(\"unstructured_example\", voronoi_uda)\nmf6_unstructured"
      ]
    },
    {
      "cell_type": "markdown",
      "metadata": {},
      "source": [
        "Let's take a gander at how the river data is regridded.\n\n"
      ]
    },
    {
      "cell_type": "code",
      "execution_count": null,
      "metadata": {
        "collapsed": false
      },
      "outputs": [],
      "source": [
        "mf6_unstructured[\"imported_model\"][\"riv-1riv\"][\"stage\"].isel(layer=0).ugrid.plot()"
      ]
    },
    {
      "cell_type": "markdown",
      "metadata": {},
      "source": [
        "## Writing the unstructured model: in more fits and starts\n\nLet's try to write this to a temporary directory. **Spoiler alert**: Like\nbefore, this will fail.\n\n"
      ]
    },
    {
      "cell_type": "code",
      "execution_count": null,
      "metadata": {
        "collapsed": false
      },
      "outputs": [],
      "source": [
        "mf6_dir = tmpdir / \"mf6_unstructured\"\n\n# Ignore this \"with\" statement, it is to catch the error and render the\n# documentation without error.\nwith imod.util.print_if_error(ValidationError):\n    mf6_unstructured.write(mf6_dir)  # Attention: this will fail!"
      ]
    },
    {
      "cell_type": "markdown",
      "metadata": {},
      "source": [
        "The error message states that the iMOD5 model has a river package that has its\nriver bottom elevation below the model bottom. The averaging when regridding\ncan cause this: The model bottom has a continuous surface, whereas the rivers\nusually are located in a local valley. Upscaling both with a mean causes the\nriver bottom elevation to have the tendency to be lower than the model bottom.\nWe therefore need to reallocate the river data to the new model layer\nschematization.\n\n"
      ]
    },
    {
      "cell_type": "code",
      "execution_count": null,
      "metadata": {
        "collapsed": false
      },
      "outputs": [],
      "source": [
        "gwf_unstructured = mf6_unstructured[\"imported_model\"]\ndis = gwf_unstructured[\"dis\"]\nnpf = gwf_unstructured[\"npf\"]\n\ngwf_unstructured[\"riv-1riv\"] = gwf_unstructured[\"riv-1riv\"].reallocate(dis, npf)\ngwf_unstructured[\"riv-2riv\"] = gwf_unstructured[\"riv-2riv\"].reallocate(dis, npf)\ngwf_unstructured[\"riv-1drn\"] = gwf_unstructured[\"riv-1drn\"].reallocate(dis, npf)\ngwf_unstructured[\"riv-2drn\"] = gwf_unstructured[\"riv-2drn\"].reallocate(dis, npf)\ngwf_unstructured[\"riv-1riv\"].cleanup(dis)\ngwf_unstructured[\"riv-2riv\"].cleanup(dis)\ngwf_unstructured[\"riv-1drn\"].cleanup(dis)\ngwf_unstructured[\"riv-2drn\"].cleanup(dis)"
      ]
    },
    {
      "cell_type": "markdown",
      "metadata": {},
      "source": [
        "We'll now be able to finally write the unstructured model.\n\n"
      ]
    },
    {
      "cell_type": "code",
      "execution_count": null,
      "metadata": {
        "collapsed": false
      },
      "outputs": [],
      "source": [
        "mf6_unstructured.write(mf6_dir)"
      ]
    },
    {
      "cell_type": "markdown",
      "metadata": {},
      "source": [
        "## Running the unstructured model\n\nLet's run the unstructured model and open the head data.\n\n"
      ]
    },
    {
      "cell_type": "code",
      "execution_count": null,
      "metadata": {
        "collapsed": false
      },
      "outputs": [],
      "source": [
        "mf6_unstructured.run()\nhead_unstructured = mf6_unstructured.open_head()\n# Plot the head of the last stress period at layer 5.\nhead_unstructured.isel(time=-1).sel(layer=5).ugrid.plot()"
      ]
    },
    {
      "cell_type": "markdown",
      "metadata": {},
      "source": [
        "## Comparing differences in output\n\nIn this section, we will compare the output of the structured and unstructured\nmodels. We fill first plot the structured and unstructured results side by\nside. Next, we will regrid the structured head data to the unstructured grid\nand compare the differences in output. This will show how the regridding\naffects the output.\n\n### Side-by-side comparison\n\nLet's first plot the structured and unstructured head data side by side.\n\n"
      ]
    },
    {
      "cell_type": "code",
      "execution_count": null,
      "metadata": {
        "collapsed": false
      },
      "outputs": [],
      "source": [
        "head_structured_end_l5 = head_structured.isel(time=-1).sel(layer=5)\nhead_unstructured_end_l5 = head_unstructured.isel(time=-1).sel(layer=5)\n\nimport matplotlib.pyplot as plt\n\n# Get the data range from both datasets\nvmin = min(head_structured_end_l5.min().values, head_unstructured_end_l5.min().values)\nvmax = max(head_structured_end_l5.max().values, head_unstructured_end_l5.max().values)\n\nfig, axes = plt.subplots(nrows=1, ncols=3, figsize=(12, 6), width_ratios=(1, 1, 0.1))\nhead_structured_end_l5.plot.imshow(ax=axes[0], add_colorbar=False, vmin=vmin, vmax=vmax)\naxes[0].set_title(f\"Structured grid (ncells = {head_structured_end_l5.size})\")\nhead_unstructured_end_l5.ugrid.plot(ax=axes[1], cbar_ax=axes[2], vmin=vmin, vmax=vmax)\naxes[1].set_title(f\"Unstructured grid (ncells = {head_unstructured_end_l5.size})\")\naxes[1].get_yaxis().set_visible(False)\n\n# Get the y-limits from the first axis and apply to both\nylim = axes[0].get_ylim()\naxes[1].set_ylim(ylim)"
      ]
    },
    {
      "cell_type": "markdown",
      "metadata": {},
      "source": [
        "### Computing differences\n\nNext, we will compute the differences between the structured and unstructured\nhead data. This will show how the regridding affects the output in more\ndetail. For that we first need to upscale the structured head data to the\nunstructured grid. This is done using the [OverlapRegridder from the xugrid\npackage](https://deltares.github.io/xugrid/examples/regridder_overview.html#overlapregridder),\n\n"
      ]
    },
    {
      "cell_type": "code",
      "execution_count": null,
      "metadata": {
        "collapsed": false
      },
      "outputs": [],
      "source": [
        "import xugrid as xu\n\nregridder = xu.OverlapRegridder(head_structured, head_unstructured.ugrid.grid)\nhead_structured_upscaled = regridder.regrid(head_structured)"
      ]
    },
    {
      "cell_type": "markdown",
      "metadata": {},
      "source": [
        "Compute the difference between the upscaled structured head and the\nunstructured head. A zero difference means the regridding didn't result in any\ndifferences. We can see around the western fault that the regridding caused\ndifferences.\n\n"
      ]
    },
    {
      "cell_type": "code",
      "execution_count": null,
      "metadata": {
        "collapsed": false
      },
      "outputs": [],
      "source": [
        "diff = (head_structured_upscaled - head_unstructured).isel(time=-1).compute()\ndiff.mean(dim=\"layer\").ugrid.plot()"
      ]
    },
    {
      "cell_type": "markdown",
      "metadata": {},
      "source": [
        "Let's also plot the standard deviation of the difference. This shows that\nvariations in difference are also mostly around the western fault.\n\n"
      ]
    },
    {
      "cell_type": "code",
      "execution_count": null,
      "metadata": {
        "collapsed": false
      },
      "outputs": [],
      "source": [
        "diff.std(dim=\"layer\").ugrid.plot()"
      ]
    },
    {
      "cell_type": "markdown",
      "metadata": {},
      "source": [
        "### Differences in detail\n\nThis is a good example of how regridding can lead to differences in output:\nThe line representing the fault has to be snapped to the cell edges. This is\nstrongly grid dependent. And can lead to local differences in output. Let's\nvisualize how faults are snapped to the grid edges in the structured and\nunstructured grid.\n\n"
      ]
    },
    {
      "cell_type": "code",
      "execution_count": null,
      "metadata": {
        "collapsed": false
      },
      "outputs": [],
      "source": [
        "structured_snapped = gwf_model[\"hfb-5\"].snap_to_grid(gwf_model[\"dis\"])\nunstructured_snapped = gwf_unstructured[\"hfb-5\"].snap_to_grid(gwf_unstructured[\"dis\"])\n\nimport matplotlib.pyplot as plt\n\nfig, ax = plt.subplots()\nstructured_snapped[\"resistance\"].ugrid.plot(add_colorbar=False, ax=ax)\nunstructured_snapped[\"resistance\"].ugrid.plot(add_colorbar=False, ax=ax)\ndiff.mean(dim=\"layer\").ugrid.plot(ax=ax)\nax.set_xlim(197500, 198500)\nax.set_ylim(361000, 363000)"
      ]
    },
    {
      "cell_type": "markdown",
      "metadata": {},
      "source": [
        "EXERCISE: Download this file as a script or Jupyter notebook, remove all HFB\npackages and re-run the example. Investigate if differences are still as large\nas they were. You can remove the HFB packages by using the ``pop`` method on\nthe groundwater flow model. There are 26 HFB packages in the model, so you\ncan use a for loop to remove them all. The HFB packages are named\n\"hfb-1\", \"hfb-2\", ..., \"hfb-26\".\n\n"
      ]
    }
  ],
  "metadata": {
    "kernelspec": {
      "display_name": "Python 3",
      "language": "python",
      "name": "python3"
    },
    "language_info": {
      "codemirror_mode": {
        "name": "ipython",
        "version": 3
      },
      "file_extension": ".py",
      "mimetype": "text/x-python",
      "name": "python",
      "nbconvert_exporter": "python",
      "pygments_lexer": "ipython3",
      "version": "3.12.12"
    }
  },
  "nbformat": 4,
  "nbformat_minor": 0
}