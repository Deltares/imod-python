{
  "cells": [
    {
      "cell_type": "markdown",
      "metadata": {},
      "source": [
        "\n# Vector data and Geopandas\n\nGeospatial data primarily comes in two forms: raster data and vector data.\nThis guide focuses on the latter.\n\nTypical examples of file formats containing vector data are:\n\n* ESRI shapefile\n* GeoJSON\n* Geopackage\n\nVector data consist of vertices (corner points), optionally connected by paths.\nThe three primary categories of vector data are:\n\n* Points\n* Lines\n* Polygons\n\nIn groundwater modeling, typical examples of each are:\n\n* Pumping wells, observation wells, boreholes\n* Canals, ditches, waterways\n* Lakes, administrative boundaries, land use\n\nThese data consist of geospatial coordinates, indicating the location in space\nand a number of attributes: for a canal, this could be parameters like its\nwidth, depth, and water level. In GIS software like QGIS, the geometry is\nvisible in the map view, and the attributes can inspected via e.g. the\nattribute table.\n\nIn Python, such data can be represented by a\n:py:class:`geopandas.GeoDataFrame`. Essentially, geopandas is a pandas\nDataFrame to store tabular data (the attribute table), and adds a geometry\ncolumn to store the geospatial coordinates.\n"
      ]
    },
    {
      "cell_type": "code",
      "execution_count": null,
      "metadata": {
        "collapsed": false
      },
      "outputs": [],
      "source": [
        "import geopandas as gpd\nimport numpy as np\n\nimport imod\n\ntempdir = imod.util.temporary_directory()\ngdf = imod.data.lakes_shp(tempdir / \"lake\")\ngdf.iloc[:5, -3:]  # first 5 rows, last 3 columns"
      ]
    },
    {
      "cell_type": "markdown",
      "metadata": {},
      "source": [
        "This geodataframe contains all the data from the shapefile. Note the geometry\ncolumn. The geometry can be plotted:\n\n"
      ]
    },
    {
      "cell_type": "code",
      "execution_count": null,
      "metadata": {
        "collapsed": false
      },
      "outputs": [],
      "source": [
        "gdf.plot()"
      ]
    },
    {
      "cell_type": "markdown",
      "metadata": {},
      "source": [
        "A GeoDataFrame of points can also be easily generated from pairs of x and y\ncoordinates.\n\n"
      ]
    },
    {
      "cell_type": "code",
      "execution_count": null,
      "metadata": {
        "collapsed": false
      },
      "outputs": [],
      "source": [
        "x = np.arange(90_000.0, 120_000.0, 1000.0)\ny = np.arange(450_000.0, 480_000.0, 1000.0)\n\ngeometry = gpd.points_from_xy(x, y)\npoints_gdf = gpd.GeoDataFrame(geometry=geometry)\n\npoints_gdf.plot()"
      ]
    },
    {
      "cell_type": "markdown",
      "metadata": {},
      "source": [
        "An important feature of every geometry is its geometry type:\n\n"
      ]
    },
    {
      "cell_type": "code",
      "execution_count": null,
      "metadata": {
        "collapsed": false
      },
      "outputs": [],
      "source": [
        "gdf.geom_type"
      ]
    },
    {
      "cell_type": "markdown",
      "metadata": {},
      "source": [
        "As expected, the points are of the type ... Point:\n\n"
      ]
    },
    {
      "cell_type": "code",
      "execution_count": null,
      "metadata": {
        "collapsed": false
      },
      "outputs": [],
      "source": [
        "points_gdf.geom_type"
      ]
    },
    {
      "cell_type": "markdown",
      "metadata": {},
      "source": [
        "## Input and output\n\nGeopandas supports many vector file formats. It wraps `fiona`_, which in turns\nwraps `OGR`_, which is a part of `GDAL`_. For example, the lake polygons above\nare loaded from an ESRI Shapefile:\n\n"
      ]
    },
    {
      "cell_type": "code",
      "execution_count": null,
      "metadata": {
        "collapsed": false
      },
      "outputs": [],
      "source": [
        "filenames = [path.name for path in (tempdir / \"lake\").iterdir()]\nprint(\"\\n\".join(filenames))"
      ]
    },
    {
      "cell_type": "markdown",
      "metadata": {},
      "source": [
        "They can be easily stored into more modern formats as well, such as\n`GeoPackage`_:\n\n"
      ]
    },
    {
      "cell_type": "code",
      "execution_count": null,
      "metadata": {
        "collapsed": false
      },
      "outputs": [],
      "source": [
        "points_gdf.to_file(tempdir / \"points.gpkg\")\nfilenames = [path.name for path in tempdir.iterdir()]\nprint(\"\\n\".join(filenames))"
      ]
    },
    {
      "cell_type": "markdown",
      "metadata": {},
      "source": [
        "... and back:\n\n"
      ]
    },
    {
      "cell_type": "code",
      "execution_count": null,
      "metadata": {
        "collapsed": false
      },
      "outputs": [],
      "source": [
        "back = gpd.read_file(tempdir / \"points.gpkg\")\nback"
      ]
    },
    {
      "cell_type": "markdown",
      "metadata": {},
      "source": [
        "## Conversion to raster\n\nFrom the perspective of MODFLOW groundwater modeling, we are often interested\nin the properties of cells in specific polygons or zones. Refer to the\nexamples or the API reference for ``imod.prepare``.\n\nGeoPandas provides a full suite of vector based GIS operations, such as\nintersections, spatial joins, or plotting.\n\n\n"
      ]
    }
  ],
  "metadata": {
    "kernelspec": {
      "display_name": "Python 3",
      "language": "python",
      "name": "python3"
    },
    "language_info": {
      "codemirror_mode": {
        "name": "ipython",
        "version": 3
      },
      "file_extension": ".py",
      "mimetype": "text/x-python",
      "name": "python",
      "nbconvert_exporter": "python",
      "pygments_lexer": "ipython3",
      "version": "3.11.0"
    }
  },
  "nbformat": 4,
  "nbformat_minor": 0
}