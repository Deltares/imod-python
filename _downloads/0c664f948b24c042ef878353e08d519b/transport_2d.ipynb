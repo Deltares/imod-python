{
  "cells": [
    {
      "cell_type": "markdown",
      "metadata": {},
      "source": [
        "\n# Transport 2d example\n\nThe simulation shown here comes from the  1999 MT3DMS report, p 138:\nTwo-Dimensional Transport in a Uniform Flow of solute injected\ncontinuously from a point source in a steady-state uniform flow field.\n\nIn this example, we build up the model, and the we run the model as is.\nNext, we split the model in 4 partitions and run that as well.\nFinally, we show that the difference in outcome for the partitioned and unpartitioned models\nis small.\n\nMT3DMS: A Modular Three-Dimensional\nMultispecies Transport Model for Simulation\nof Advection, Dispersion, and Chemical\nReactions of Contaminants in Groundwater\nSystems; Documentation and User's Guide\n"
      ]
    },
    {
      "cell_type": "code",
      "execution_count": null,
      "metadata": {
        "collapsed": false
      },
      "outputs": [],
      "source": [
        "import matplotlib.pyplot as plt\nimport numpy as np\nimport pandas as pd\nimport xarray as xr\n\nimport imod\nfrom imod.mf6.multimodel.partition_generator import get_label_array\nfrom imod.typing.grid import nan_like, zeros_like"
      ]
    },
    {
      "cell_type": "markdown",
      "metadata": {},
      "source": [
        "Set some grid dimensions\n\n"
      ]
    },
    {
      "cell_type": "code",
      "execution_count": null,
      "metadata": {
        "collapsed": false
      },
      "outputs": [],
      "source": [
        "nlay = 1  # Number of layers\nnrow = 31  # Number of rows\nncol = 46  # Number of columns\ndelr = 10.0  # Column width ($m$)\ndelc = 10.0  # Row width ($m$)\ndelz = 10.0  # Layer thickness ($m$)\nshape = (nlay, nrow, ncol)\ntop = 10.0\ndims = (\"layer\", \"y\", \"x\")"
      ]
    },
    {
      "cell_type": "markdown",
      "metadata": {},
      "source": [
        "Construct the \"idomain\" array, and then the discretization package which represents the model grid.\n\n"
      ]
    },
    {
      "cell_type": "code",
      "execution_count": null,
      "metadata": {
        "collapsed": false
      },
      "outputs": [],
      "source": [
        "y = np.arange(delr * nrow, 0, -delr)\nx = np.arange(0, delc * ncol, delc)\ncoords = {\"layer\": [1], \"y\": y, \"x\": x, \"dx\": delc, \"dy\": -delr}\nidomain = xr.DataArray(np.ones(shape, dtype=int), coords=coords, dims=dims)\n\nbottom = xr.DataArray([0.0], {\"layer\": [1]}, (\"layer\",))\ngwf_model = imod.mf6.GroundwaterFlowModel()\ngwf_model[\"dis\"] = imod.mf6.StructuredDiscretization(\n    top=10.0, bottom=bottom, idomain=idomain\n)"
      ]
    },
    {
      "cell_type": "markdown",
      "metadata": {},
      "source": [
        "Construct the other flow packages. Flow is steady-state in this simulation,\nmeaning specific storage is set to zero.\n\n\n"
      ]
    },
    {
      "cell_type": "code",
      "execution_count": null,
      "metadata": {
        "collapsed": false
      },
      "outputs": [],
      "source": [
        "gwf_model[\"sto\"] = imod.mf6.SpecificStorage(\n    specific_storage=0.0,\n    specific_yield=0.0,\n    transient=False,\n    convertible=0,\n)\ngwf_model[\"npf\"] = imod.mf6.NodePropertyFlow(\n    icelltype=zeros_like(idomain), k=1.0, save_flows=True, save_specific_discharge=True\n)\ngwf_model[\"oc\"] = imod.mf6.OutputControl(save_head=\"all\", save_budget=\"all\")\ngwf_model[\"ic\"] = imod.mf6.InitialConditions(start=10.0)"
      ]
    },
    {
      "cell_type": "markdown",
      "metadata": {},
      "source": [
        "Set up the boundary conditions. We have: 2 constant head boundaries at\nthe left and right, chosen so that the velocity is 1/3 m/day\nand a well that injects 1 m3 per day, with a concentration of 1000\n\n"
      ]
    },
    {
      "cell_type": "code",
      "execution_count": null,
      "metadata": {
        "collapsed": false
      },
      "outputs": [],
      "source": [
        "Lx = 460\nv = 1.0 / 3.0\nprsity = 0.3\nq = v * prsity\nh1 = q * Lx\nchd_field = nan_like(idomain)\nchd_field.values[0, :, 0] = h1\nchd_field.values[0, :, -1] = 0.0\nchd_concentration = nan_like(idomain)\nchd_concentration.values[0, :, 0] = 0.0\nchd_concentration.values[0, :, -1] = 0.0\nchd_concentration = chd_concentration.expand_dims(species=[\"Au\"])\n\n\ngwf_model[\"chd\"] = imod.mf6.ConstantHead(\n    chd_field,\n    concentration=chd_concentration,\n    print_input=True,\n    print_flows=True,\n    save_flows=True,\n)\ninjection_concentration = xr.DataArray(\n    [[1000.0]],\n    coords={\n        \"species\": [\"Au\"],\n        \"index\": [0],\n    },\n    dims=(\"species\", \"index\"),\n)\ngwf_model[\"wel\"] = imod.mf6.Well(\n    x=[150.0],\n    y=[150.0],\n    screen_top=[10.0],\n    screen_bottom=[0.0],\n    rate=[1.0],\n    concentration=injection_concentration,\n    concentration_boundary_type=\"aux\",\n)"
      ]
    },
    {
      "cell_type": "markdown",
      "metadata": {},
      "source": [
        "Now construct the transport simulation. The flow boundaries\nalready have inflow concentration data associated, so the transport\nboundaries can be imported using the ssm package, and the rest of the\ntransport model definition is straightforward.\n\n"
      ]
    },
    {
      "cell_type": "code",
      "execution_count": null,
      "metadata": {
        "collapsed": false
      },
      "outputs": [],
      "source": [
        "tpt_model = imod.mf6.GroundwaterTransportModel()\ntpt_model[\"ssm\"] = imod.mf6.SourceSinkMixing.from_flow_model(\n    gwf_model, species=\"Au\", save_flows=True\n)\ntpt_model[\"adv\"] = imod.mf6.AdvectionUpstream()\ntpt_model[\"dsp\"] = imod.mf6.Dispersion(\n    diffusion_coefficient=0.0,\n    longitudinal_horizontal=10.0,\n    transversal_horizontal1=3.0,\n    xt3d_off=False,\n    xt3d_rhs=False,\n)\ntpt_model[\"mst\"] = imod.mf6.MobileStorageTransfer(\n    porosity=0.3,\n)\n\ntpt_model[\"ic\"] = imod.mf6.InitialConditions(start=0.0)\ntpt_model[\"oc\"] = imod.mf6.OutputControl(save_concentration=\"all\", save_budget=\"last\")\ntpt_model[\"dis\"] = gwf_model[\"dis\"]"
      ]
    },
    {
      "cell_type": "markdown",
      "metadata": {},
      "source": [
        "Create a simulation and add the flow and transport models to it.\nThen define some ims packages: 1 for every type of model.\nFinally create 365 time steps of 1 day each.\n\n"
      ]
    },
    {
      "cell_type": "code",
      "execution_count": null,
      "metadata": {
        "collapsed": false
      },
      "outputs": [],
      "source": [
        "simulation = imod.mf6.Modflow6Simulation(\"ex01-twri\")\nsimulation[\"GWF_1\"] = gwf_model\nsimulation[\"TPT_1\"] = tpt_model\n\n\nsimulation[\"flow_solver\"] = imod.mf6.Solution(\n    modelnames=[\"GWF_1\"],\n    print_option=\"summary\",\n    outer_dvclose=1.0e-4,\n    outer_maximum=500,\n    under_relaxation=None,\n    inner_dvclose=1.0e-4,\n    inner_rclose=0.001,\n    inner_maximum=100,\n    linear_acceleration=\"cg\",\n    scaling_method=None,\n    reordering_method=None,\n    relaxation_factor=0.97,\n)\nsimulation[\"transport_solver\"] = imod.mf6.Solution(\n    modelnames=[\"TPT_1\"],\n    print_option=\"summary\",\n    outer_dvclose=1.0e-4,\n    outer_maximum=500,\n    under_relaxation=None,\n    inner_dvclose=1.0e-4,\n    inner_rclose=0.001,\n    inner_maximum=100,\n    linear_acceleration=\"bicgstab\",\n    scaling_method=None,\n    reordering_method=None,\n    relaxation_factor=0.97,\n)\n# Collect time discretization\n\nduration = pd.to_timedelta(\"365d\")\nstart = pd.to_datetime(\"2002-01-01\")\nsimulation.create_time_discretization(additional_times=[start, start + duration])\nsimulation[\"time_discretization\"][\"n_timesteps\"] = 365\nmodeldir = imod.util.temporary_directory()\nsimulation.write(modeldir, binary=False)"
      ]
    },
    {
      "cell_type": "markdown",
      "metadata": {},
      "source": [
        "To split the model in 4 partitions, we must create a label array.\nWe use the utility function  ``get_label_array`` for that.\n\n"
      ]
    },
    {
      "cell_type": "code",
      "execution_count": null,
      "metadata": {
        "collapsed": false
      },
      "outputs": [],
      "source": [
        "label_array = get_label_array(simulation, 4)\nfig, ax = plt.subplots()\nlabel_array.plot(ax=ax)\n\nsplit_simulation = simulation.split(label_array)"
      ]
    },
    {
      "cell_type": "markdown",
      "metadata": {},
      "source": [
        "Run the unsplit model and load the simulation results.\n\n"
      ]
    },
    {
      "cell_type": "code",
      "execution_count": null,
      "metadata": {
        "collapsed": false
      },
      "outputs": [],
      "source": [
        "simulation.run()\nconc = simulation.open_concentration()"
      ]
    },
    {
      "cell_type": "markdown",
      "metadata": {},
      "source": [
        "Run the split model and load the simulation results.\n\n"
      ]
    },
    {
      "cell_type": "code",
      "execution_count": null,
      "metadata": {
        "collapsed": false
      },
      "outputs": [],
      "source": [
        "split_modeldir = modeldir / \"split\"\nsplit_simulation.write(split_modeldir, binary=False)\nsplit_simulation.run()\nsplit_conc = split_simulation.open_concentration()[\"concentration\"]\nfig, ax = plt.subplots()\nsplit_conc.isel(layer=0, time=364).plot.contourf(ax=ax, levels=[0.1, 1, 10])"
      ]
    },
    {
      "cell_type": "markdown",
      "metadata": {},
      "source": [
        "Compute the difference between the split and unsplit simulation results for transport at the\nend of the simulation, and print them\n\n"
      ]
    },
    {
      "cell_type": "code",
      "execution_count": null,
      "metadata": {
        "collapsed": false
      },
      "outputs": [],
      "source": [
        "diff = abs(conc - split_conc)\nfig, ax = plt.subplots()\ndiff.isel(layer=0, time=364).plot.contourf(ax=ax)"
      ]
    }
  ],
  "metadata": {
    "kernelspec": {
      "display_name": "Python 3",
      "language": "python",
      "name": "python3"
    },
    "language_info": {
      "codemirror_mode": {
        "name": "ipython",
        "version": 3
      },
      "file_extension": ".py",
      "mimetype": "text/x-python",
      "name": "python",
      "nbconvert_exporter": "python",
      "pygments_lexer": "ipython3",
      "version": "3.11.10"
    }
  },
  "nbformat": 4,
  "nbformat_minor": 0
}