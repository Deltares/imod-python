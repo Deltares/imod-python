{
  "cells": [
    {
      "cell_type": "markdown",
      "metadata": {},
      "source": [
        "\n# Topsystem: from 2D map to 3D model\n\niMOD Python has multiple features to help you define the topsystem of the\ngroundwater system. With \"topsystem\" we mean all forcings which act on the top\nof the groundwater system. These are usually either meteorological\n(precipitation & evapotranspiration) or hydrological (rivers, ditches, lakes,\nsea) in nature. In MODFLOW6 these are usually simulated with the DRN, RIV, GHB,\nand RCH package. This data is usually provided as planar grids (x, y) without\nany vertical dimension. This user guide will show you how to allocate these\nforcings across model layers to grid cells and how to distribute conductances\nfor Robin-like boundary conditions (RIV, DRN, GHB) over model layers. We will\ndemonstrate this with the RIV package, as this package supports all options for\nallocating cells and distributing conductances. A subset of options are\navailable for the DRN, GHB, and RCH packages.\n"
      ]
    },
    {
      "cell_type": "code",
      "execution_count": null,
      "metadata": {
        "collapsed": false
      },
      "outputs": [],
      "source": [
        ""
      ]
    },
    {
      "cell_type": "markdown",
      "metadata": {},
      "source": [
        "## Example data\n\nLet's load the data first. We have a layer model containing a basic\nhydrogeological schemitization of our model, so the tops and bottoms of model\nlayers, the hydraulic conductivity (k), and which cells are active (idomain=1)\nor vertical passthrough (idomain=-1).\n\n"
      ]
    },
    {
      "cell_type": "code",
      "execution_count": null,
      "metadata": {
        "collapsed": false
      },
      "outputs": [],
      "source": [
        "import imod\n\nlayer_model = imod.data.hondsrug_layermodel_topsystem()\n\nlayer_model"
      ]
    },
    {
      "cell_type": "markdown",
      "metadata": {},
      "source": [
        "Furthermore we have planar grid of river, containing a river stage, bed\nelevation and conductance.\n\n"
      ]
    },
    {
      "cell_type": "code",
      "execution_count": null,
      "metadata": {
        "collapsed": false
      },
      "outputs": [],
      "source": [
        "planar_river = imod.data.hondsrug_planar_river()\n\nplanar_river"
      ]
    },
    {
      "cell_type": "markdown",
      "metadata": {},
      "source": [
        "Let's plot the top elevation of the model on a map. You can see we have a\nridge roughly the centre of the model, sided by two low-lying areas.\n\n"
      ]
    },
    {
      "cell_type": "code",
      "execution_count": null,
      "metadata": {
        "collapsed": false
      },
      "outputs": [],
      "source": [
        "import numpy as np\n\nimod.visualize.plot_map(\n    layer_model[\"top\"].sel(layer=1), \"viridis\", np.linspace(1, 20, 11)\n)"
      ]
    },
    {
      "cell_type": "markdown",
      "metadata": {},
      "source": [
        "Let's plot the river stages on a map. You can see most rivers are located\nin the low-lying areas.\n\n"
      ]
    },
    {
      "cell_type": "code",
      "execution_count": null,
      "metadata": {
        "collapsed": false
      },
      "outputs": [],
      "source": [
        "imod.visualize.plot_map(planar_river[\"stage\"], \"viridis\", np.linspace(-1, 19, 9))"
      ]
    },
    {
      "cell_type": "markdown",
      "metadata": {},
      "source": [
        "## Allocate river cells\n\nLet's allocate river cells across model layers to cells.\n\n"
      ]
    },
    {
      "cell_type": "code",
      "execution_count": null,
      "metadata": {
        "collapsed": false
      },
      "outputs": [],
      "source": [
        "from imod.prepare import ALLOCATION_OPTION, allocate_riv_cells\n\nriv_allocated, _ = allocate_riv_cells(\n    allocation_option=ALLOCATION_OPTION.at_elevation,\n    active=layer_model[\"idomain\"] == 1,\n    top=layer_model[\"top\"],\n    bottom=layer_model[\"bottom\"],\n    stage=planar_river[\"stage\"],\n    bottom_elevation=planar_river[\"bottom\"],\n)"
      ]
    },
    {
      "cell_type": "markdown",
      "metadata": {},
      "source": [
        "Let's take a look at what we just produced. Since we are dealing with\ninformation with depth, it is simplest to make a crosssection plot. For that,\nwe first have to select a crosssection.\n\n"
      ]
    },
    {
      "cell_type": "code",
      "execution_count": null,
      "metadata": {
        "collapsed": false
      },
      "outputs": [],
      "source": [
        "import geopandas as gpd\nfrom shapely.geometry import LineString\n\ngeometry = LineString([[238725, 561800], [241050, 560350]])\n\n# Define overlay\noverlays = [\n    {\"gdf\": gpd.GeoDataFrame(geometry=[geometry]), \"edgecolor\": \"black\", \"linewidth\": 3}\n]\n# Plot\nimod.visualize.plot_map(\n    planar_river[\"stage\"], \"viridis\", np.linspace(-1, 19, 9), overlays\n)"
      ]
    },
    {
      "cell_type": "markdown",
      "metadata": {},
      "source": [
        "Select a cross section. The plot also requires top and bottom information\nwhich we will add first as coordinates before selecting.\n\n"
      ]
    },
    {
      "cell_type": "code",
      "execution_count": null,
      "metadata": {
        "collapsed": false
      },
      "outputs": [],
      "source": [
        "riv_allocated.coords[\"top\"] = layer_model[\"top\"]\nriv_allocated.coords[\"bottom\"] = layer_model[\"bottom\"]\n\nxsection_allocated = imod.select.cross_section_linestring(riv_allocated, geometry)\n\nxsection_allocated"
      ]
    },
    {
      "cell_type": "markdown",
      "metadata": {},
      "source": [
        "Now that we have selected our data we can plot it.\n\n"
      ]
    },
    {
      "cell_type": "code",
      "execution_count": null,
      "metadata": {
        "collapsed": false
      },
      "outputs": [],
      "source": [
        "imod.visualize.cross_section(xsection_allocated, \"viridis\", [0, 1])"
      ]
    },
    {
      "cell_type": "markdown",
      "metadata": {},
      "source": [
        "Let's plot the locations of our river stages and bottom elevations.\n\n"
      ]
    },
    {
      "cell_type": "code",
      "execution_count": null,
      "metadata": {
        "collapsed": false
      },
      "outputs": [],
      "source": [
        "import matplotlib.pyplot as plt\n\nstage_line = imod.select.cross_section_linestring(planar_river[\"stage\"], geometry)\nstage_bottom = imod.select.cross_section_linestring(planar_river[\"bottom\"], geometry)\n\nfig, ax = plt.subplots()\n\nimod.visualize.cross_section(xsection_allocated, \"viridis\", [0, 1], fig=fig, ax=ax)\nx_line = stage_line[\"s\"] + stage_line[\"ds\"] / 2\nax.scatter(x_line, stage_line.values, marker=7, c=\"k\")\nax.scatter(x_line, stage_bottom.values, marker=6, c=\"k\")"
      ]
    },
    {
      "cell_type": "markdown",
      "metadata": {},
      "source": [
        "The above plot might look a bit off. Let's plot the layer numbers, so that we\ncan identify where model layers are located.\n\n"
      ]
    },
    {
      "cell_type": "code",
      "execution_count": null,
      "metadata": {
        "collapsed": false
      },
      "outputs": [],
      "source": [
        "import xarray as xr\n\nlayer_grid = layer_model.layer * xr.ones_like(layer_model[\"top\"])\nlayer_grid.coords[\"top\"] = layer_model[\"top\"]\nlayer_grid.coords[\"bottom\"] = layer_model[\"bottom\"]\nxsection_layer_nr = imod.select.cross_section_linestring(layer_grid, geometry)\n\nimod.visualize.cross_section(xsection_layer_nr, \"tab20\", np.arange(21))\nax.scatter(x_line, stage_line.values, marker=7, c=\"k\")\nax.scatter(x_line, stage_bottom.values, marker=6, c=\"k\")"
      ]
    },
    {
      "cell_type": "markdown",
      "metadata": {},
      "source": [
        "## Overview allocation options\n\nThere are multiple options available to allocate rivers. For a full\ndescription of all options, see the documentation of\n:func:`imod.prepare.ALLOCATION_OPTION`. We can print all possible options as\nfollows:\n\n"
      ]
    },
    {
      "cell_type": "code",
      "execution_count": null,
      "metadata": {
        "collapsed": false
      },
      "outputs": [],
      "source": [
        "for option in ALLOCATION_OPTION:\n    print(option.name)"
      ]
    },
    {
      "cell_type": "markdown",
      "metadata": {},
      "source": [
        "Let's make plots for each option to visualize the effect of each choice.\n\n"
      ]
    },
    {
      "cell_type": "code",
      "execution_count": null,
      "metadata": {
        "collapsed": false
      },
      "outputs": [],
      "source": [
        "# Create grid for plots\nfig, axes = plt.subplots(3, 2, sharex=True, sharey=True, figsize=(11, 11))\naxes = np.ravel(axes)\n\n# The top left plot shows the elevation of the river bottom (upward triangle)\n# and river stage (downward triangle).\nax = axes[0]\nimod.visualize.cross_section(\n    xsection_layer_nr,\n    \"tab20\",\n    np.arange(21),\n    kwargs_colorbar={\"plot_colorbar\": False},\n    fig=fig,\n    ax=ax,\n)\nax.scatter(x_line, stage_line.values, marker=7, c=\"k\")\nax.scatter(x_line, stage_bottom.values, marker=6, c=\"k\")\nax.set_title(\"stage and bottom elevation\")\n\n# Loop over allocation options, and plot the allocated cells as a polygon,\n# using the \"aquitard\" feature of the cross_section plot.\nfor i, option in enumerate(ALLOCATION_OPTION, start=1):\n    riv_allocated, _ = allocate_riv_cells(\n        allocation_option=option,\n        active=layer_model[\"idomain\"] == 1,\n        top=layer_model[\"top\"],\n        bottom=layer_model[\"bottom\"],\n        stage=planar_river[\"stage\"],\n        bottom_elevation=planar_river[\"bottom\"],\n    )\n    riv_allocated.coords[\"top\"] = layer_model[\"top\"]\n    riv_allocated.coords[\"bottom\"] = layer_model[\"bottom\"]\n\n    xsection_allocated = imod.select.cross_section_linestring(riv_allocated, geometry)\n    ax = axes[i]\n    if (i % 2) == 0:\n        kwargs_colorbar = {\"plot_colorbar\": False}\n    else:\n        kwargs_colorbar = {\"plot_colorbar\": True}\n    kwargs_aquitards = {\"edgecolor\": \"k\", \"facecolor\": \"grey\"}\n    imod.visualize.cross_section(\n        xsection_layer_nr,\n        \"tab20\",\n        np.arange(21),\n        aquitards=xsection_allocated,\n        kwargs_aquitards=kwargs_aquitards,\n        kwargs_colorbar=kwargs_colorbar,\n        fig=fig,\n        ax=ax,\n    )\n    ax.set_title(f\"option: {option.name}\")\n\n# Enforce tight layout to remove whitespace inbetween plots.\nplt.tight_layout()"
      ]
    },
    {
      "cell_type": "markdown",
      "metadata": {},
      "source": [
        "You can see the chosen option matters quite a lot. ``at_elevation`` allocates\ncells in the model layer containing the river bottom elevation.\n``at_first_active`` allocates only at the first active model layer.\n``first_active_to_elevation`` allocates cells from first active model layer to\nthe model layer containing the river bottom elevation. ``stage_to_riv_bot``\nallocates cells from the model layer containing river stage up until the model\nlayer containing bottom elevation. Finally ``stage_to_riv_bot_drn_above``\nallocates *river* cells from the model layer containing river stage to the\nmodel layer containing the river bottom elevation and allocates *drain* cells\nfrom the first active model layer to the model layer containing the river\nstage elevation. The allocated *drain* cells are not shown in the plot.\n\n"
      ]
    },
    {
      "cell_type": "markdown",
      "metadata": {},
      "source": [
        "## Distribute conductance\n\nNext, we'll take a look at distributing conductances, as there are multiple\nways to distribute conductances over layers. For example, it is possible to\ndistribute conductances equally across layers, weighted by layer thickness, or\nby transmissivity.\n\n"
      ]
    },
    {
      "cell_type": "code",
      "execution_count": null,
      "metadata": {
        "collapsed": false
      },
      "outputs": [],
      "source": [
        "from imod.prepare import DISTRIBUTING_OPTION, distribute_riv_conductance"
      ]
    },
    {
      "cell_type": "markdown",
      "metadata": {},
      "source": [
        "Here's a map of how the conductances are distributed in our dataset.\n\n"
      ]
    },
    {
      "cell_type": "code",
      "execution_count": null,
      "metadata": {
        "collapsed": false
      },
      "outputs": [],
      "source": [
        "imod.visualize.plot_map(\n    planar_river[\"conductance\"], \"magma\", np.logspace(-2, 3, 11), overlays\n)"
      ]
    },
    {
      "cell_type": "markdown",
      "metadata": {},
      "source": [
        "First compute the allocated river cells for stage to river bottom elevation\nagain. This time we'll use the ``stage_to_riv_bot`` option.\n\n"
      ]
    },
    {
      "cell_type": "code",
      "execution_count": null,
      "metadata": {
        "collapsed": false
      },
      "outputs": [],
      "source": [
        "riv_allocated, _ = allocate_riv_cells(\n    allocation_option=ALLOCATION_OPTION.stage_to_riv_bot,\n    active=layer_model[\"idomain\"] == 1,\n    top=layer_model[\"top\"],\n    bottom=layer_model[\"bottom\"],\n    stage=planar_river[\"stage\"],\n    bottom_elevation=planar_river[\"bottom\"],\n)\n\nriv_allocated"
      ]
    },
    {
      "cell_type": "markdown",
      "metadata": {},
      "source": [
        "Distribute river conductance over model layers. There are multiple options\navailable, which are fully described in\n:func:`imod.prepare.DISTRIBUTING_OPTION`. We can print all possible options as\nfollows:\n\n"
      ]
    },
    {
      "cell_type": "code",
      "execution_count": null,
      "metadata": {
        "collapsed": false
      },
      "outputs": [],
      "source": [
        "for option in DISTRIBUTING_OPTION:\n    print(option.name)"
      ]
    },
    {
      "cell_type": "markdown",
      "metadata": {},
      "source": [
        "To reduce duplicate code, we are going to store all input data in this\ndictionary which we can provide further as keyword arguments.\n\n"
      ]
    },
    {
      "cell_type": "code",
      "execution_count": null,
      "metadata": {
        "collapsed": false
      },
      "outputs": [],
      "source": [
        "distributing_data = {\n    \"allocated\": riv_allocated,\n    \"conductance\": planar_river[\"conductance\"],\n    \"top\": layer_model[\"top\"],\n    \"bottom\": layer_model[\"bottom\"],\n    \"k\": layer_model[\"k\"],\n    \"stage\": planar_river[\"stage\"],\n    \"bottom_elevation\": planar_river[\"bottom\"],\n}"
      ]
    },
    {
      "cell_type": "markdown",
      "metadata": {},
      "source": [
        "Let's keep things simple first and distribute conductances across layers\nequally.\n\n"
      ]
    },
    {
      "cell_type": "code",
      "execution_count": null,
      "metadata": {
        "collapsed": false
      },
      "outputs": [],
      "source": [
        "riv_conductance = distribute_riv_conductance(\n    distributing_option=DISTRIBUTING_OPTION.by_layer_thickness, **distributing_data\n)\nriv_conductance.coords[\"top\"] = layer_model[\"top\"]\nriv_conductance.coords[\"bottom\"] = layer_model[\"bottom\"]"
      ]
    },
    {
      "cell_type": "markdown",
      "metadata": {},
      "source": [
        "Lets repeat the earlier process to produce a nice cross-section plot.\n\n"
      ]
    },
    {
      "cell_type": "code",
      "execution_count": null,
      "metadata": {
        "collapsed": false
      },
      "outputs": [],
      "source": [
        "# Select the conductance over the cross section again.\nxsection_distributed = imod.select.cross_section_linestring(riv_conductance, geometry)\n\nfig, ax = plt.subplots()\n\n# Plot grey background of active cells\nis_active = ~np.isnan(xsection_distributed.coords[\"top\"])\nimod.visualize.cross_section(\n    is_active,\n    \"Greys\",\n    [0, 1, 2, 3],\n    kwargs_colorbar={\"plot_colorbar\": False},\n    fig=fig,\n    ax=ax,\n)\n# Plot conductances\nimod.visualize.cross_section(\n    xsection_distributed, \"magma\", np.logspace(-2, 3, 11), fig=fig, ax=ax\n)"
      ]
    },
    {
      "cell_type": "markdown",
      "metadata": {},
      "source": [
        "Let's compare the results of all possible options visually. On the top left\nwe'll plot the hydraulic conductivity, as we haven't looked at that yet. The\nother plots show the effects of different settings. Again, distributing\noptions are described in more detail in :func:`imod.prepare.DISTRIBUTING_OPTION`\n\n"
      ]
    },
    {
      "cell_type": "code",
      "execution_count": null,
      "metadata": {
        "collapsed": false
      },
      "outputs": [],
      "source": [
        "fig, axes = plt.subplots(4, 2, figsize=[11, 15], sharex=True, sharey=True)\naxes = np.ravel(axes)\n\nk = distributing_data[\"k\"].copy()\nk.coords[\"top\"] = layer_model[\"top\"]\nk.coords[\"bottom\"] = layer_model[\"bottom\"]\n\nxsection_k = imod.select.cross_section_linestring(k, geometry)\n\nax = axes[0]\nimod.visualize.cross_section(\n    xsection_k,\n    \"magma\",\n    np.logspace(-2, 3, 11),\n    kwargs_colorbar={\"plot_colorbar\": False},\n    fig=fig,\n    ax=ax,\n)\nax.scatter(x_line, stage_line.values, marker=7, c=\"k\")\nax.scatter(x_line, stage_bottom.values, marker=6, c=\"k\")\nax.set_title(\"hydraulic conductivity\")\n\nfor i, option in enumerate(DISTRIBUTING_OPTION, start=1):\n    ax = axes[i]\n    riv_conductance = distribute_riv_conductance(\n        distributing_option=option, **distributing_data\n    )\n    riv_conductance.coords[\"top\"] = layer_model[\"top\"]\n    riv_conductance.coords[\"bottom\"] = layer_model[\"bottom\"]\n\n    xsection_distributed = imod.select.cross_section_linestring(\n        riv_conductance, geometry\n    )\n\n    if (i % 2) == 0:\n        kwargs_colorbar = {\"plot_colorbar\": False}\n    else:\n        kwargs_colorbar = {\"plot_colorbar\": True}\n\n    # Plot grey background of active cells\n    is_active = ~np.isnan(xsection_distributed.coords[\"top\"])\n    imod.visualize.cross_section(\n        is_active,\n        \"Greys\",\n        [0, 1, 2, 3],\n        kwargs_colorbar={\"plot_colorbar\": False},\n        fig=fig,\n        ax=ax,\n    )\n    # Plot conductances\n    imod.visualize.cross_section(\n        xsection_distributed,\n        \"magma\",\n        np.logspace(-2, 3, 11),\n        kwargs_colorbar=kwargs_colorbar,\n        fig=fig,\n        ax=ax,\n    )\n\n    ax.set_title(f\"option: {option.name}\")\n\nplt.tight_layout()"
      ]
    },
    {
      "cell_type": "markdown",
      "metadata": {},
      "source": [
        "You can see quite some wildly varying conductances with depth. First, the most\nsimple algorithm ``equally`` keeps conductance constant with depth. Second,\ncorrecting ``by_conductivity`` (hydraulic) decreases the conductance in the\ndeepest layer where rivers occur in the centre of the plot, as conductivity is\nlower over there. Correcting ``by_layer_thickness``, however, increases\nconductance in this deep layer, as this is a thicker layer. These differences\neven out when we correct ``by_layer_transmissivity`` (k * thickness). The\n``by_crosscut_thickness`` algorithm accounts for how far the river bottom\npenetrates a layer. You can see this reduces conductance in the deep layer\ncompared to distributing ``by_layer_thickness``.\n``by_crosscut_transmissivity`` uses the crosscut thickness instead of the\nlayer thickness and therefore shows a lower conductance in the deeper layer\ncompared to ``by_layer_transmissivity``. Finally\n``by_corrected_transmissivity`` also corrects for the displacement of the\nmidpoint over the length where crosscut transmissivity is computed over\n(``[layer top - river bottom]/2``) compared to the model cell centre. This\nfurther reduces the conductance in the deeper layer.\n\n"
      ]
    },
    {
      "cell_type": "markdown",
      "metadata": {},
      "source": [
        "## MODFLOW6 package\n\nThe data created can now be used to create a MODFLOW6 package. To construct 3D\ngrids from planar grids for the stages, we can utilize xarrays broadcasting:\n\n"
      ]
    },
    {
      "cell_type": "code",
      "execution_count": null,
      "metadata": {
        "collapsed": false
      },
      "outputs": [],
      "source": [
        "from imod.typing.grid import enforce_dim_order\n\nriv_stage = planar_river[\"stage\"].where(riv_allocated)\n# Use this function to enforce the right dimension order for iMOD Python.\nriv_stage = enforce_dim_order(riv_stage)\n\nriv_stage"
      ]
    },
    {
      "cell_type": "markdown",
      "metadata": {},
      "source": [
        "We can do the same for the river bottom and construct a river package. Note\nthat we use the previously distributed conductance which we assigned to the\nvariable ``riv_conducance``.\n\n"
      ]
    },
    {
      "cell_type": "code",
      "execution_count": null,
      "metadata": {
        "collapsed": false
      },
      "outputs": [],
      "source": [
        "riv_bottom = planar_river[\"bottom\"].where(riv_allocated)\nriv_bottom = enforce_dim_order(riv_bottom)\n\n# Remove coordinates that were added for cross-section plots previously\nriv_conductance = riv_conductance.drop_vars([\"bottom\", \"top\"])\n\nriv = imod.mf6.River(\n    stage=riv_stage, conductance=riv_conductance, bottom_elevation=riv_bottom\n)\n\nriv"
      ]
    }
  ],
  "metadata": {
    "kernelspec": {
      "display_name": "Python 3",
      "language": "python",
      "name": "python3"
    },
    "language_info": {
      "codemirror_mode": {
        "name": "ipython",
        "version": 3
      },
      "file_extension": ".py",
      "mimetype": "text/x-python",
      "name": "python",
      "nbconvert_exporter": "python",
      "pygments_lexer": "ipython3",
      "version": "3.11.0"
    }
  },
  "nbformat": 4,
  "nbformat_minor": 0
}