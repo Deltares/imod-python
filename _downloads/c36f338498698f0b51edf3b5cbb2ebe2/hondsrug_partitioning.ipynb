{
  "cells": [
    {
      "cell_type": "markdown",
      "metadata": {},
      "source": [
        "\n# Partitioning a regional model\n\nThis example shows how a model can be partitioned into submodels. This will\nallow parallelization when solving the model. The example used is the Hondsrug\nmodel. It is partitioned into 3 rectangular parts. In the example we first run\nthe original, unpartitioned model. Then we partition the model and run the\nresulting simulation. Finally we merge the head output of the submodels into a\nhead array for the whole grid. we print both the heads obtained without\npartitioning, and the merged heads of the partitioned simulation, ' for\ncomparison.\n"
      ]
    },
    {
      "cell_type": "code",
      "execution_count": null,
      "metadata": {
        "collapsed": false
      },
      "outputs": [],
      "source": [
        "import matplotlib.pyplot as plt\n\nimport imod\nfrom imod.prepare.partition import create_partition_labels"
      ]
    },
    {
      "cell_type": "markdown",
      "metadata": {},
      "source": [
        "Obtain the simulation, write it, run it, and plot some heads.\nThere is a separate example contained in\n:doc:`hondsrug </examples/mf6/hondsrug>`\nthat you should look at if you are interested in the model building\n\n"
      ]
    },
    {
      "cell_type": "code",
      "execution_count": null,
      "metadata": {
        "collapsed": false
      },
      "outputs": [],
      "source": [
        "tmpdir = imod.util.temporary_directory()\n\ngwf_simulation = imod.data.hondsrug_simulation(tmpdir / \"hondsrug_saved\")"
      ]
    },
    {
      "cell_type": "markdown",
      "metadata": {},
      "source": [
        "Write the model and run it (before partitioning, so we can compare if the\nresults are similar).\n\n"
      ]
    },
    {
      "cell_type": "code",
      "execution_count": null,
      "metadata": {
        "collapsed": false
      },
      "outputs": [],
      "source": [
        "original_modeldir = tmpdir / \"original\"\n\ngwf_simulation.write(original_modeldir)\ngwf_simulation.run()"
      ]
    },
    {
      "cell_type": "markdown",
      "metadata": {},
      "source": [
        "Plot the simulation results of the unpartitioned model.\n\n"
      ]
    },
    {
      "cell_type": "code",
      "execution_count": null,
      "metadata": {
        "collapsed": false
      },
      "outputs": [],
      "source": [
        "hds_original = gwf_simulation.open_head()\n\nfig, ax = plt.subplots()\n\nhds_original.sel(layer=3).isel(time=6).plot(ax=ax)\nax.set_title(\"hondsrug original \")"
      ]
    },
    {
      "cell_type": "markdown",
      "metadata": {},
      "source": [
        "Now we partition the Hondsrug model\n\n"
      ]
    },
    {
      "cell_type": "code",
      "execution_count": null,
      "metadata": {
        "collapsed": false
      },
      "outputs": [],
      "source": [
        "idomain = gwf_simulation[\"GWF\"].domain\nnumber_partitions = 16\nsubmodel_labels = create_partition_labels(gwf_simulation, number_partitions)"
      ]
    },
    {
      "cell_type": "markdown",
      "metadata": {},
      "source": [
        "This label array determines how the model will be split. [METIS](https://github.com/KarypisLab/METIS/blob/master/manual/manual.pdf) is used\nin the background to partition models, which is the cause of the imperfect\nrectangular shapes. By default, partitions are weighted by the number of active cells\nacross the layer dimension.\n\n"
      ]
    },
    {
      "cell_type": "code",
      "execution_count": null,
      "metadata": {
        "collapsed": false
      },
      "outputs": [],
      "source": [
        "fig, ax = plt.subplots()\nsubmodel_labels.plot(ax=ax)\nax.set_title(\"hondsrug partitioning geometry\")"
      ]
    },
    {
      "cell_type": "markdown",
      "metadata": {},
      "source": [
        "Let's split the simulation into 16 submodels.\n\n"
      ]
    },
    {
      "cell_type": "code",
      "execution_count": null,
      "metadata": {
        "collapsed": false
      },
      "outputs": [],
      "source": [
        "split_simulation = gwf_simulation.split(submodel_labels)\n\nsplit_simulation"
      ]
    },
    {
      "cell_type": "markdown",
      "metadata": {},
      "source": [
        "Now we  write and run the partitioned model\n\n"
      ]
    },
    {
      "cell_type": "code",
      "execution_count": null,
      "metadata": {
        "collapsed": false
      },
      "outputs": [],
      "source": [
        "split_modeldir = tmpdir / \"split\"\n\nsplit_simulation.write(split_modeldir)\nsplit_simulation.run()"
      ]
    },
    {
      "cell_type": "markdown",
      "metadata": {},
      "source": [
        "Load and plot the simulation results. Also plot the differences with the original model\n\n"
      ]
    },
    {
      "cell_type": "code",
      "execution_count": null,
      "metadata": {
        "collapsed": false
      },
      "outputs": [],
      "source": [
        "hds_split = split_simulation.open_head()[\"head\"]\nfig, ax = plt.subplots()\nhds_split.sel(layer=3).isel(time=6).plot(ax=ax)\nax.set_title(\"hondsrug partitioned \")\n\ndiff = hds_split - hds_original\ndiff_for_plot = diff.max(dim=[\"time\", \"layer\"])\nfig, ax = plt.subplots()\ndiff_for_plot.plot(ax=ax)\nax.set_title(\"hondsrug diff \")"
      ]
    }
  ],
  "metadata": {
    "kernelspec": {
      "display_name": "Python 3",
      "language": "python",
      "name": "python3"
    },
    "language_info": {
      "codemirror_mode": {
        "name": "ipython",
        "version": 3
      },
      "file_extension": ".py",
      "mimetype": "text/x-python",
      "name": "python",
      "nbconvert_exporter": "python",
      "pygments_lexer": "ipython3",
      "version": "3.12.11"
    }
  },
  "nbformat": 4,
  "nbformat_minor": 0
}