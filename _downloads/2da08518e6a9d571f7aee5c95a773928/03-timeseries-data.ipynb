{
  "cells": [
    {
      "cell_type": "markdown",
      "metadata": {},
      "source": [
        "\n# Time series data and Pandas\n\nHandling time series is major part of geohydrology and groundwater modeling.\nTime series data come in more than one form:\n\n* Time series linked to a point location, for example a measured groundwater\n  level at a specific location.\n* Time series of a spatially continuous nature, for example model output of\n  calculated head for a specific model layer.\n\nWe typically represent time series data at points as a\n:py:class:`pandas.DataFrame`, despite the (apparent) match with GeoDataFrames.\nThe issue is that a GeoDataFrame has to store the geometry for every row: this\nmeans many duplicated geometries. Fortunately, pandas' `group by`_\n(split-apply-combine) functionality provides a (fairly) convenient way of\nworking with time series data of many points.\n\nPandas provides many tools for working with time series data, such as:\n\n* Input and output to many tabular formats, such as CSV or Excel;\n* Data selection;\n* Filling or interpolating missing data;\n* Resampling to specific frequencies;\n* Plotting.\n\n## Timeseries at point locations\n\niMOD represents time series at points in an IPF format. This format stores\nits data as:\n\n* A \"mother\" file containing the x and y coordinates of the point. Each\n  point can be associated with a timeseries with a label.\n* A timeries file for every point.\n\nThese files can be read via :py:func:`imod.ipf.read`. The ``read`` function\nwill read the mother file, and follow its labels, reading every associated\ntimeseries file as well. Finally, these are merged into a single large table;\nthe properties of the point (e.g. the x,y coordinates) are duplicated for every\nrow.\n\n<div class=\"alert alert-info\"><h4>Note</h4><p>This may seem wasteful, but:\n\n    * There are few data structures available for storing point data with\n      associated time series. For example: xarray can store the point location\n      as coordinates, but every point will need to share its time axis -- the\n      same time window for every point and the same time resolution.\n    * There are equally few file formats suitable for this data. A single large\n      table is supported by many file formats.\n    * Pandas `group by`_ functionality is quite fast.</p></div>\n\n"
      ]
    }
  ],
  "metadata": {
    "kernelspec": {
      "display_name": "Python 3",
      "language": "python",
      "name": "python3"
    },
    "language_info": {
      "codemirror_mode": {
        "name": "ipython",
        "version": 3
      },
      "file_extension": ".py",
      "mimetype": "text/x-python",
      "name": "python",
      "nbconvert_exporter": "python",
      "pygments_lexer": "ipython3",
      "version": "3.11.0"
    }
  },
  "nbformat": 4,
  "nbformat_minor": 0
}