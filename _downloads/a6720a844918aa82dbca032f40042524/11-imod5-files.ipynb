{
  "cells": [
    {
      "cell_type": "markdown",
      "metadata": {},
      "source": [
        "\n# Reading and writing iMOD5 files in Python\n\nThis example demonstrates how to work with iMOD5 files in Python using the\n`imod` package. It shows how to save, read, and manipulate iMOD5 files,\nincluding handling temporary directories and glob patterns for file selection.\n\nFor a full explanation of the iMOD5 file formats, see the [iMOD5 documentation](https://oss.deltares.nl/documents/d/imod/imod_user_manual_v5_6_1#page=747).\n\nFor a full overview of the supported iMOD5 features in iMOD Python, see\n:doc:`../faq/imod5_backwards_compatibility`.\n"
      ]
    },
    {
      "cell_type": "code",
      "execution_count": null,
      "metadata": {
        "collapsed": false
      },
      "outputs": [],
      "source": [
        ""
      ]
    },
    {
      "cell_type": "markdown",
      "metadata": {},
      "source": [
        "## Raster data (IDF)\n\nRaster data in iMOD5 is stored in IDF files, which is a binary format for\nraster data. The `imod.idf` module provides functions to read and write IDF\nfiles. One IDF can only store data in two dimensions: y and x. It is similar\nto GeoTIFF in this regard.\n\nWe'll start off with some example data to work with. Let's load a layer model\nwith geological layers.\n\n"
      ]
    },
    {
      "cell_type": "code",
      "execution_count": null,
      "metadata": {
        "collapsed": false
      },
      "outputs": [],
      "source": [
        "import imod\n\nlayermodel = imod.data.hondsrug_layermodel()\nlayermodel"
      ]
    },
    {
      "cell_type": "markdown",
      "metadata": {},
      "source": [
        "This dataset contains multiple variables. We can take a closer look at the\nthe \"top\" variable, which represents the top of every layer.\n\n"
      ]
    },
    {
      "cell_type": "code",
      "execution_count": null,
      "metadata": {
        "collapsed": false
      },
      "outputs": [],
      "source": [
        "top = layermodel[\"top\"]\ntop"
      ]
    },
    {
      "cell_type": "markdown",
      "metadata": {},
      "source": [
        "Note that this DataArray has three dimensions: layer, y, x.\n\nLet's create a temporary directory to store our IDF files.\n\n"
      ]
    },
    {
      "cell_type": "code",
      "execution_count": null,
      "metadata": {
        "collapsed": false
      },
      "outputs": [],
      "source": [
        "tmpdir = imod.util.temporary_directory()"
      ]
    },
    {
      "cell_type": "markdown",
      "metadata": {},
      "source": [
        "As mentioned before, one IDF can only store data in two dimensions: y and x.\niMOD Python therefore will save a 3D dataset as multiple IDF files. The layer\nindex is stored in the file name, as the ``_l*`` suffix. iMOD Python will take\nthe last part of the provided path as the name. We therefore end our path with\n``top``. This will result in files named ``top_l1.idf``, ``top_l2.idf``, etc.\n\n"
      ]
    },
    {
      "cell_type": "code",
      "execution_count": null,
      "metadata": {
        "collapsed": false
      },
      "outputs": [],
      "source": [
        "idf_dir = tmpdir / \"idf\"\nimod.idf.save(idf_dir / \"top\", top)"
      ]
    },
    {
      "cell_type": "markdown",
      "metadata": {},
      "source": [
        "The IDF files are now stored in the temporary directory. We can list them\nusing the `glob` method, which allows us to use wildcards to match file names\n\n"
      ]
    },
    {
      "cell_type": "code",
      "execution_count": null,
      "metadata": {
        "collapsed": false
      },
      "outputs": [],
      "source": [
        "from pprint import pprint\n\nidf_files = list(idf_dir.glob(\"*\"))\npprint(idf_files)"
      ]
    },
    {
      "cell_type": "markdown",
      "metadata": {},
      "source": [
        "We can also read the IDF files back into a DataArray, we can either do that by\ndirectly providing a list of filenames (``idf_files``) to open, or by\nproviding a path with a wildcard pattern (``idf_dir / \"top*\"``). The latter is\nmore convenient, as it will automatically match all files that start with\n``\"top\"`` in ``idf_dir``. This means we can easily open the data without\nhaving to specify each file individually.\n\n"
      ]
    },
    {
      "cell_type": "code",
      "execution_count": null,
      "metadata": {
        "collapsed": false
      },
      "outputs": [],
      "source": [
        "reloaded_top = imod.idf.open(idf_dir / \"top*\")\nreloaded_top"
      ]
    },
    {
      "cell_type": "markdown",
      "metadata": {},
      "source": [
        "Note that the reloaded DataArray is represented differently than the original\nDataArray. This is because the DataArray is lazily loaded as a dask array,\nwhich means that the data is not actually loaded into memory until it is\naccessed. For example when plotting or saving data. This allows for more\nefficient memory usage, especially when working with large datasets. See the\n:doc:`06-lazy-evaluation` for more information.\n\nLet's plot the top layer:\n\n"
      ]
    },
    {
      "cell_type": "code",
      "execution_count": null,
      "metadata": {
        "collapsed": false
      },
      "outputs": [],
      "source": [
        "reloaded_top.sel(layer=1).plot()"
      ]
    },
    {
      "cell_type": "markdown",
      "metadata": {},
      "source": [
        "## Point data (IPF)\n\niMOD Stores point data in iMOD Point Format (IPF) files, which is a text\nformat for point data. The `imod.ipf` module provides functions to read and\nwrite IPF files. Point data can be used to store timeseries of point\nobservations, such as groundwater heads, as well as borelogs. In this example,\nwe will focus on timeseries.\n\nLet's load some example point data.\n\n"
      ]
    },
    {
      "cell_type": "code",
      "execution_count": null,
      "metadata": {
        "collapsed": false
      },
      "outputs": [],
      "source": [
        "heads = imod.data.head_observations()\nheads"
      ]
    },
    {
      "cell_type": "markdown",
      "metadata": {},
      "source": [
        "Let's plot a timeseries for one specific observation point, for example the\nobservation point with ID \"B12A1745001\".\n\n"
      ]
    },
    {
      "cell_type": "code",
      "execution_count": null,
      "metadata": {
        "collapsed": false
      },
      "outputs": [],
      "source": [
        "head_selected = heads.loc[heads[\"id\"] == \"B12A1745001\"]\nhead_selected.sort_values(\"time\").plot(x=\"time\", y=\"head\")"
      ]
    },
    {
      "cell_type": "markdown",
      "metadata": {},
      "source": [
        "We can save this point data to an IPF file. The `imod.ipf.save` function\nallows us to save the point data to a file. We can specify the path where we\nwant to save the file, as well as the data to save. Make sure to specify itype\nas 1, which is the type for timeseries data. The path should end with the name\nyou want to give to your IPF.\n\n"
      ]
    },
    {
      "cell_type": "code",
      "execution_count": null,
      "metadata": {
        "collapsed": false
      },
      "outputs": [],
      "source": [
        "ipf_dir = tmpdir / \"ipf\"\nimod.ipf.save(ipf_dir / \"heads\", heads, itype=1)"
      ]
    },
    {
      "cell_type": "markdown",
      "metadata": {},
      "source": [
        "The IPF files are now stored in the temporary directory. Let's print a list of\nfiles:\n\n"
      ]
    },
    {
      "cell_type": "code",
      "execution_count": null,
      "metadata": {
        "collapsed": false
      },
      "outputs": [],
      "source": [
        "ipf_files = list(ipf_dir.glob(\"*\"))\npprint(ipf_files)"
      ]
    },
    {
      "cell_type": "markdown",
      "metadata": {},
      "source": [
        "Notice that timeseries are stored in a single textfile per observation point.\nWe can read the IPF file and accompanying text files back into a DataFrame.\n\n"
      ]
    },
    {
      "cell_type": "code",
      "execution_count": null,
      "metadata": {
        "collapsed": false
      },
      "outputs": [],
      "source": [
        "reloaded_heads = imod.ipf.read(ipf_dir / \"heads.ipf\")\nreloaded_heads"
      ]
    },
    {
      "cell_type": "markdown",
      "metadata": {},
      "source": [
        "## Line data (GEN)\n\niMOD stores line data in GEN files, which is a binary format for line data.\nThe `imod.gen` module provides functions to read and write GEN files. We'll\ncreate some dummy line data to store in a GEN file. iMOD5 primarily uses GEN\nto specify Horizontal Flow Barriers (HFB).\n\n"
      ]
    },
    {
      "cell_type": "code",
      "execution_count": null,
      "metadata": {
        "collapsed": false
      },
      "outputs": [],
      "source": [
        "import shapely\n\nx = [0.0, 14.0, 36.0, 50.0, 70.0]\ny = [0.0, 20.0, 10.0, 30.0, 40.0]\n\nls = shapely.LineString(zip(x, y))\nls"
      ]
    },
    {
      "cell_type": "markdown",
      "metadata": {},
      "source": [
        "We now have a geometry, but there is no data associated with it yet. Let's\ncreate a GeoDataFrame with some data to associate with the line.\n\n"
      ]
    },
    {
      "cell_type": "code",
      "execution_count": null,
      "metadata": {
        "collapsed": false
      },
      "outputs": [],
      "source": [
        "import geopandas as gpd\n\ngdf = gpd.GeoDataFrame([100.0], geometry=[ls], columns=[\"resistance\"])"
      ]
    },
    {
      "cell_type": "markdown",
      "metadata": {},
      "source": [
        "We can save this line data to a GEN file with the\n:doc:`/api/generated/io/imod.formats.gen.write` function.\n\n"
      ]
    },
    {
      "cell_type": "code",
      "execution_count": null,
      "metadata": {
        "collapsed": false
      },
      "outputs": [],
      "source": [
        "gen_dir = tmpdir / \"gen\"\n# We'll have to create the directory first, as it does not exist yet.\ngen_dir.mkdir(exist_ok=True)\n\nimod.gen.write(\n    gen_dir / \"barrier.gen\",\n    gdf,\n)"
      ]
    },
    {
      "cell_type": "markdown",
      "metadata": {},
      "source": [
        "Let's check that the file is saved in the specified directory.\n\n"
      ]
    },
    {
      "cell_type": "code",
      "execution_count": null,
      "metadata": {
        "collapsed": false
      },
      "outputs": [],
      "source": [
        "gen_files = list(gen_dir.glob(\"*\"))\npprint(gen_files)"
      ]
    },
    {
      "cell_type": "markdown",
      "metadata": {},
      "source": [
        "We can read the GEN file back into a GeoDataFrame with the `imod.gen.read`\n\n"
      ]
    },
    {
      "cell_type": "code",
      "execution_count": null,
      "metadata": {
        "collapsed": false
      },
      "outputs": [],
      "source": [
        "reloaded_gdf = imod.gen.read(gen_dir / \"barrier.gen\")\nreloaded_gdf"
      ]
    },
    {
      "cell_type": "markdown",
      "metadata": {},
      "source": [
        "The GEN file also supports storing \"3D data\", which allows you to store\nvertically oriented polygons, which you can use to insert\npartially-penetrating horizontal flow barriers in iMOD5 and iMOD Python.\n\nLet's create some 3D data first. iMOD Python has a convenience function\nto create a 3D polygon conveniently.\n\n"
      ]
    },
    {
      "cell_type": "code",
      "execution_count": null,
      "metadata": {
        "collapsed": false
      },
      "outputs": [],
      "source": [
        "ztop = [0.0, 0.0, -10.0, 0.0, 0.0]\nzbottom = [-20.0, -20.0, -20.0, -20.0, -20.0]\n\nzpolygon = imod.prepare.linestring_to_trapezoid_zpolygons(x, y, ztop, zbottom)\n\ngdf_polygon = gpd.GeoDataFrame(\n    [100.0, 100.0, 100.0, 100.0], geometry=zpolygon, columns=[\"resistance\"]\n)"
      ]
    },
    {
      "cell_type": "code",
      "execution_count": null,
      "metadata": {
        "collapsed": false
      },
      "outputs": [],
      "source": [
        "imod.gen.write(\n    gen_dir / \"barrier_3d.gen\",\n    gdf_polygon,\n)"
      ]
    },
    {
      "cell_type": "markdown",
      "metadata": {},
      "source": [
        "## 1D Network (ISG)\n\niMOD5 stores store 1D networks in ISG files, which is a binary format\nprimarily for surface water datasets. It supports all kinds of extra features\nsuch as associated bathymetries and weirs.\n\nGiven its complexity, ISG is not yet supported in iMOD Python. The workaround\nis to rasterize the ISGfiles to IDF files using the iMOD5 BATCH function\nISGGRID.\n\n## Legend files (LEG)\n\niMOD5 uses LEG files to store legend information for plotting. For example,\nthe following LEG file defines a color legend for groundwater surface levels:\n\n"
      ]
    },
    {
      "cell_type": "code",
      "execution_count": null,
      "metadata": {
        "collapsed": false
      },
      "outputs": [],
      "source": [
        "legend_str = \"\"\"\\\n24,1,1,1,1,1,1,1\nUPPERBND,LOWERBND,IRED,IGREEN,IBLUE,DOMAIN\n200.0000,10.00000,75,0,0,\"> 10.0 m\"\n10.00000,6.000000,115,0,0,\"6.0-10.0 m\"\n6.000000,4.000000,166,0,0,\"4.0-6.0 m\"\n4.000000,3.800000,191,0,0,\"3.8-4.0 m\"\n3.800000,3.600000,217,0,0,\"3.6-3.8 m\"\n3.600000,3.400000,237,0,0,\"3.4-3.6 m\"\n3.400000,3.200000,255,42,0,\"3.2-3.4 m\"\n3.200000,3.000000,255,85,0,\"3.0-3.2 m\"\n3.000000,2.800000,254,115,0,\"2.8-3.0 m\"\n2.800000,2.600000,254,140,0,\"2.6-2.8 m\"\n2.600000,2.400000,254,170,0,\"2.4-2.6 m\"\n2.400000,2.200000,254,191,10,\"2.2-2.4 m\"\n2.200000,2.000000,254,196,20,\"2.0-2.2 m\"\n2.000000,1.800000,254,221,51,\"1.8-2.0 m\"\n1.800000,1.600000,254,255,0,\"1.6-1.8 m\"\n1.600000,1.400000,254,255,115,\"1.4-1.6 m\"\n1.400000,1.200000,255,255,190,\"1.2-1.4 m\"\n1.200000,1.000000,209,255,115,\"1.0-1.2 m\"\n1.000000,0.8000000,163,255,115,\"0.8-1.0 m\"\n0.8000000,0.6000000,85,255,0,\"0.6-0.8 m\"\n0.6000000,0.4000000,76,230,0,\"0.4-0.6 m\"\n0.4000000,0.2000000,56,168,0,\"0.2-0.4 m\"\n0.2000000,0.000000,38,115,0,\"0.0-0.2 m\"\n0.000000,-200.0000,0,77,168,\"<0.0 m\"\n\"\"\""
      ]
    },
    {
      "cell_type": "markdown",
      "metadata": {},
      "source": [
        "Let's write this string to a file in our temporary directory.\n\n"
      ]
    },
    {
      "cell_type": "code",
      "execution_count": null,
      "metadata": {
        "collapsed": false
      },
      "outputs": [],
      "source": [
        "legend_dir = tmpdir / \"leg\"\nlegend_dir.mkdir(exist_ok=True)\nlegend_path = legend_dir / \"GWS_surface_level.leg\"\nwith open(legend_path, \"w\") as f:\n    f.write(legend_str)"
      ]
    },
    {
      "cell_type": "markdown",
      "metadata": {},
      "source": [
        "We can read the LEG file using the\n:doc:`/api/generated/visualize/imod.visualize.read_imod_legend` function.\n\n"
      ]
    },
    {
      "cell_type": "code",
      "execution_count": null,
      "metadata": {
        "collapsed": false
      },
      "outputs": [],
      "source": [
        "colors, levels, labels = imod.visualize.read_imod_legend(legend_path)"
      ]
    },
    {
      "cell_type": "markdown",
      "metadata": {},
      "source": [
        "We can now use these colors and levels to plot a surface. In this case, we\nwill plot the top layer of our layermodel.\n\n"
      ]
    },
    {
      "cell_type": "code",
      "execution_count": null,
      "metadata": {
        "collapsed": false
      },
      "outputs": [],
      "source": [
        "imod.visualize.plot_map(top.sel(layer=1), colors=colors, levels=levels)"
      ]
    },
    {
      "cell_type": "markdown",
      "metadata": {},
      "source": [
        "## Project files (PRJ)\n\niMOD5 uses PRJ files to store project information, basically the model\ndefinition. [See the example for a full overview of importing a model from a\nprojectfile into a MODFLOW6 model](INSERT LINK HERE). We'll show here how to\nopen a projectfile here and convert the data to a MODFLOW 6 model.\n\n\n"
      ]
    }
  ],
  "metadata": {
    "kernelspec": {
      "display_name": "Python 3",
      "language": "python",
      "name": "python3"
    },
    "language_info": {
      "codemirror_mode": {
        "name": "ipython",
        "version": 3
      },
      "file_extension": ".py",
      "mimetype": "text/x-python",
      "name": "python",
      "nbconvert_exporter": "python",
      "pygments_lexer": "ipython3",
      "version": "3.12.11"
    }
  },
  "nbformat": 4,
  "nbformat_minor": 0
}