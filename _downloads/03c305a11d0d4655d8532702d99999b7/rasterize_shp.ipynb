{
  "cells": [
    {
      "cell_type": "markdown",
      "metadata": {},
      "source": [
        "\n# Rasterize shapefiles\n\nImporting the necessary packages:\n"
      ]
    },
    {
      "cell_type": "code",
      "execution_count": null,
      "metadata": {
        "collapsed": false
      },
      "outputs": [],
      "source": [
        "import matplotlib.pyplot as plt\n\nimport imod"
      ]
    },
    {
      "cell_type": "markdown",
      "metadata": {},
      "source": [
        "Get the example shapes\n\n"
      ]
    },
    {
      "cell_type": "code",
      "execution_count": null,
      "metadata": {
        "collapsed": false
      },
      "outputs": [],
      "source": [
        "temp_dir = imod.util.temporary_directory()\nlakes = imod.data.lakes_shp(temp_dir)"
      ]
    },
    {
      "cell_type": "markdown",
      "metadata": {},
      "source": [
        "We'll need a dummy grid which we will use as a reference for for rasterizing\nthe shapefile. We are just going to create one with the convenience function.\n\n"
      ]
    },
    {
      "cell_type": "code",
      "execution_count": null,
      "metadata": {
        "collapsed": false
      },
      "outputs": [],
      "source": [
        "xmin = 90950.0\nxmax = 115650.0\ndx = 100\n\nymin = 445850.0\nymax = 467550.0\ndy = -100.0\n\nlike_2d = imod.util.empty_2d(dx, xmin, xmax, dy, ymin, ymax)"
      ]
    },
    {
      "cell_type": "markdown",
      "metadata": {},
      "source": [
        "Rasterrize the shapes\n\n"
      ]
    },
    {
      "cell_type": "code",
      "execution_count": null,
      "metadata": {
        "collapsed": false
      },
      "outputs": [],
      "source": [
        "lake_grid = imod.prepare.rasterize(lakes, like=like_2d)\n\n# Plot\nfig, ax = plt.subplots()\nlake_grid.plot.imshow(ax=ax)"
      ]
    },
    {
      "cell_type": "markdown",
      "metadata": {},
      "source": [
        "To rasterize on a different grid, create a dummy grid\n\n"
      ]
    },
    {
      "cell_type": "code",
      "execution_count": null,
      "metadata": {
        "collapsed": false
      },
      "outputs": [],
      "source": [
        "dx_coarse = 200\ndy_coarse = -200\nlike_2d_coarse = imod.util.empty_2d(dx_coarse, xmin, xmax, dy_coarse, ymin, ymax)\n\nlake_grid_coarse = imod.prepare.rasterize(lakes, like=like_2d_coarse)\n\n# Plot\nfig, ax = plt.subplots()\nlake_grid_coarse.plot.imshow(ax=ax)"
      ]
    }
  ],
  "metadata": {
    "kernelspec": {
      "display_name": "Python 3",
      "language": "python",
      "name": "python3"
    },
    "language_info": {
      "codemirror_mode": {
        "name": "ipython",
        "version": 3
      },
      "file_extension": ".py",
      "mimetype": "text/x-python",
      "name": "python",
      "nbconvert_exporter": "python",
      "pygments_lexer": "ipython3",
      "version": "3.11.7"
    }
  },
  "nbformat": 4,
  "nbformat_minor": 0
}