{
  "cells": [
    {
      "cell_type": "markdown",
      "metadata": {},
      "source": [
        "\n# Different ways to regrid models\n\nThis example focuses on regridding. It uses the TWRI model from modflow6 (`Harbaugh, 2005`).\nMore information about this model can be found in an example dedicated to building this model ( ex01_twri.py)\n\nIn overview, we'll set the following steps:\n* we build a new grid, onto which we want to regrid the twri model\n* we regrid the model in 3 different ways\n** first by regridding the simulation itself. This automatically regrids the model and all the packages in the model using\ndefault regridding methods for each field in each package\n** second, we show how a model within a simulation can be regridded, also using default regridding methods\n** third, we show how regridding can be done package per package. We illustrate that for one package, and we use a non-default\nregridding method for the horizontal conductivity field\n"
      ]
    },
    {
      "cell_type": "markdown",
      "metadata": {},
      "source": [
        "We'll start with the usual imports. As this is an simple (synthetic)\nstructured model, we can make due with few packages.\n\n"
      ]
    },
    {
      "cell_type": "code",
      "execution_count": null,
      "metadata": {
        "collapsed": false
      },
      "outputs": [],
      "source": [
        "import matplotlib.pyplot as plt\nimport numpy as np\nimport xarray as xr\nfrom example_models import create_twri_simulation\n\nfrom imod.common.utilities.regrid import RegridderType\nfrom imod.mf6.regrid import NodePropertyFlowRegridMethod\nfrom imod.util.regrid import RegridderWeightsCache"
      ]
    },
    {
      "cell_type": "markdown",
      "metadata": {},
      "source": [
        "Now we create the twri simulation itself. It yields a simulation of a flow problem, with a grid of 3 layers and 15 cells in both x and y directions.\nTo better illustrate the regridding, we replace the K field with a lognormal random K field. The original k-field is a constant per layer.\n\n"
      ]
    },
    {
      "cell_type": "code",
      "execution_count": null,
      "metadata": {
        "collapsed": false
      },
      "outputs": [],
      "source": [
        "simulation = create_twri_simulation()\n\nidomain = simulation[\"GWF_1\"][\"dis\"][\"idomain\"]\nheterogeneous_k = xr.zeros_like(idomain, dtype=np.double)\nheterogeneous_k.values = np.random.lognormal(4.0, 1.0, heterogeneous_k.shape)\nsimulation[\"GWF_1\"][\"npf\"][\"k\"] = heterogeneous_k"
      ]
    },
    {
      "cell_type": "markdown",
      "metadata": {},
      "source": [
        "Let's plot the k-field. This is going to be the input for the regridder, and the regridded output should somewhat resemble it.\n\n"
      ]
    },
    {
      "cell_type": "code",
      "execution_count": null,
      "metadata": {
        "collapsed": false
      },
      "outputs": [],
      "source": [
        "fig, ax = plt.subplots()\nheterogeneous_k.sel(layer=1).plot(y=\"y\", yincrease=False, ax=ax)"
      ]
    },
    {
      "cell_type": "markdown",
      "metadata": {},
      "source": [
        "Now we create a new grid for this simulation. It has 3 layers,  45 rows and 20 columns.\nThe length of the domain is slightly different from the input grid. That had a coordinate difference between the first and last cellcentre on the\nx axis and y axis of  15*5000 = 75000 on both axes, but the new grid that is  75020 on the x axis and  75015 on the y axis\n\n"
      ]
    },
    {
      "cell_type": "code",
      "execution_count": null,
      "metadata": {
        "collapsed": false
      },
      "outputs": [],
      "source": [
        "nlay = 3\nnrow = 21\nncol = 12\nshape = (nlay, nrow, ncol)\n\ndx = 6251\ndy = -3572\nxmin = 0.0\nxmax = dx * ncol\nymin = 0.0\nymax = abs(dy) * nrow\ndims = (\"layer\", \"y\", \"x\")\n\nlayer = np.array([1, 2, 3])\ny = np.arange(ymax, ymin, dy) + 0.5 * dy\nx = np.arange(xmin, xmax, dx) + 0.5 * dx\ncoords = {\"layer\": layer, \"y\": y, \"x\": x, \"dx\": dx, \"dy\": dy}\ntarget_grid = xr.DataArray(np.ones(shape, dtype=int), coords=coords, dims=dims)"
      ]
    },
    {
      "cell_type": "markdown",
      "metadata": {},
      "source": [
        "A first way to regrid the twri model is to regrid the whole simulation object. This is the most straightforward method,\nand it uses default regridding methods for each input field. To see which ones are used, look at the _regrid_method\nclass attribute of the relevant package. For example the _regrid_method attribute  of the NodePropertyFlow package\nspecifies that field \"k\" uses an OVERLAP regridder in combination with the averaging function \"geometric_mean\".\n\n"
      ]
    },
    {
      "cell_type": "code",
      "execution_count": null,
      "metadata": {
        "collapsed": false
      },
      "outputs": [],
      "source": [
        "new_simulation = simulation.regrid_like(\"regridded_twri\", target_grid=target_grid)"
      ]
    },
    {
      "cell_type": "markdown",
      "metadata": {},
      "source": [
        "Let's plot the k-field. This is the regridded output, and it should should somewhat resemble the original k-field plotted earlier.\n\n"
      ]
    },
    {
      "cell_type": "code",
      "execution_count": null,
      "metadata": {
        "collapsed": false
      },
      "outputs": [],
      "source": [
        "regridded_k_1 = new_simulation[\"GWF_1\"][\"npf\"][\"k\"]\nfig, ax = plt.subplots()\nregridded_k_1.sel(layer=1).plot(y=\"y\", yincrease=False, ax=ax)"
      ]
    },
    {
      "cell_type": "markdown",
      "metadata": {},
      "source": [
        "A second way to regrid  twri  is to regrid the groundwater flow model.\n\n"
      ]
    },
    {
      "cell_type": "code",
      "execution_count": null,
      "metadata": {
        "collapsed": false
      },
      "outputs": [],
      "source": [
        "model = simulation[\"GWF_1\"]\nnew_model = model.regrid_like(target_grid)\n\nregridded_k_2 = new_model[\"npf\"][\"k\"]\nfig, ax = plt.subplots()\nregridded_k_2.sel(layer=1).plot(y=\"y\", yincrease=False, ax=ax)"
      ]
    },
    {
      "cell_type": "markdown",
      "metadata": {},
      "source": [
        "regridding method as well. in this example we'll regrid the npf package\nmanually and the rest of the packages using default methods.\n\nNote that we create a RegridderWeightsCache here. This will store the weights\nof the regridder. Using the same cache to regrid another package will lead to\na performance increase if that package uses the same regridding method,\nbecause initializing a regridder is costly.\n\n"
      ]
    },
    {
      "cell_type": "code",
      "execution_count": null,
      "metadata": {
        "collapsed": false
      },
      "outputs": [],
      "source": [
        "regridder_types = NodePropertyFlowRegridMethod(k=(RegridderType.CENTROIDLOCATOR,))\nregrid_cache = RegridderWeightsCache()\nnpf_regridded = model[\"npf\"].regrid_like(\n    target_grid=target_grid,\n    regrid_cache=regrid_cache,\n    regridder_types=regridder_types,\n)\nnew_model[\"npf\"] = npf_regridded\n\n\nregridded_k_3 = new_model[\"npf\"][\"k\"]\nfig, ax = plt.subplots()\nregridded_k_3.sel(layer=1).plot(y=\"y\", yincrease=False, ax=ax)"
      ]
    }
  ],
  "metadata": {
    "kernelspec": {
      "display_name": "Python 3",
      "language": "python",
      "name": "python3"
    },
    "language_info": {
      "codemirror_mode": {
        "name": "ipython",
        "version": 3
      },
      "file_extension": ".py",
      "mimetype": "text/x-python",
      "name": "python",
      "nbconvert_exporter": "python",
      "pygments_lexer": "ipython3",
      "version": "3.11.11"
    }
  },
  "nbformat": 4,
  "nbformat_minor": 0
}