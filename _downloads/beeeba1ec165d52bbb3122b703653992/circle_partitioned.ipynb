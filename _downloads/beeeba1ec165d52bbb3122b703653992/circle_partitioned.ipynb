{
  "cells": [
    {
      "cell_type": "markdown",
      "metadata": {},
      "source": [
        "\n# Circle partitioned\n\nThis example illustrates a circular model that is split into 3 submodels.\nThe split method returns a simulation object that can be run as is. In this\ncase the 3 submodels are roughly equal sized partitions that have the shape\nof pie pieces.\n"
      ]
    },
    {
      "cell_type": "code",
      "execution_count": null,
      "metadata": {
        "collapsed": false
      },
      "outputs": [],
      "source": [
        "import matplotlib.pyplot as plt\nfrom example_models import create_circle_simulation\n\nimport imod\n\nsimulation = create_circle_simulation()\ntmp_path = imod.util.temporary_directory()\nsimulation.write(tmp_path / \"original\", False)\n\nnumber_partitions = 5\nsubmodel_labels = simulation.create_partition_labels(number_partitions)\n\n# Create a simulation that is split in subdomains according to the label array.\nnew_sim = simulation.split(submodel_labels)"
      ]
    },
    {
      "cell_type": "markdown",
      "metadata": {},
      "source": [
        "Write the simulation input files for the new simulation.\n\n"
      ]
    },
    {
      "cell_type": "code",
      "execution_count": null,
      "metadata": {
        "collapsed": false
      },
      "outputs": [],
      "source": [
        "new_sim.write(tmp_path, False)\n\n# run the split simulation\nnew_sim.run()"
      ]
    },
    {
      "cell_type": "markdown",
      "metadata": {},
      "source": [
        "Visualize the computed heads in the top layer.\n\n"
      ]
    },
    {
      "cell_type": "code",
      "execution_count": null,
      "metadata": {
        "collapsed": false
      },
      "outputs": [],
      "source": [
        "fig, ax = plt.subplots()\nhead = new_sim.open_head()\n\nhead[\"head\"].isel(layer=0, time=-1).ugrid.plot.contourf(ax=ax)"
      ]
    },
    {
      "cell_type": "markdown",
      "metadata": {},
      "source": [
        "Visualize the flow-horizontal-face-x componenty of the balances.\n\n"
      ]
    },
    {
      "cell_type": "code",
      "execution_count": null,
      "metadata": {
        "collapsed": false
      },
      "outputs": [],
      "source": [
        "fig, ax = plt.subplots()\nbalances = new_sim.open_flow_budget()\n\nbalances[\"flow-horizontal-face-x\"].isel(layer=0, time=-1).ugrid.plot()\npass"
      ]
    }
  ],
  "metadata": {
    "kernelspec": {
      "display_name": "Python 3",
      "language": "python",
      "name": "python3"
    },
    "language_info": {
      "codemirror_mode": {
        "name": "ipython",
        "version": 3
      },
      "file_extension": ".py",
      "mimetype": "text/x-python",
      "name": "python",
      "nbconvert_exporter": "python",
      "pygments_lexer": "ipython3",
      "version": "3.12.12"
    }
  },
  "nbformat": 4,
  "nbformat_minor": 0
}