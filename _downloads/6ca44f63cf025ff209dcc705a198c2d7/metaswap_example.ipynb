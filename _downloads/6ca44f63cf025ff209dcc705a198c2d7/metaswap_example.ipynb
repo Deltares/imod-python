{
  "cells": [
    {
      "cell_type": "markdown",
      "metadata": {},
      "source": [
        "\n# Coupled MetaSWAP - Modflow6 model\n\nThe functionality to generate coupled models has been moved to the ``primod`` package. \n[You can find the example here](https://deltares.github.io/iMOD-Documentation/coupler_metamod_example.html) \n"
      ]
    }
  ],
  "metadata": {
    "kernelspec": {
      "display_name": "Python 3",
      "language": "python",
      "name": "python3"
    },
    "language_info": {
      "codemirror_mode": {
        "name": "ipython",
        "version": 3
      },
      "file_extension": ".py",
      "mimetype": "text/x-python",
      "name": "python",
      "nbconvert_exporter": "python",
      "pygments_lexer": "ipython3",
      "version": "3.11.0"
    }
  },
  "nbformat": 4,
  "nbformat_minor": 0
}