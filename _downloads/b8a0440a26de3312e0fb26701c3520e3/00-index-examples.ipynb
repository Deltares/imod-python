{
  "cells": [
    {
      "cell_type": "markdown",
      "metadata": {},
      "source": [
        "\n# Quick start\n\nThese are the examples in the index page of the iMOD Python user guide. The\nexamples are used to demonstrate the features of iMOD Python and how to use\nthem. This file is meant to test if the index page is working correctly and to\nprovide a quick overview of the examples available in the user guide.\n"
      ]
    },
    {
      "cell_type": "markdown",
      "metadata": {},
      "source": [
        "Let's first create some raster data to work with.\n\n"
      ]
    },
    {
      "cell_type": "code",
      "execution_count": null,
      "metadata": {
        "collapsed": false
      },
      "outputs": [],
      "source": [
        "import xarray as xr\nimport xugrid as xu\n\nimport imod\n\nelevation_uda = xu.data.elevation_nl()\n# Drop unnecessary coords. These coords are also stored in elevation_uda.ugrid.grid\nelevation_uda = elevation_uda.drop_vars([\"mesh2d_face_x\", \"mesh2d_face_y\"])\n\npart = elevation_uda.ugrid.sel(\n    x=slice(100_000.0, 200_000.0), y=slice(400_000.0, 500_000.0)\n)"
      ]
    },
    {
      "cell_type": "markdown",
      "metadata": {},
      "source": [
        "Make structured grid\n\n"
      ]
    },
    {
      "cell_type": "code",
      "execution_count": null,
      "metadata": {
        "collapsed": false
      },
      "outputs": [],
      "source": [
        "resolution = 500.0\nxmin, ymin, xmax, ymax = part.ugrid.grid.bounds\nstructured_grid = imod.util.empty_2d(resolution, xmin, xmax, resolution, ymin, ymax)\n\n# Interpolate\nregridder = xu.BarycentricInterpolator(part, structured_grid)\ninterpolated_elevation = regridder.regrid(part)\n\n# Plot\ninterpolated_elevation.plot.imshow()"
      ]
    },
    {
      "cell_type": "markdown",
      "metadata": {},
      "source": [
        "Save to GeoTIFF\n\n"
      ]
    },
    {
      "cell_type": "code",
      "execution_count": null,
      "metadata": {
        "collapsed": false
      },
      "outputs": [],
      "source": [
        "# Create a temporary directory to store the data\ntmp_dir = imod.util.path.temporary_directory()\ntmp_dir.mkdir(parents=True, exist_ok=True)\ninterpolated_elevation.rio.to_raster(tmp_dir / \"elevation.tif\")"
      ]
    },
    {
      "cell_type": "markdown",
      "metadata": {},
      "source": [
        "Seamlessly integrate your GIS rasters or meshes with MODFLOW 6, by using `xarray`_\nand `xugrid`_ arrays, for structured and unstructured grids respectively, to\ncreate grid-based model packages.\n\n"
      ]
    },
    {
      "cell_type": "code",
      "execution_count": null,
      "metadata": {
        "collapsed": false
      },
      "outputs": [],
      "source": [
        "# Open Geotiff with elevation data as xarray DataArray\nelevation = imod.rasterio.open(tmp_dir / \"elevation.tif\")\nelevation.load()\n\n# Create idomain grid\nlayer_template = xr.DataArray([1, 1, 1], dims=(\"layer\",), coords={\"layer\": [1, 2, 3]})\nidomain = layer_template * xr.ones_like(elevation).astype(int)\n# Deactivate cells with NoData\nidomain = idomain.where(elevation.notnull(), 0)\n\n# Compute bottom elevations of model layers\nlayer_thickness = xr.DataArray(\n    [10.0, 20.0, 10.0], dims=(\"layer\",), coords={\"layer\": [1, 2, 3]}\n)\nbottom = elevation - layer_thickness.cumsum(dim=\"layer\")\n\n# Create MODFLOW 6 DIS package\ndis_pkg = imod.mf6.StructuredDiscretization(\n    idomain=idomain, top=elevation, bottom=bottom.transpose(\"layer\", \"y\", \"x\")\n)"
      ]
    },
    {
      "cell_type": "markdown",
      "metadata": {},
      "source": [
        "Assign wells based on x, y coordinates and filter screen depths, instead of\nlayer, row and column:\n\n"
      ]
    },
    {
      "cell_type": "code",
      "execution_count": null,
      "metadata": {
        "collapsed": false
      },
      "outputs": [],
      "source": [
        "import pandas as pd\n\n# Specify well locations\nx = [150_200.0, 160_800.0]\ny = [450_300.0, 460_200.0]\n\n# Specify well screen depths\nscreen_top = [0.0, 0.0]\nscreen_bottom = [-4.0, -10.0]\n\n# Specify flow rate, which changes over time.\nweltimes = pd.date_range(\"2000-01-01\", \"2000-01-03\", freq=\"2D\")\nwell_rates_period1 = [0.5, 1.0]\nwell_rates_period2 = [2.5, 3.0]\nrate = xr.DataArray(\n    [well_rates_period1, well_rates_period2],\n    coords={\"time\": weltimes},\n    dims=(\"time\", \"index\"),\n)\n\n# Now construct the Well package\nwel_pkg = imod.mf6.Well(\n    x=x, y=y, rate=rate, screen_top=screen_top, screen_bottom=screen_bottom\n)\n\n# iMOD Python will take care of the rest and assign the wells to the correct model\n# layers upon writing the model. It will furthermore distribute well rates based\n# on transmissivities. To verify how wells will be assigned to model layers before\n# writing the entire simulation, you can use the following command:\nwel_mf6_pkg = wel_pkg.to_mf6_pkg(idomain, elevation, bottom, k=1.0)\n\n# Wells have been distributed across two model layers based on screen depths.\nprint(wel_mf6_pkg[\"cellid\"])\n\n# Well rates have been distributed based on screen overlap\nprint(wel_mf6_pkg[\"rate\"])"
      ]
    },
    {
      "cell_type": "markdown",
      "metadata": {},
      "source": [
        "MODFLOW 6 requires that all stress periods are defined in the time discretization\npackage. However, usually boundary conditions are defined at insconsistent\ntimes. iMOD Python can help you to create a time discretization package that is\nconsistent, based on all the unique times assigned to the boundary conditions.\n\n"
      ]
    },
    {
      "cell_type": "code",
      "execution_count": null,
      "metadata": {
        "collapsed": false
      },
      "outputs": [],
      "source": [
        "simulation = imod.mf6.Modflow6Simulation(\"example\")\nsimulation[\"gwf\"] = imod.mf6.GroundwaterFlowModel()\nsimulation[\"gwf\"][\"dis\"] = dis_pkg\nsimulation[\"gwf\"][\"wel\"] = wel_pkg\n\n# Create a time discretization based on the times assigned to the packages.\n# Specify the end time of the simulation as one of the additional_times\nsimulation.create_time_discretization(additional_times=[\"2000-01-07\"])\n\n# Note that timesteps in well package are also inserted in the time\n# discretization\nprint(simulation[\"time_discretization\"].dataset)"
      ]
    },
    {
      "cell_type": "markdown",
      "metadata": {},
      "source": [
        "Regrid MODFLOW 6 models to different grids, even from structured to unstructured\ngrids. iMOD Python takes care of properly scaling the input parameters. You can\nalso configure scaling methods yourself for each input parameter, for example\nwhen you want to upscale drainage elevations with the minimum instead of the\naverage.\n\n"
      ]
    },
    {
      "cell_type": "code",
      "execution_count": null,
      "metadata": {
        "collapsed": false
      },
      "outputs": [],
      "source": [
        "new_unstructured_grid = part\nsim_regridded = simulation.regrid_like(\"regridded\", new_unstructured_grid)\n\n# Notice that discretization has converted to VerticesDiscretization (DISV)\nprint(sim_regridded[\"gwf\"][\"dis\"])"
      ]
    },
    {
      "cell_type": "markdown",
      "metadata": {},
      "source": [
        "To reduce the size of your model, you can clip it to a bounding box. This is\nuseful for example when you want to create a smaller model for testing purposes.\n\n"
      ]
    },
    {
      "cell_type": "code",
      "execution_count": null,
      "metadata": {
        "collapsed": false
      },
      "outputs": [],
      "source": [
        "sim_clipped = simulation.clip_box(\n    x_min=125_000, x_max=175_000, y_min=425_000, y_max=475_000\n)"
      ]
    },
    {
      "cell_type": "markdown",
      "metadata": {},
      "source": [
        "You can even provide states for the model, which will be set on the model\nboundaries of the clipped model. Create a grid of zeros, which will be used to\nset as heads at the boundaries of clipped parts.\n\n"
      ]
    },
    {
      "cell_type": "code",
      "execution_count": null,
      "metadata": {
        "collapsed": false
      },
      "outputs": [],
      "source": [
        "head_for_boundary = xr.zeros_like(idomain, dtype=float).where(idomain > 0)\nstates_for_boundary = {\"gwf\": head_for_boundary}\n\nsim_clipped = simulation.clip_box(\n    x_min=125_000,\n    x_max=175_000,\n    y_min=425_000,\n    y_max=475_000,\n    states_for_boundary=states_for_boundary,\n)\n\n# Notice that a Constant Head (CHD) package has been created for the clipped\n# model.\nprint(sim_clipped[\"gwf\"])"
      ]
    },
    {
      "cell_type": "markdown",
      "metadata": {},
      "source": [
        "\n"
      ]
    }
  ],
  "metadata": {
    "kernelspec": {
      "display_name": "Python 3",
      "language": "python",
      "name": "python3"
    },
    "language_info": {
      "codemirror_mode": {
        "name": "ipython",
        "version": 3
      },
      "file_extension": ".py",
      "mimetype": "text/x-python",
      "name": "python",
      "nbconvert_exporter": "python",
      "pygments_lexer": "ipython3",
      "version": "3.12.11"
    }
  },
  "nbformat": 4,
  "nbformat_minor": 0
}