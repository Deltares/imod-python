{
  "cells": [
    {
      "cell_type": "markdown",
      "metadata": {},
      "source": [
        "\n# Unstructured Grids\n\nMODFLOW 6 supports unstructured grids. Unlike raster data, the connectivity of\nunstructured grids is irregular. This means that the number of neighboring\ncells is not constant; for structured grids, every cell has 4 neighbors (in\n2D), or 6 neighbors (in 3D).\n\nThe package we use to handle unstructured grids is called [xugrid](https://deltares.github.io/xugrid/). It is a Python package that provides a\ndata structure for unstructured grids, and allows for plotting and analysis of\nthese grids. It is built on top of [xarray](https://xarray.pydata.org/en/stable/)`, so handling data is similar to how\nyou would handle raster data in xarray, with some differences.\n"
      ]
    },
    {
      "cell_type": "markdown",
      "metadata": {},
      "source": [
        "Let's first load some sample data from xugrid.data module. The example data\nis a triangular grid of the elevation of the Netherlands.\n\n"
      ]
    },
    {
      "cell_type": "code",
      "execution_count": null,
      "metadata": {
        "collapsed": false
      },
      "outputs": [],
      "source": [
        "import xugrid as xu\n\nelevation = xu.data.elevation_nl()\n\nelevation"
      ]
    },
    {
      "cell_type": "markdown",
      "metadata": {},
      "source": [
        "Note that this data is stored differently than a raster dataset. We don't see\nan x- and a y-dimension here. So where is this spatial information?\nIt's in this ``grid`` attribute, which is accesses via the ``ugrid`` accessor.\nThis is a special accessor that provides access to the unstructured grid\nproperties of the dataset.\n\n"
      ]
    },
    {
      "cell_type": "code",
      "execution_count": null,
      "metadata": {
        "collapsed": false
      },
      "outputs": [],
      "source": [
        "grid = elevation.ugrid.grid\ngrid"
      ]
    },
    {
      "cell_type": "markdown",
      "metadata": {},
      "source": [
        "The grid has a number of properties, such as the number of cells, the\ncoordinates of the vertices, and the connectivity of the cells. The latter is\nvery important when dealing with unstructured grids, as it defines how the\ncells are connected to each other. This is different from structured grids,\nwhere you don't need to specify this as there connectivity follows from the\nrows and columns. Let's take a look at the connectivity of this unstructured\ngrid:\n\n"
      ]
    },
    {
      "cell_type": "code",
      "execution_count": null,
      "metadata": {
        "collapsed": false
      },
      "outputs": [],
      "source": [
        "grid.format_connectivity_as_dense(grid.face_face_connectivity)"
      ]
    },
    {
      "cell_type": "markdown",
      "metadata": {},
      "source": [
        "This shows the connectivity of the cells in the grid. Each row represents a\ncell, and the columns represent the neighboring cells. Because this is a grid\nwith triangles, we can see three columns in the connectivity matrix. -1\nindicates that a cell is not connected to a neighbour. For example, the first\ncell is only connected to one cell.\n\nYou can imagine that plotting unstructured grids is quite a hassle, as you\nneed to provide quite some information to the plotting function. Fortunately,\nthe xugrid package provides a convenient way to plot unstructured grids. Let's\nplot the grid:\n\n"
      ]
    },
    {
      "cell_type": "code",
      "execution_count": null,
      "metadata": {
        "collapsed": false
      },
      "outputs": [],
      "source": [
        "grid.plot()"
      ]
    },
    {
      "cell_type": "markdown",
      "metadata": {},
      "source": [
        "We can plot the grid with the data values as well:\n\n"
      ]
    },
    {
      "cell_type": "code",
      "execution_count": null,
      "metadata": {
        "collapsed": false
      },
      "outputs": [],
      "source": [
        "elevation.ugrid.plot()"
      ]
    },
    {
      "cell_type": "markdown",
      "metadata": {},
      "source": [
        "Note that we need to call the ``ugrid`` accessor to plot the data. This is\nbecause the data is stored in a different format than raster data, and we need\nto tell python that xugrid needs to be used for plotting, and not the regular\nxarray plotting methods.\n\nWe can make calculations just like we would do with raster data. For example,\nwe can calculate the mean elevation of the Netherlands:\n\n"
      ]
    },
    {
      "cell_type": "code",
      "execution_count": null,
      "metadata": {
        "collapsed": false
      },
      "outputs": [],
      "source": [
        "mean_elevation = elevation.mean()\nmean_elevation"
      ]
    },
    {
      "cell_type": "markdown",
      "metadata": {},
      "source": [
        "Or if we want to compute a grid of the elevation 100 meters below the surface:\n\n"
      ]
    },
    {
      "cell_type": "code",
      "execution_count": null,
      "metadata": {
        "collapsed": false
      },
      "outputs": [],
      "source": [
        "elevation_100m_below = elevation - 100\nelevation_100m_below.ugrid.plot()"
      ]
    },
    {
      "cell_type": "markdown",
      "metadata": {},
      "source": [
        "We can use this data to be the bottom elevation of a MODFLOW 6 layered\nunstructured discretization (DISV). For that we need to assign a layer\ncoordinate as iMOD Python requires a layer dimension to be present on the\nbottom and idomain variables.\n\n"
      ]
    },
    {
      "cell_type": "code",
      "execution_count": null,
      "metadata": {
        "collapsed": false
      },
      "outputs": [],
      "source": [
        "bottom = elevation_100m_below.expand_dims(\"layer\").assign_coords(layer=[1])"
      ]
    },
    {
      "cell_type": "markdown",
      "metadata": {},
      "source": [
        "Finally we need to create an idomain variable that indicates which cells are\nactive. For this example we will assume all cells are active, so we can just\ncreate an idomain variable with all ones. We can do this with the `xu.ones_like`\nfunction.\n\n"
      ]
    },
    {
      "cell_type": "code",
      "execution_count": null,
      "metadata": {
        "collapsed": false
      },
      "outputs": [],
      "source": [
        "idomain = xu.ones_like(bottom).astype(int)"
      ]
    },
    {
      "cell_type": "markdown",
      "metadata": {},
      "source": [
        "Now we can create a MODFLOW 6 unstructured discretization (DISV) object using\nthe :class:`imod.mf6.VerticesDiscretization` class. We will create a\ndiscretization with one model layer.\n\n"
      ]
    },
    {
      "cell_type": "code",
      "execution_count": null,
      "metadata": {
        "collapsed": false
      },
      "outputs": [],
      "source": [
        "from imod.mf6 import VerticesDiscretization\n\ndisv = VerticesDiscretization(top=elevation, bottom=bottom, idomain=idomain)"
      ]
    },
    {
      "cell_type": "markdown",
      "metadata": {},
      "source": [
        "Note: we just created a model discretization on a triangular grid. This means\nthat a line connecting two cell centers is rarely perfectly orthogonal to the\ncell edge. This causes mass balance errors. A voronoi grid would be a better\nchoice for a model discretization, as it ensures that the cell centers are\nperfectly orthogonal to the cell edges. Luckily for us, xugrid has\nfunctionality to tesselate a grid into voronoi cells.\n\n"
      ]
    },
    {
      "cell_type": "code",
      "execution_count": null,
      "metadata": {
        "collapsed": false
      },
      "outputs": [],
      "source": [
        "voronoi_grid = grid.tesselate_centroidal_voronoi()\nvoronoi_grid.plot()"
      ]
    },
    {
      "cell_type": "markdown",
      "metadata": {},
      "source": [
        "We can use this voronoi grid to create a new MODFLOW 6 unstructured\ndiscretization (DISV) object. iMOD Python has regridding functionality to\nregrid the top, bottom and idomain variables to the new grid.\n\nFor that, iMOD Python regridding functionality requires a UgridDataArray\ninstead of a Ugrid2d, so we create a UgridDataArray with the voronoi grid.\n\n"
      ]
    },
    {
      "cell_type": "code",
      "execution_count": null,
      "metadata": {
        "collapsed": false
      },
      "outputs": [],
      "source": [
        "from imod.util import RegridderWeightsCache, ones_like_ugrid\n\nvoronoi_uda = ones_like_ugrid(voronoi_grid)\n\ndisv_voronoi = disv.regrid_like(voronoi_uda, RegridderWeightsCache())\ndisv_voronoi"
      ]
    },
    {
      "cell_type": "markdown",
      "metadata": {},
      "source": [
        "Other packages like the :class:`imod.mf6.Drainage` package, accept both structured and\nunstructured grids.\n\nThe drain elevation requires a layer dimension. We can use the `idomain`\nto broadcast the data to include the layer dimension.\n\n"
      ]
    },
    {
      "cell_type": "code",
      "execution_count": null,
      "metadata": {
        "collapsed": false
      },
      "outputs": [],
      "source": [
        "drain_elevation = disv_voronoi[\"idomain\"] * disv_voronoi[\"top\"]\ndrain_elevation"
      ]
    },
    {
      "cell_type": "markdown",
      "metadata": {},
      "source": [
        "We also need to create a conductance variable for the\n:class:`imod.mf6.Drainage` package. The conductance variable is a measure of\nhow much water can flow through a cell. The areas of the cells are used to\ncalculate the conductance, and can be be obtained from its grid.\n\n"
      ]
    },
    {
      "cell_type": "code",
      "execution_count": null,
      "metadata": {
        "collapsed": false
      },
      "outputs": [],
      "source": [
        "resistance = 1  # Example resistance value in days\nconductance = disv_voronoi[\"idomain\"] * voronoi_grid.area / resistance"
      ]
    },
    {
      "cell_type": "markdown",
      "metadata": {},
      "source": [
        "We can now use these variables to create a :class:`imod.mf6.Drainage` package object.\n\n"
      ]
    },
    {
      "cell_type": "code",
      "execution_count": null,
      "metadata": {
        "collapsed": false
      },
      "outputs": [],
      "source": [
        "from imod.mf6 import Drainage\n\ndrainage = Drainage(\n    elevation=drain_elevation,\n    conductance=conductance,\n)\ndrainage"
      ]
    },
    {
      "cell_type": "markdown",
      "metadata": {},
      "source": [
        "That wraps up the example of how to use unstructured grids in iMOD Python. For\nmore information on how to manipulate unstructured grids and how to make\nselections, please refer to the [xugrid documentation](https://deltares.github.io/xugrid/).\n\n"
      ]
    }
  ],
  "metadata": {
    "kernelspec": {
      "display_name": "Python 3",
      "language": "python",
      "name": "python3"
    },
    "language_info": {
      "codemirror_mode": {
        "name": "ipython",
        "version": 3
      },
      "file_extension": ".py",
      "mimetype": "text/x-python",
      "name": "python",
      "nbconvert_exporter": "python",
      "pygments_lexer": "ipython3",
      "version": "3.12.11"
    }
  },
  "nbformat": 4,
  "nbformat_minor": 0
}