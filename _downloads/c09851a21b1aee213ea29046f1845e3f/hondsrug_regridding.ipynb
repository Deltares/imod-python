{
  "cells": [
    {
      "cell_type": "markdown",
      "metadata": {},
      "source": [
        "\n# Regridding a regional model\n\nThis example shows how a model can be regridded using default regridding\nmethods. The example used is the Hondsrug model. It is regridded to a coarser\ngrid. The simulated heads before and after the regridding are shown for\ncomparison, and some statistics are plotted for the head distributions at the\nend of the simulation. Histograms of the input arrays before and after\nregridding are shown next.\n"
      ]
    },
    {
      "cell_type": "code",
      "execution_count": null,
      "metadata": {
        "collapsed": false
      },
      "outputs": [],
      "source": [
        ""
      ]
    },
    {
      "cell_type": "code",
      "execution_count": null,
      "metadata": {
        "collapsed": false
      },
      "outputs": [],
      "source": [
        "import matplotlib.pyplot as plt\nimport numpy as np\nimport xarray as xr\nfrom example_models import create_hondsrug_simulation\n\nimport imod\nfrom imod.typing import GridDataArray"
      ]
    },
    {
      "cell_type": "markdown",
      "metadata": {},
      "source": [
        "Obtain the simulation, write it, run it, and plot some heads.\nThere is a separate example contained in\n[hondsrug](https://deltares.gitlab.io/imod/imod-python/examples/mf6/hondsrug.html#sphx-glr-examples-mf6-hondsrug-py)\nthat you should look at if you are interested in the model building\n\n"
      ]
    },
    {
      "cell_type": "code",
      "execution_count": null,
      "metadata": {
        "collapsed": false
      },
      "outputs": [],
      "source": [
        "gwf_simulation = create_hondsrug_simulation()\n\noriginal_modeldir = imod.util.temporary_directory() / \"original\"\ngwf_simulation.write(original_modeldir)\ngwf_simulation.run()\nhds_original = gwf_simulation.open_head()\n\nfig, ax = plt.subplots()\nhds_original.sel(layer=3).isel(time=6).plot(ax=ax)"
      ]
    },
    {
      "cell_type": "markdown",
      "metadata": {},
      "source": [
        "Create the target grid we will regrid to.\n\n"
      ]
    },
    {
      "cell_type": "code",
      "execution_count": null,
      "metadata": {
        "collapsed": false
      },
      "outputs": [],
      "source": [
        "idomain = gwf_simulation[\"GWF_1\"][\"dis\"][\"idomain\"]\n\nnlay = len(idomain.coords[\"layer\"].values)\nnrow = 50\nncol = 125\nshape = (nlay, nrow, ncol)\n\nxmin = idomain.coords[\"x\"].min().values[()]\nxmax = idomain.coords[\"x\"].max().values[()]\nymin = idomain.coords[\"y\"].min().values[()]\nymax = idomain.coords[\"y\"].max().values[()]\n\ndelta_x = (xmax - xmin) / ncol\ndelta_y = (ymax - ymin) / nrow\ndims = (\"layer\", \"y\", \"x\")\nnew_x = np.arange(xmin, xmax, delta_x)\nnew_y = np.arange(ymax, ymin, -delta_y)\nnew_layer = idomain.coords[\"layer\"].values\ncoords = {\"layer\": new_layer, \"y\": new_y, \"x\": new_x, \"dx\": delta_x, \"dy\": delta_y}\ntarget_grid = xr.DataArray(np.ones(shape, dtype=int), coords=coords, dims=dims)"
      ]
    },
    {
      "cell_type": "markdown",
      "metadata": {},
      "source": [
        "# Regridding\n\n"
      ]
    },
    {
      "cell_type": "code",
      "execution_count": null,
      "metadata": {
        "collapsed": false
      },
      "outputs": [],
      "source": [
        "# Regrid the simulation with the ``regrid_like`` method. Write, run, and plot the results.\nregridded_simulation = gwf_simulation.regrid_like(\n    \"hondsrug-regridded\", target_grid, validate=False\n)\n\nregridded_modeldir = original_modeldir / \"..\" / \"regridded\"\nregridded_simulation.write(regridded_modeldir, validate=False)\n\nregridded_simulation.run()\n\nhds_regridded = regridded_simulation.open_head()"
      ]
    },
    {
      "cell_type": "markdown",
      "metadata": {},
      "source": [
        "# Results visualization\n\n"
      ]
    },
    {
      "cell_type": "code",
      "execution_count": null,
      "metadata": {
        "collapsed": false
      },
      "outputs": [],
      "source": [
        "fig, ax = plt.subplots()\nhds_regridded.sel(layer=3).isel(time=6).plot(ax=ax)\n\n\ndef plot_histograms_side_by_side(\n    array_original: GridDataArray, array_regridded: GridDataArray, title: str\n):\n    \"\"\"This function creates a plot of normalized histograms of the 2 input\n    DataArray. It plots a title above each histogram.\"\"\"\n    _, (ax0, ax1) = plt.subplots(1, 2, sharey=True, tight_layout=True)\n    array_original.plot.hist(ax=ax0, bins=25, density=True)\n    array_regridded.plot.hist(ax=ax1, bins=25, density=True)\n    ax0.title.set_text(f\"{title} (original)\")\n    ax1.title.set_text(f\"{title} (regridded)\")\n\n\ndef write_summary_statistics(\n    array_original: GridDataArray, array_regridded: GridDataArray, title: str\n):\n    def convert_to_filtered_1d(grid: GridDataArray) -> np.ndarray:\n        \"\"\"This function receives an xarray DataArray and converts it to an 1d numpy\n        array. All NaN's are filtered out.\"\"\"\n        grid_as_1d = grid.values.ravel()\n        filter = ~np.isnan(grid_as_1d)\n        grid_as_1d = grid_as_1d[filter]\n        return grid_as_1d\n\n    original = convert_to_filtered_1d(array_original)\n    regridded = convert_to_filtered_1d(array_regridded)\n    print(f\"\\nsummary statistics {title}\")\n    print(\"~~~~~~~~~~~~~~~~~~~~~~~~~~\")\n    print(\n        f\"mean (original) {original.mean()}                    mean (regridded) {regridded.mean()}\"\n    )\n    print(\n        f\"min (original) {original.min()}                      min (regridded) {regridded.min()}\"\n    )\n    print(\n        f\"max (original) {original.max()}                      max (regridded) {regridded.max()}\"\n    )\n    print(\n        f\"variance (original) {original.var()}                 variance (regridded) {regridded.var()}\"\n    )\n\n\nwrite_summary_statistics(hds_original.isel(time=6), hds_regridded.isel(time=6), \"head\")"
      ]
    },
    {
      "cell_type": "markdown",
      "metadata": {},
      "source": [
        "# Comparison with histograms\n\nIn the next segment we will compare the input and output of the models on different grids.\nWe advice to always check how your input is regridded. In this example we upscaled grid,\nmany input parameters are regridded with a ``mean`` method. This means that their input\nrange is reduced, which can be seen in tailings in the histograms becoming shorter.\n\n"
      ]
    },
    {
      "cell_type": "code",
      "execution_count": null,
      "metadata": {
        "collapsed": false
      },
      "outputs": [],
      "source": [
        "plot_histograms_side_by_side(\n    hds_original.isel(time=6), hds_regridded.isel(time=6), \"head\"\n)"
      ]
    },
    {
      "cell_type": "markdown",
      "metadata": {},
      "source": [
        "Compare constant head arrays.\n\n"
      ]
    },
    {
      "cell_type": "code",
      "execution_count": null,
      "metadata": {
        "collapsed": false
      },
      "outputs": [],
      "source": [
        "plot_histograms_side_by_side(\n    gwf_simulation[\"GWF_1\"][\"chd\"].dataset[\"head\"],\n    regridded_simulation[\"GWF_1\"][\"chd\"].dataset[\"head\"],\n    \"chd head\",\n)"
      ]
    },
    {
      "cell_type": "markdown",
      "metadata": {},
      "source": [
        "Compare horizontal hydraulic conductivities.\n\n"
      ]
    },
    {
      "cell_type": "code",
      "execution_count": null,
      "metadata": {
        "collapsed": false
      },
      "outputs": [],
      "source": [
        "plot_histograms_side_by_side(\n    gwf_simulation[\"GWF_1\"][\"npf\"].dataset[\"k\"],\n    regridded_simulation[\"GWF_1\"][\"npf\"].dataset[\"k\"],\n    \"npf k\",\n)"
      ]
    },
    {
      "cell_type": "markdown",
      "metadata": {},
      "source": [
        "Compare vertical hydraulic conductivities.\n\n"
      ]
    },
    {
      "cell_type": "code",
      "execution_count": null,
      "metadata": {
        "collapsed": false
      },
      "outputs": [],
      "source": [
        "plot_histograms_side_by_side(\n    gwf_simulation[\"GWF_1\"][\"npf\"].dataset[\"k33\"],\n    regridded_simulation[\"GWF_1\"][\"npf\"].dataset[\"k33\"],\n    \"npf k33\",\n)"
      ]
    },
    {
      "cell_type": "markdown",
      "metadata": {},
      "source": [
        "Compare starting heads.\n\n"
      ]
    },
    {
      "cell_type": "code",
      "execution_count": null,
      "metadata": {
        "collapsed": false
      },
      "outputs": [],
      "source": [
        "plot_histograms_side_by_side(\n    gwf_simulation[\"GWF_1\"][\"ic\"].dataset[\"start\"],\n    regridded_simulation[\"GWF_1\"][\"ic\"].dataset[\"start\"],\n    \"ic start\",\n)"
      ]
    },
    {
      "cell_type": "markdown",
      "metadata": {},
      "source": [
        "Compare river stages.\n\n"
      ]
    },
    {
      "cell_type": "code",
      "execution_count": null,
      "metadata": {
        "collapsed": false
      },
      "outputs": [],
      "source": [
        "plot_histograms_side_by_side(\n    gwf_simulation[\"GWF_1\"][\"riv\"].dataset[\"stage\"],\n    regridded_simulation[\"GWF_1\"][\"riv\"].dataset[\"stage\"],\n    \"riv stage\",\n)"
      ]
    },
    {
      "cell_type": "markdown",
      "metadata": {},
      "source": [
        "Compare river bottom elevations.\n\n"
      ]
    },
    {
      "cell_type": "code",
      "execution_count": null,
      "metadata": {
        "collapsed": false
      },
      "outputs": [],
      "source": [
        "plot_histograms_side_by_side(\n    gwf_simulation[\"GWF_1\"][\"riv\"].dataset[\"bottom_elevation\"],\n    regridded_simulation[\"GWF_1\"][\"riv\"].dataset[\"bottom_elevation\"],\n    \"riv bottom elevation\",\n)"
      ]
    },
    {
      "cell_type": "markdown",
      "metadata": {},
      "source": [
        "Compare riverbed conductance.\n\n"
      ]
    },
    {
      "cell_type": "code",
      "execution_count": null,
      "metadata": {
        "collapsed": false
      },
      "outputs": [],
      "source": [
        "plot_histograms_side_by_side(\n    gwf_simulation[\"GWF_1\"][\"riv\"].dataset[\"conductance\"],\n    regridded_simulation[\"GWF_1\"][\"riv\"].dataset[\"conductance\"],\n    \"riv conductance\",\n)"
      ]
    },
    {
      "cell_type": "markdown",
      "metadata": {},
      "source": [
        "Compare recharge rates.\n\n"
      ]
    },
    {
      "cell_type": "code",
      "execution_count": null,
      "metadata": {
        "collapsed": false
      },
      "outputs": [],
      "source": [
        "plot_histograms_side_by_side(\n    gwf_simulation[\"GWF_1\"][\"rch\"].dataset[\"rate\"],\n    regridded_simulation[\"GWF_1\"][\"rch\"].dataset[\"rate\"],\n    \"rch rate\",\n)"
      ]
    },
    {
      "cell_type": "markdown",
      "metadata": {},
      "source": [
        "Compare drainage elevations.\n\n"
      ]
    },
    {
      "cell_type": "code",
      "execution_count": null,
      "metadata": {
        "collapsed": false
      },
      "outputs": [],
      "source": [
        "plot_histograms_side_by_side(\n    gwf_simulation[\"GWF_1\"][\"drn-pipe\"].dataset[\"elevation\"],\n    regridded_simulation[\"GWF_1\"][\"drn-pipe\"].dataset[\"elevation\"],\n    \"drn-pipe elevation\",\n)"
      ]
    },
    {
      "cell_type": "markdown",
      "metadata": {},
      "source": [
        "Compare drain conductances.\n\n"
      ]
    },
    {
      "cell_type": "code",
      "execution_count": null,
      "metadata": {
        "collapsed": false
      },
      "outputs": [],
      "source": [
        "plot_histograms_side_by_side(\n    gwf_simulation[\"GWF_1\"][\"drn-pipe\"].dataset[\"conductance\"],\n    regridded_simulation[\"GWF_1\"][\"drn-pipe\"].dataset[\"conductance\"],\n    \"drn-pipe conductance\",\n)"
      ]
    }
  ],
  "metadata": {
    "kernelspec": {
      "display_name": "Python 3",
      "language": "python",
      "name": "python3"
    },
    "language_info": {
      "codemirror_mode": {
        "name": "ipython",
        "version": 3
      },
      "file_extension": ".py",
      "mimetype": "text/x-python",
      "name": "python",
      "nbconvert_exporter": "python",
      "pygments_lexer": "ipython3",
      "version": "3.10.13"
    }
  },
  "nbformat": 4,
  "nbformat_minor": 0
}