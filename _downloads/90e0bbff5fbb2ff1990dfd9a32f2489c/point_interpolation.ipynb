{
  "cells": [
    {
      "cell_type": "markdown",
      "metadata": {},
      "source": [
        "\n# Head point interpolation\n\nThe starting heads to be used for a model could be based on the interpolation of\nx-y head measurements.\n\nTIP: In order to have better interpolation results, an area larger than the\nmodel domain should be considered.\n"
      ]
    },
    {
      "cell_type": "code",
      "execution_count": null,
      "metadata": {
        "collapsed": false
      },
      "outputs": [],
      "source": [
        "import matplotlib.pyplot as plt"
      ]
    },
    {
      "cell_type": "markdown",
      "metadata": {},
      "source": [
        "We'll start with the usual imports\n\n"
      ]
    },
    {
      "cell_type": "code",
      "execution_count": null,
      "metadata": {
        "collapsed": false
      },
      "outputs": [],
      "source": [
        "import numpy as np\n\nimport imod"
      ]
    },
    {
      "cell_type": "markdown",
      "metadata": {},
      "source": [
        "Head measurements information has been obtained from the Dinoloket website for\nthe case study area. This data consists on a .csv file (read using Pandas\n[pd.read_csv](https://pandas.pydata.org/pandas-docs/stable/reference/api/pandas.read_csv.html#pandas.read_csv)\n)\nthat contains the following columns: `id`, `time`, `head`, `filt_top`,\n`filt_bot`, `elevation`, `x` and `y`. For this example, all the measurements\nat different depths and along time for a same id were averaged, to have one\nreference head value in each point.\n\n"
      ]
    },
    {
      "cell_type": "code",
      "execution_count": null,
      "metadata": {
        "collapsed": false
      },
      "outputs": [],
      "source": [
        "heads = imod.data.head_observations()\n\nmean_heads = heads.groupby(\"id\").mean()  # Calculating mean values by id\n\nmean_heads.head(5)"
      ]
    },
    {
      "cell_type": "markdown",
      "metadata": {},
      "source": [
        "Next we'll require a grid to interpolate on. iMOD Python has some useful\nutility functions to generate an empty grid.\n\n"
      ]
    },
    {
      "cell_type": "code",
      "execution_count": null,
      "metadata": {
        "collapsed": false
      },
      "outputs": [],
      "source": [
        "xmin = 225_500.0\nxmax = 240_000.0\nymin = 559_000.0\nymax = 564_000.0\ndx = 100\ndy = -100\n\ngrid = imod.util.empty_2d(dx, xmin, xmax, dy, ymin, ymax)"
      ]
    },
    {
      "cell_type": "markdown",
      "metadata": {},
      "source": [
        "Before we can select points in a grid, we first have to remove the points\noutside the domain.\n\n"
      ]
    },
    {
      "cell_type": "code",
      "execution_count": null,
      "metadata": {
        "collapsed": false
      },
      "outputs": [],
      "source": [
        "points_outside_grid = (\n    (mean_heads[\"x\"] < xmin)\n    | (mean_heads[\"x\"] > xmax)\n    | (mean_heads[\"y\"] < ymin)\n    | (mean_heads[\"y\"] > ymax)\n)\nmean_heads_in_grid = mean_heads.loc[~points_outside_grid]\n\nmean_heads_in_grid.head(5)"
      ]
    },
    {
      "cell_type": "markdown",
      "metadata": {},
      "source": [
        "The previous head information needs to be assigned to the model grid.\nimod-python has a tool called :doc:`/api/generated/select/imod.select.points_set_values`,\nwhich assigns values based on x-y coordinates to a previously defined array. In this\ncase, the array is the starting_heads_larger, the values are the mean\ncalculated heads and the x and y are the coordinates corresponding to the\nheads.\n\n"
      ]
    },
    {
      "cell_type": "code",
      "execution_count": null,
      "metadata": {
        "collapsed": false
      },
      "outputs": [],
      "source": [
        "x = mean_heads_in_grid[\"x\"]\ny = mean_heads_in_grid[\"y\"]\n\nheads_grid = imod.select.points_set_values(\n    grid,\n    values=mean_heads_in_grid[\"head\"].to_list(),\n    x=x.to_list(),\n    y=y.to_list(),\n)\n\n# Plotting the points\nfig, ax = plt.subplots()\nheads_grid.plot.imshow(ax=ax)"
      ]
    },
    {
      "cell_type": "markdown",
      "metadata": {},
      "source": [
        "The previous information is still only available at certain points, so it\nneeds to be interpolated. The iMOD Python tool\n:doc:`/api/generated/prepare/imod.prepare.laplace_interpolate` will be\nused to do an interpolation of the previously indicated head values. It is\npossible to assign interpolation parameters such as the number of iterations\nand the closing criteria.\n\n"
      ]
    },
    {
      "cell_type": "code",
      "execution_count": null,
      "metadata": {
        "collapsed": false
      },
      "outputs": [],
      "source": [
        "interpolated_heads = imod.prepare.laplace_interpolate(\n    heads_grid, atol=0.001, maxiter=150\n)\n\n# Plotting the interpolation results\nfig, ax = plt.subplots()\ninterpolated_heads.plot.imshow(ax=ax)"
      ]
    },
    {
      "cell_type": "markdown",
      "metadata": {},
      "source": [
        "It might be nice to have the locations of the boreholes plotted together with\nthe interpolation, so that we can better judge the quality of the\ninterpolation.\n\nWe can use the `plt.scatter` function to plot the borehole locations on top.\n\n"
      ]
    },
    {
      "cell_type": "code",
      "execution_count": null,
      "metadata": {
        "collapsed": false
      },
      "outputs": [],
      "source": [
        "# Derive grid with which cell has an observation\nis_observation = (~np.isnan(heads_grid)).astype(np.float64)\n\nfig, ax = plt.subplots()\n# Plot the interpolation results\ninterpolated_heads.plot.imshow(ax=ax)\n\n# Plot the borehole locations on top\nplt.scatter(x=mean_heads_in_grid[\"x\"], y=mean_heads_in_grid[\"y\"], color=\"black\", s=5)"
      ]
    }
  ],
  "metadata": {
    "kernelspec": {
      "display_name": "Python 3",
      "language": "python",
      "name": "python3"
    },
    "language_info": {
      "codemirror_mode": {
        "name": "ipython",
        "version": 3
      },
      "file_extension": ".py",
      "mimetype": "text/x-python",
      "name": "python",
      "nbconvert_exporter": "python",
      "pygments_lexer": "ipython3",
      "version": "3.12.11"
    }
  },
  "nbformat": 4,
  "nbformat_minor": 0
}