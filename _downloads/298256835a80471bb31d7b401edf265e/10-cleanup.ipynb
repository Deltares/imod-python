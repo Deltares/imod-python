{
  "cells": [
    {
      "cell_type": "markdown",
      "metadata": {},
      "source": [
        "\n# Data cleanup\n\nMore often than not, data contained in databases is not entirely consistent,\ncausing errors. It therefore is useful to have some utilities at hand to clean\nup data. We included some convenience methods to help clean up inconsistent\ndatasets.\n"
      ]
    },
    {
      "cell_type": "code",
      "execution_count": null,
      "metadata": {
        "collapsed": false
      },
      "outputs": [],
      "source": [
        ""
      ]
    },
    {
      "cell_type": "markdown",
      "metadata": {},
      "source": [
        "We'll start with the usual imports\n\n"
      ]
    },
    {
      "cell_type": "code",
      "execution_count": null,
      "metadata": {
        "collapsed": false
      },
      "outputs": [],
      "source": [
        "import numpy as np\n\nimport imod"
      ]
    },
    {
      "cell_type": "markdown",
      "metadata": {},
      "source": [
        "These imports can be ignored\n\n"
      ]
    },
    {
      "cell_type": "code",
      "execution_count": null,
      "metadata": {
        "collapsed": false
      },
      "outputs": [],
      "source": [
        "from imod.schemata import ValidationError\nfrom imod.util import print_if_error"
      ]
    },
    {
      "cell_type": "markdown",
      "metadata": {},
      "source": [
        "There is a separate example contained in\n:doc:`hondsrug </examples/mf6/hondsrug>`\nthat you should look at if you are interested in the model building\n\n"
      ]
    },
    {
      "cell_type": "code",
      "execution_count": null,
      "metadata": {
        "collapsed": false
      },
      "outputs": [],
      "source": [
        "tmpdir = imod.util.temporary_directory()\n\ngwf_simulation = imod.data.hondsrug_simulation(tmpdir / \"hondsrug_saved\")"
      ]
    },
    {
      "cell_type": "markdown",
      "metadata": {},
      "source": [
        "## Update existing model with new data\n\nYour dear colleague has brought you some new data for the river package, which\nshould be much better than the previous dataset \"riv\" included in the\ndatabase.\n\n"
      ]
    },
    {
      "cell_type": "code",
      "execution_count": null,
      "metadata": {
        "collapsed": false
      },
      "outputs": [],
      "source": [
        "gwf_model = gwf_simulation[\"GWF\"]\nnew_riv_ds = imod.data.colleagues_river_data(tmpdir / \"hondsrug_saved\")"
      ]
    },
    {
      "cell_type": "markdown",
      "metadata": {},
      "source": [
        "Let's do a brief visual check if the colleague's data seems alright:\n\n"
      ]
    },
    {
      "cell_type": "code",
      "execution_count": null,
      "metadata": {
        "collapsed": false
      },
      "outputs": [],
      "source": [
        "imod.visualize.plot_map(\n    new_riv_ds[\"stage\"].max(dim=\"layer\"), \"viridis\", np.linspace(-1, 19, 9)\n)"
      ]
    },
    {
      "cell_type": "markdown",
      "metadata": {},
      "source": [
        "Hmmmm, the western side of the river stage grid seems suspiciously inactive...\nWe have to contact our colleague later. For now, let's work with what we have\nand update the model.\n\n"
      ]
    },
    {
      "cell_type": "code",
      "execution_count": null,
      "metadata": {
        "collapsed": false
      },
      "outputs": [],
      "source": [
        "old_riv = gwf_model.pop(\"riv\")\n\ngwf_model[\"new_riv\"] = imod.mf6.River(**new_riv_ds)"
      ]
    },
    {
      "cell_type": "markdown",
      "metadata": {},
      "source": [
        "Lets's write the simulation with our updated model!\n\n"
      ]
    },
    {
      "cell_type": "code",
      "execution_count": null,
      "metadata": {
        "collapsed": false
      },
      "outputs": [],
      "source": [
        "tmp_dir = imod.util.temporary_directory()\n\n# Ignore the \"with\" statement, it is to succesfully render the Jupyter notebook\n# online.\nwith print_if_error(ValidationError):\n    gwf_simulation.write(tmp_dir)"
      ]
    },
    {
      "cell_type": "markdown",
      "metadata": {},
      "source": [
        "Oh no! Our river package has a completely inconsistent dataset.\nThe model validation raises the following issues:\n\n* The bottom elevation exceeds stage in some cells\n* NoData cells are not aligned between stage and conductance\n* NoData cells are not aligned between stage and bottom_elevation\n* There are conductance values with value <= 0.0\n\n"
      ]
    },
    {
      "cell_type": "markdown",
      "metadata": {},
      "source": [
        "*Exercise*: Use the function ``imod.visualize.plot_map`` to visually inspect\nthe errors in your colleagues dataset. You can alter the variable name to\ninspect different variables.\n\n\n"
      ]
    },
    {
      "cell_type": "code",
      "execution_count": null,
      "metadata": {
        "collapsed": false
      },
      "outputs": [],
      "source": [
        "imod.visualize.plot_map(\n    new_riv_ds[\"stage\"].max(dim=\"layer\"), \"viridis\", np.linspace(-1, 19, 9)\n)"
      ]
    },
    {
      "cell_type": "markdown",
      "metadata": {},
      "source": [
        "We can also check where stage exceeds river bottom elevation using basic\nxarray functionality.\n\n"
      ]
    },
    {
      "cell_type": "code",
      "execution_count": null,
      "metadata": {
        "collapsed": false
      },
      "outputs": [],
      "source": [
        "stage_above_riv_bot = new_riv_ds[\"stage\"] < new_riv_ds[\"bottom_elevation\"]\n\nimod.visualize.plot_map(stage_above_riv_bot.max(dim=\"layer\"), \"viridis\", [0, 1])"
      ]
    },
    {
      "cell_type": "markdown",
      "metadata": {},
      "source": [
        "So luckily the area affected by this error is only small. Let's investigate\nthe size of the error here.\n\n\n"
      ]
    },
    {
      "cell_type": "code",
      "execution_count": null,
      "metadata": {
        "collapsed": false
      },
      "outputs": [],
      "source": [
        "diff = new_riv_ds[\"bottom_elevation\"] - new_riv_ds[\"stage\"]\n\nmax_diff = diff.max().values\n\nmax_diff"
      ]
    },
    {
      "cell_type": "markdown",
      "metadata": {},
      "source": [
        "That is a relatively subtle error, which is probably why it slipped your\ncolleague's attention. Let's plot the troublesome area:\n\n"
      ]
    },
    {
      "cell_type": "code",
      "execution_count": null,
      "metadata": {
        "collapsed": false
      },
      "outputs": [],
      "source": [
        "imod.visualize.plot_map(\n    diff.where(stage_above_riv_bot).max(dim=\"layer\"),\n    \"viridis\",\n    np.linspace(0, max_diff, 9),\n)"
      ]
    },
    {
      "cell_type": "markdown",
      "metadata": {},
      "source": [
        "That is only a small area. Plotting these errors can help you analyze the size\nof problems and communicate with your colleague where there are problems.\n\n## The ``cleanup`` method\n\nThe data quality seems acceptable for now to carry on modelling, so we can\nalready set up a model for the project. We need to communicate with colleagues\nlater that there are mistakes, so that the errors can be corrected.\n\niMOD Python has a set of utilities to help you with cleaning erronous data.\nNote that these cleanup utilities can only fix a limited set of common\nmistakes, in ways you might not need/like. It therefore is always wise to\nverify if you think the fixes are correct in this case.\n\nLet's clean up the problematic river data using the\n:meth:`imod.mf6.River.cleanup` method. Note that this method changes the data\ninplace. This means that the package will be updated, without returning a new\ncopy of the package. This means that we need to copy the dirty dataset first,\nbefore we can do comparisons of the dataset before and after the fix.\n\n"
      ]
    },
    {
      "cell_type": "code",
      "execution_count": null,
      "metadata": {
        "collapsed": false
      },
      "outputs": [],
      "source": [
        "dirty_ds = gwf_model[\"new_riv\"].dataset.copy()"
      ]
    },
    {
      "cell_type": "markdown",
      "metadata": {},
      "source": [
        "We can now clean up the package. To clean up the River package, the method\nrequires the model discretization, contained in the\n:class:`imod.mf6.StructuredDiscretization` package. In this model, we named\nthis package \"dis\".\n\n"
      ]
    },
    {
      "cell_type": "code",
      "execution_count": null,
      "metadata": {
        "collapsed": false
      },
      "outputs": [],
      "source": [
        "dis_pkg = gwf_model[\"dis\"]\ngwf_model[\"new_riv\"].cleanup(dis=dis_pkg)\n\ncleaned_ds = gwf_model[\"new_riv\"].dataset"
      ]
    },
    {
      "cell_type": "markdown",
      "metadata": {},
      "source": [
        "According to the method's explanation (the method calls\n:func:`imod.prepare.cleanup_riv`), the bottom elevation should be altered by\nthe cleanup function.\n\nLet's first see if the stages were altered, we'll calculate the difference\nbetween the original stage and cleaned version.\n\n"
      ]
    },
    {
      "cell_type": "code",
      "execution_count": null,
      "metadata": {
        "collapsed": false
      },
      "outputs": [],
      "source": [
        "diff_stage = dirty_ds[\"stage\"] - cleaned_ds[\"stage\"]\n\nfig, ax = imod.visualize.plot_map(\n    diff_stage.max(dim=\"layer\"), \"viridis\", np.linspace(0, max_diff, 9)\n)\nax.set_title(\"stage lowered by cleanup (m)\")"
      ]
    },
    {
      "cell_type": "markdown",
      "metadata": {},
      "source": [
        "The stages are indeed not altered.\n\nLet's see if the bottom elevations are lowered, we'll calculate the difference\nbetween the original bottom elevation and cleaned version.\n\n"
      ]
    },
    {
      "cell_type": "code",
      "execution_count": null,
      "metadata": {
        "collapsed": false
      },
      "outputs": [],
      "source": [
        "diff_riv_bot = dirty_ds[\"bottom_elevation\"] - cleaned_ds[\"bottom_elevation\"]\n\nfig, ax = imod.visualize.plot_map(\n    diff_riv_bot.max(dim=\"layer\"), \"viridis\", np.linspace(0, max_diff, 9)\n)\nax.set_title(\"river bottom lowered by cleanup (m)\")"
      ]
    },
    {
      "cell_type": "markdown",
      "metadata": {},
      "source": [
        "You can see the bottom elevation was lowered by the cleanup method.\nFurthermore the area in the west where no active stages were defined are also\ndeactivated.\n\nWe advice to always verify if the data is cleaned in a manner that fits your\nuse-case. For example, you might need to raise the stages to the river bottom\nelevation, instead of lowering the latter to the former like the ``cleanup``\nmethod just did. In such case, you need to manually fix the data.\n\nThe ``cleanup`` method helps getting your data through the model validation,\nbut is not guaranteed to be the \"best\" way to clean up your data!\n\n## Writing the cleaned model\n\nNow that the river package has been cleaned, let's see if we can write the\nmodel.\n\n"
      ]
    },
    {
      "cell_type": "code",
      "execution_count": null,
      "metadata": {
        "collapsed": false
      },
      "outputs": [],
      "source": [
        "gwf_simulation.write(tmp_dir)"
      ]
    },
    {
      "cell_type": "markdown",
      "metadata": {},
      "source": [
        "Great! The model was succesfully written!\n\n## Cleaning data without a MODFLOW 6 simulation\n\nThere might be situations where you do not have a MODFLOW 6 simulation or River\npackage at hand, and you still want to clean up your river grids. In this\ncase, you can use the :func:`imod.prepare.cleanup_riv` function. This function\nrequires you to to separately provide your grids and returns a dictionary of\ngrids.\n\n\n"
      ]
    },
    {
      "cell_type": "code",
      "execution_count": null,
      "metadata": {
        "collapsed": false
      },
      "outputs": [],
      "source": [
        "idomain = dis_pkg[\"idomain\"]\nbottom = dis_pkg[\"bottom\"]\nstage = dirty_ds[\"stage\"]\nconductance = dirty_ds[\"conductance\"]\nbottom_elevation = dirty_ds[\"bottom_elevation\"]\n\nriv_cleaned_dict = imod.prepare.cleanup_riv(\n    idomain, bottom, stage, conductance, bottom_elevation\n)\n\nriv_cleaned_dict"
      ]
    },
    {
      "cell_type": "markdown",
      "metadata": {},
      "source": [
        "This returns a dictionary which you can use however you want, and furthermore\nfeed to the River package.\n\n"
      ]
    },
    {
      "cell_type": "code",
      "execution_count": null,
      "metadata": {
        "collapsed": false
      },
      "outputs": [],
      "source": [
        "riv_pkg = imod.mf6.River(**riv_cleaned_dict)\n\nriv_pkg"
      ]
    }
  ],
  "metadata": {
    "kernelspec": {
      "display_name": "Python 3",
      "language": "python",
      "name": "python3"
    },
    "language_info": {
      "codemirror_mode": {
        "name": "ipython",
        "version": 3
      },
      "file_extension": ".py",
      "mimetype": "text/x-python",
      "name": "python",
      "nbconvert_exporter": "python",
      "pygments_lexer": "ipython3",
      "version": "3.12.12"
    }
  },
  "nbformat": 4,
  "nbformat_minor": 0
}