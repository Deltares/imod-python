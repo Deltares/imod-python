{
  "cells": [
    {
      "cell_type": "markdown",
      "metadata": {},
      "source": [
        "\n# TWRI\n\nThis example has been converted from the `MODFLOW6 Example problems`_.  See the\n`description`_ and the `notebook`_ which uses `FloPy`_ to setup the model.\n\nThis example is a modified version of the original MODFLOW example\n(\"`Techniques of Water-Resources Investigation`_\" (TWRI)) described in\n(`McDonald & Harbaugh, 1988`_) and duplicated in (`Harbaugh & McDonald, 1996`_).\nThis problem is also is distributed with MODFLOW-2005 (`Harbaugh, 2005`_). The\nproblem has been modified from a quasi-3D problem, where confining beds are not\nexplicitly simulated, to an equivalent three-dimensional problem.\n\nIn overview, we'll set the following steps:\n\n    * Create a structured grid for a rectangular geometry.\n    * Create the xarray DataArrays containg the MODFLOW6 parameters.\n    * Feed these arrays into the imod mf6 classes.\n    * Write to modflow6 files.\n    * Run the model.\n    * Open the results back into DataArrays.\n    * Visualize the results.\n"
      ]
    },
    {
      "cell_type": "markdown",
      "metadata": {},
      "source": [
        "We'll start with the usual imports. As this is a simple (synthetic)\nstructured model, we can make due with few packages.\n\n"
      ]
    },
    {
      "cell_type": "code",
      "execution_count": null,
      "metadata": {
        "collapsed": false
      },
      "outputs": [],
      "source": [
        "import numpy as np\nimport xarray as xr\n\nimport imod"
      ]
    },
    {
      "cell_type": "markdown",
      "metadata": {},
      "source": [
        "## Create grid coordinates\n\nThe first steps consist of setting up the grid -- first the number of layer,\nrows, and columns. Cell sizes are constant throughout the model.\n\n"
      ]
    },
    {
      "cell_type": "code",
      "execution_count": null,
      "metadata": {
        "collapsed": false
      },
      "outputs": [],
      "source": [
        "nlay = 3\nnrow = 15\nncol = 15\nshape = (nlay, nrow, ncol)\n\ndx = 5000.0\ndy = -5000.0\nxmin = 0.0\nxmax = dx * ncol\nymin = 0.0\nymax = abs(dy) * nrow\ndims = (\"layer\", \"y\", \"x\")\n\nlayer = np.array([1, 2, 3])\ny = np.arange(ymax, ymin, dy) + 0.5 * dy\nx = np.arange(xmin, xmax, dx) + 0.5 * dx\ncoords = {\"layer\": layer, \"y\": y, \"x\": x}"
      ]
    },
    {
      "cell_type": "markdown",
      "metadata": {},
      "source": [
        "## Create DataArrays\n\nNow that we have the grid coordinates setup, we can start defining model\nparameters. The model is characterized by:\n\n* a constant head boundary on the left\n* a single drain in the center left of the model\n* uniform recharge on the top layer\n* a number of wells scattered throughout the model.\n\n"
      ]
    },
    {
      "cell_type": "code",
      "execution_count": null,
      "metadata": {
        "collapsed": false
      },
      "outputs": [],
      "source": [
        "idomain = xr.DataArray(np.ones(shape, dtype=int), coords=coords, dims=dims)\nbottom = xr.DataArray([-200.0, -300.0, -450.0], {\"layer\": layer}, (\"layer\",))\n\n# Constant head\nconstant_head = xr.full_like(idomain, np.nan, dtype=float).sel(layer=[1, 2])\nconstant_head[..., 0] = 0.0\n\n# Drainage\nelevation = xr.full_like(idomain.sel(layer=1), np.nan, dtype=float)\nconductance = xr.full_like(idomain.sel(layer=1), np.nan, dtype=float)\nelevation[7, 1:10] = np.array([0.0, 0.0, 10.0, 20.0, 30.0, 50.0, 70.0, 90.0, 100.0])\nconductance[7, 1:10] = 1.0\n\n# Recharge\nrch_rate = xr.full_like(idomain.sel(layer=1), 3.0e-8, dtype=float)\n\n# Well\n# fmt: off\nwells_x = [52500.0, 27500.0, 57500.0, 37500.0, 47500.0, 57500.0, 67500.0, 37500.0,\n           47500.0, 57500.0, 67500.0, 37500.0, 47500.0, 57500.0, 67500.0, ]\nwells_y = [52500.0, 57500.0, 47500.0, 32500.0, 32500.0, 32500.0, 32500.0, 22500.0,\n           22500.0, 22500.0, 22500.0, 12500.0, 12500.0, 12500.0, 12500.0, ]\nscreen_top = [-300.0, -200.0, -200.0, 200.0, 200.0, 200.0, 200.0, 200.0,\n              200.0, 200.0, 200.0, 200.0, 200.0, 200.0, 200.0, ]\nscreen_bottom = [-450.0, -300.0, -300.0, -200.0, -200.0, -200.0, -200.0, -200.0,\n                 -200.0, -200.0, -200.0, -200.0, -200.0, -200.0, -200.0, ]\nrate_wel = [-5.0, -5.0, -5.0, -5.0, -5.0, -5.0, -5.0, -5.0,\n            -5.0, -5.0, -5.0, -5.0, -5.0, -5.0, -5.0, ]\n# fmt: on\n\n# Node properties\nicelltype = xr.DataArray([1, 0, 0], {\"layer\": layer}, (\"layer\",))\nk = xr.DataArray([1.0e-3, 1.0e-4, 2.0e-4], {\"layer\": layer}, (\"layer\",))\nk33 = xr.DataArray([2.0e-8, 2.0e-8, 2.0e-8], {\"layer\": layer}, (\"layer\",))"
      ]
    },
    {
      "cell_type": "markdown",
      "metadata": {},
      "source": [
        "## Write the model\n\nThe first step is to define an empty model, the parameters and boundary\nconditions are added in the form of the familiar MODFLOW packages.\n\n"
      ]
    },
    {
      "cell_type": "code",
      "execution_count": null,
      "metadata": {
        "collapsed": false
      },
      "outputs": [],
      "source": [
        "gwf_model = imod.mf6.GroundwaterFlowModel()\ngwf_model[\"dis\"] = imod.mf6.StructuredDiscretization(\n    top=200.0, bottom=bottom, idomain=idomain\n)\ngwf_model[\"chd\"] = imod.mf6.ConstantHead(\n    constant_head, print_input=True, print_flows=True, save_flows=True\n)\ngwf_model[\"drn\"] = imod.mf6.Drainage(\n    elevation=elevation,\n    conductance=conductance,\n    print_input=True,\n    print_flows=True,\n    save_flows=True,\n)\ngwf_model[\"ic\"] = imod.mf6.InitialConditions(start=0.0)\ngwf_model[\"npf\"] = imod.mf6.NodePropertyFlow(\n    icelltype=icelltype,\n    k=k,\n    k33=k33,\n    variable_vertical_conductance=True,\n    dewatered=True,\n    perched=True,\n    save_flows=True,\n)\ngwf_model[\"sto\"] = imod.mf6.SpecificStorage(\n    specific_storage=1.0e-5,\n    specific_yield=0.15,\n    transient=False,\n    convertible=0,\n)\ngwf_model[\"oc\"] = imod.mf6.OutputControl(save_head=\"all\", save_budget=\"all\")\ngwf_model[\"rch\"] = imod.mf6.Recharge(rch_rate)\n\ngwf_model[\"wel\"] = imod.mf6.Well(\n    x=wells_x,\n    y=wells_y,\n    screen_top=screen_top,\n    screen_bottom=screen_bottom,\n    rate=rate_wel,\n)\n\n# Attach it to a simulation\nsimulation = imod.mf6.Modflow6Simulation(\"ex01-twri\")\nsimulation[\"GWF_1\"] = gwf_model\n# Define solver settings\nsimulation[\"solver\"] = imod.mf6.Solution(\n    modelnames=[\"GWF_1\"],\n    print_option=\"summary\",\n    outer_dvclose=1.0e-4,\n    outer_maximum=500,\n    under_relaxation=None,\n    inner_dvclose=1.0e-4,\n    inner_rclose=0.001,\n    inner_maximum=100,\n    linear_acceleration=\"cg\",\n    scaling_method=None,\n    reordering_method=None,\n    relaxation_factor=0.97,\n)\n# Collect time discretization\nsimulation.create_time_discretization(\n    additional_times=[\"2000-01-01\", \"2000-01-02\", \"2000-01-03\", \"2000-01-04\"]\n)"
      ]
    },
    {
      "cell_type": "markdown",
      "metadata": {},
      "source": [
        "We'll create a new directory in which we will write and run the model.\n\n"
      ]
    },
    {
      "cell_type": "code",
      "execution_count": null,
      "metadata": {
        "collapsed": false
      },
      "outputs": [],
      "source": [
        "modeldir = imod.util.temporary_directory()\nsimulation.write(modeldir)"
      ]
    },
    {
      "cell_type": "markdown",
      "metadata": {},
      "source": [
        "## Run the model\n\n<div class=\"alert alert-info\"><h4>Note</h4><p>The following lines assume the ``mf6`` executable is available on your PATH.\n  `The Modflow 6 examples introduction <mf6-introduction>` shortly\n  describes how to add it to yours.</p></div>\n\n"
      ]
    },
    {
      "cell_type": "code",
      "execution_count": null,
      "metadata": {
        "collapsed": false
      },
      "outputs": [],
      "source": [
        "simulation.run()"
      ]
    },
    {
      "cell_type": "markdown",
      "metadata": {},
      "source": [
        "## Open the results\n\nWe'll open the heads (.hds) file.\n\n"
      ]
    },
    {
      "cell_type": "code",
      "execution_count": null,
      "metadata": {
        "collapsed": false
      },
      "outputs": [],
      "source": [
        "head = imod.mf6.open_hds(\n    modeldir / \"GWF_1/GWF_1.hds\",\n    modeldir / \"GWF_1/dis.dis.grb\",\n)"
      ]
    },
    {
      "cell_type": "markdown",
      "metadata": {},
      "source": [
        "## Visualize the results\n\n"
      ]
    },
    {
      "cell_type": "code",
      "execution_count": null,
      "metadata": {
        "collapsed": false
      },
      "outputs": [],
      "source": [
        "head.isel(layer=0, time=0).plot.contourf()"
      ]
    },
    {
      "cell_type": "markdown",
      "metadata": {},
      "source": [
        "\n"
      ]
    }
  ],
  "metadata": {
    "kernelspec": {
      "display_name": "Python 3",
      "language": "python",
      "name": "python3"
    },
    "language_info": {
      "codemirror_mode": {
        "name": "ipython",
        "version": 3
      },
      "file_extension": ".py",
      "mimetype": "text/x-python",
      "name": "python",
      "nbconvert_exporter": "python",
      "pygments_lexer": "ipython3",
      "version": "3.11.12"
    }
  },
  "nbformat": 4,
  "nbformat_minor": 0
}