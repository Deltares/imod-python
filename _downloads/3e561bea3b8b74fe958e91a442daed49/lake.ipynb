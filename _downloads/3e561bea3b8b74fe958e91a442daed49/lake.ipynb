{
  "cells": [
    {
      "cell_type": "markdown",
      "metadata": {},
      "source": [
        "\n# Lake package example\n\nThis is a synthetic example (using invented, not necesarily physical data) of how to use the\nlake package api to generate models with lakes.\n\nIn overview, we'll set the following steps:\n\n    * Create a structured grid for a rectangular geometry.\n    * Create a constant head boundary\n    * Create packages for  initial conditions, output control, storage, and node property flow\n    * Create a lake package with a time-dependent rainfall\n    * Write to modflow6 files.\n    * Run the model.\n    * Open the results back into DataArrays.\n    * Visualize the results.\n"
      ]
    },
    {
      "cell_type": "markdown",
      "metadata": {},
      "source": [
        "We'll start with the usual imports. As this is an simple (synthetic)\nstructured model, we can make due with few packages.\n\n"
      ]
    },
    {
      "cell_type": "code",
      "execution_count": null,
      "metadata": {
        "collapsed": false
      },
      "outputs": [],
      "source": [
        "import numpy as np\nimport xarray as xr\n\nimport imod\nimport imod.mf6.lak as lak\n\nnlay = 3\nnrow = 15\nncol = 15\nshape = (nlay, nrow, ncol)\n\ndx = 5000.0\ndy = -5000.0\nxmin = 0.0\nxmax = dx * ncol\nymin = 0.0\nymax = abs(dy) * nrow\ndims = (\"layer\", \"y\", \"x\")\n\nlayer = np.array([1, 2, 3])\ny = np.arange(ymax, ymin, dy) + 0.5 * dy\nx = np.arange(xmin, xmax, dx) + 0.5 * dx\ncoords = {\"layer\": layer, \"y\": y, \"x\": x}\n\nidomain = xr.DataArray(np.ones(shape, dtype=int), coords=coords, dims=dims)"
      ]
    },
    {
      "cell_type": "code",
      "execution_count": null,
      "metadata": {
        "collapsed": false
      },
      "outputs": [],
      "source": [
        "lake_layer = 1\nlake_x = x[4:7]\nlake_y = y[4:7]\nis_lake = xr.full_like(idomain, fill_value=False, dtype=bool)\nis_lake.loc[{\"layer\": lake_layer, \"x\": lake_x, \"y\": lake_y}] = True\nis_lake.sel(layer=1).plot.imshow()"
      ]
    },
    {
      "cell_type": "code",
      "execution_count": null,
      "metadata": {
        "collapsed": false
      },
      "outputs": [],
      "source": [
        "VERTICAL = 1\nconnectionType = xr.where(is_lake, VERTICAL, np.nan)\nbed_leak = xr.where(is_lake, 0.2, np.nan)\ntop_elevation = xr.where(is_lake, 0.4, np.nan)\nbot_elevation = xr.where(is_lake, 0.1, np.nan)\nconnection_length = xr.where(is_lake, 0.5, np.nan)\nconnection_width = xr.where(is_lake, 0.6, np.nan)\n\ntimes_rainfall = [\n    np.datetime64(\"2000-01-01\"),\n    np.datetime64(\"2000-03-01\"),\n    np.datetime64(\"2000-05-01\"),\n]\n\nrainfall = xr.DataArray(\n    np.full((len(times_rainfall)), 0.001),\n    coords={\"time\": times_rainfall},\n    dims=[\"time\"],\n)\n\n\nlake = lak.LakeData(\n    10.0,\n    \"Nieuwkoopse_plas\",\n    connectionType,\n    bed_leak,\n    top_elevation,\n    bot_elevation,\n    connection_length,\n    connection_width,\n    None,\n    None,\n    rainfall,\n    None,\n    None,\n    None,\n    None,\n    None,\n)"
      ]
    },
    {
      "cell_type": "markdown",
      "metadata": {},
      "source": [
        "## Create grid coordinates\n\nThe first steps consist of setting up the grid -- first the number of layer,\nrows, and columns. Cell sizes are constant throughout the model.\n\n"
      ]
    },
    {
      "cell_type": "markdown",
      "metadata": {},
      "source": [
        "We'll create a new directory in which we will write and run the model.\n\n"
      ]
    },
    {
      "cell_type": "code",
      "execution_count": null,
      "metadata": {
        "collapsed": false
      },
      "outputs": [],
      "source": [
        "modeldir = imod.util.temporary_directory()"
      ]
    },
    {
      "cell_type": "markdown",
      "metadata": {},
      "source": [
        "## Create DataArrays\n\nNow that we have the grid coordinates setup, we can start defining model\nparameters. The model is characterized by:\n\n* a constant head boundary on the left\n* a single drain in the center left of the model\n* uniform recharge on the top layer\n\n"
      ]
    },
    {
      "cell_type": "code",
      "execution_count": null,
      "metadata": {
        "collapsed": false
      },
      "outputs": [],
      "source": [
        "bottom = xr.DataArray([-200.0, -300.0, -450.0], {\"layer\": layer}, (\"layer\",))\n\n# Constant head\nconstant_head = xr.full_like(idomain, np.nan, dtype=float).sel(layer=[1, 2])\nconstant_head[..., 0] = 0.0\n\n# Node properties\nicelltype = xr.DataArray([1, 0, 0], {\"layer\": layer}, (\"layer\",))\nk = xr.DataArray([1.0e-3, 1.0e-4, 2.0e-4], {\"layer\": layer}, (\"layer\",))\nk33 = xr.DataArray([2.0e-8, 2.0e-8, 2.0e-8], {\"layer\": layer}, (\"layer\",))\n\ngwf_model = imod.mf6.GroundwaterFlowModel()\ngwf_model[\"dis\"] = imod.mf6.StructuredDiscretization(\n    top=200.0, bottom=bottom, idomain=idomain\n)\ngwf_model[\"chd\"] = imod.mf6.ConstantHead(\n    constant_head, print_input=True, print_flows=True, save_flows=True\n)\ngwf_model[\"ic\"] = imod.mf6.InitialConditions(head=0.0)\ngwf_model[\"npf\"] = imod.mf6.NodePropertyFlow(\n    icelltype=icelltype,\n    k=k,\n    k33=k33,\n    variable_vertical_conductance=True,\n    dewatered=True,\n    perched=True,\n    save_flows=True,\n)\ngwf_model[\"sto\"] = imod.mf6.SpecificStorage(\n    specific_storage=1.0e-5,\n    specific_yield=0.15,\n    transient=True,\n    convertible=0,\n)\ngwf_model[\"oc\"] = imod.mf6.OutputControl(save_head=\"all\", save_budget=\"all\")\n\n# Attach it to a simulation\nsimulation = imod.mf6.Modflow6Simulation(\"ex01-twri\")\nsimulation[\"GWF_1\"] = gwf_model\n# Define solver settings\nsimulation[\"solver\"] = imod.mf6.Solution(\n    modelnames=[\"GWF_1\"],\n    print_option=\"summary\",\n    outer_dvclose=1.0e-4,\n    outer_maximum=500,\n    under_relaxation=None,\n    inner_dvclose=1.0e-4,\n    inner_rclose=0.001,\n    inner_maximum=100,\n    linear_acceleration=\"cg\",\n    scaling_method=None,\n    reordering_method=None,\n    relaxation_factor=0.97,\n)\n\ngwf_model[\"lake\"] = lak.Lake.from_lakes_and_outlets(\n    [lake],\n    print_input=True,\n    print_stage=True,\n    print_flows=True,\n    save_flows=True,\n    stagefile=modeldir / \"GWF_1/stagefile.lak\",\n    budgetcsvfile=modeldir / \"GWF_1/budgetcsvfile.lak\",\n    package_convergence_filename=modeldir / \"GWF_1/convergence.lak\",\n)\n\n# Collect time discretization\nsimulation.create_time_discretization(\n    additional_times=[\"2000-01-01\", \"2000-01-02\", \"2000-01-03\", \"2013-06-04\"]\n)\n\n\nsimulation.write(modeldir)"
      ]
    },
    {
      "cell_type": "markdown",
      "metadata": {},
      "source": [
        "## Run the model\n\n<div class=\"alert alert-info\"><h4>Note</h4><p>The following lines assume the ``mf6`` executable is available on your PATH.\n  `The Modflow 6 examples introduction <mf6-introduction>` shortly\n  describes how to add it to yours.</p></div>\n\n"
      ]
    },
    {
      "cell_type": "code",
      "execution_count": null,
      "metadata": {
        "collapsed": false
      },
      "outputs": [],
      "source": [
        "simulation.run()"
      ]
    },
    {
      "cell_type": "markdown",
      "metadata": {},
      "source": [
        "## Open the results\n\nWe'll open the heads (.hds) file.\n\n"
      ]
    },
    {
      "cell_type": "code",
      "execution_count": null,
      "metadata": {
        "collapsed": false
      },
      "outputs": [],
      "source": [
        "head = imod.mf6.open_hds(\n    modeldir / \"GWF_1/GWF_1.hds\",\n    modeldir / \"GWF_1/dis.dis.grb\",\n)"
      ]
    },
    {
      "cell_type": "markdown",
      "metadata": {},
      "source": [
        "## Visualize the results\n\n"
      ]
    },
    {
      "cell_type": "code",
      "execution_count": null,
      "metadata": {
        "collapsed": false
      },
      "outputs": [],
      "source": [
        "head.isel(layer=0, time=4).plot.contourf()"
      ]
    }
  ],
  "metadata": {
    "kernelspec": {
      "display_name": "Python 3",
      "language": "python",
      "name": "python3"
    },
    "language_info": {
      "codemirror_mode": {
        "name": "ipython",
        "version": 3
      },
      "file_extension": ".py",
      "mimetype": "text/x-python",
      "name": "python",
      "nbconvert_exporter": "python",
      "pygments_lexer": "ipython3",
      "version": "3.11.10"
    }
  },
  "nbformat": 4,
  "nbformat_minor": 0
}