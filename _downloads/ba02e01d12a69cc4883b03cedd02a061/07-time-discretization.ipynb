{
  "cells": [
    {
      "cell_type": "markdown",
      "metadata": {},
      "source": [
        "\n# Model time discretization\n\niMOD Python provides nice functionality to discretize your models into stress\nperiods, depending on the timesteps you assigned your boundary conditions. This\nfunctionality is activated with the ``create_time_discretization()`` method.\n"
      ]
    },
    {
      "cell_type": "markdown",
      "metadata": {},
      "source": [
        "## Basics\n\nTo demonstrate the ``create_time_discretization()`` method, we first have to\ncreate a Model object. In this case we'll use a MODFLOW 6 simulation, but the\n``imod.wq.SeawatModel`` also supports this.\n\n<div class=\"alert alert-info\"><h4>Note</h4><p>The simulation created in this example misses some mandatory packes, so is\n   not able to write a functional simulation. It is purely intended to describe\n   the workings of the ``time_discretization`` method. For a fully functional\n   MODFLOW 6 model, see the examples in `mf6-introduction`.</p></div>\n\nWel'll start off with the usual imports:\n\n"
      ]
    },
    {
      "cell_type": "code",
      "execution_count": null,
      "metadata": {
        "collapsed": false
      },
      "outputs": [],
      "source": [
        "import numpy as np\nimport pandas as pd\nimport xarray as xr\n\nimport imod"
      ]
    },
    {
      "cell_type": "markdown",
      "metadata": {},
      "source": [
        "We can discretize a simulation as follows, this creates a\nTimeDiscretization object under the key ``\"time_discretization\"``.\n\n"
      ]
    },
    {
      "cell_type": "code",
      "execution_count": null,
      "metadata": {
        "collapsed": false
      },
      "outputs": [],
      "source": [
        "simulation = imod.mf6.Modflow6Simulation(\"example\")\nsimulation.create_time_discretization(\n    additional_times=[\"2000-01-01\", \"2000-01-02\", \"2000-01-04\"]\n)\n\nsimulation[\"time_discretization\"]"
      ]
    },
    {
      "cell_type": "markdown",
      "metadata": {},
      "source": [
        "To view the data inside TimeDiscretization object:\n\n"
      ]
    },
    {
      "cell_type": "code",
      "execution_count": null,
      "metadata": {
        "collapsed": false
      },
      "outputs": [],
      "source": [
        "simulation[\"time_discretization\"].dataset"
      ]
    },
    {
      "cell_type": "markdown",
      "metadata": {},
      "source": [
        "Notice that even though we specified three points in time, only two\ntimesteps are included in the ``time`` coordinate, this is because Modflow\nrequires a start time and a duration of each stress period. iMOD Python\ntherefore uses three points in time to compute two stress periods with a\nduration.\n\n"
      ]
    },
    {
      "cell_type": "code",
      "execution_count": null,
      "metadata": {
        "collapsed": false
      },
      "outputs": [],
      "source": [
        "simulation[\"time_discretization\"].dataset[\"timestep_duration\"]"
      ]
    },
    {
      "cell_type": "markdown",
      "metadata": {},
      "source": [
        "These two stress periods use their respective start time in their ``time``\ncoordinate.\n\n## Boundary Conditions\n\nThe ``create_time_discretization`` method becomes especially useful if we add boundary\nconditions to our groundwater model. We'll first still have to initialize a\ngroundwater flow model though:\n\n"
      ]
    },
    {
      "cell_type": "code",
      "execution_count": null,
      "metadata": {
        "collapsed": false
      },
      "outputs": [],
      "source": [
        "gwf_model = imod.mf6.GroundwaterFlowModel()"
      ]
    },
    {
      "cell_type": "markdown",
      "metadata": {},
      "source": [
        "We'll create a dummy grid, which is used to provide an appropriate grid to\nthe boundary condition packages.\n\n"
      ]
    },
    {
      "cell_type": "code",
      "execution_count": null,
      "metadata": {
        "collapsed": false
      },
      "outputs": [],
      "source": [
        "template_data = np.ones((2, 1, 2, 2))\n\nlayer = [1]\ny = [1.5, 0.5]\nx = [0.5, 1.5]\n\ndims = (\"time\", \"layer\", \"y\", \"x\")"
      ]
    },
    {
      "cell_type": "markdown",
      "metadata": {},
      "source": [
        "Next, we can assign a Constant Head boundary with two timesteps:\n\n"
      ]
    },
    {
      "cell_type": "code",
      "execution_count": null,
      "metadata": {
        "collapsed": false
      },
      "outputs": [],
      "source": [
        "chd_times = pd.to_datetime([\"2000-01-01\", \"2000-01-04\"])\nchd_data = xr.DataArray(\n    data=template_data,\n    dims=dims,\n    coords={\"time\": chd_times, \"layer\": layer, \"y\": y, \"x\": x},\n)\n\ngwf_model[\"chd\"] = imod.mf6.ConstantHead(head=chd_data)\n\ngwf_model[\"chd\"].dataset"
      ]
    },
    {
      "cell_type": "markdown",
      "metadata": {},
      "source": [
        "We'll also assign a Recharge boundary with two timesteps, which differ from\nthe ConstantHead boundary:\n\n"
      ]
    },
    {
      "cell_type": "code",
      "execution_count": null,
      "metadata": {
        "collapsed": false
      },
      "outputs": [],
      "source": [
        "rch_times = pd.to_datetime([\"2000-01-01\", \"2000-01-02\"])\nrch_data = xr.DataArray(\n    data=template_data,\n    dims=dims,\n    coords={\"time\": rch_times, \"layer\": layer, \"y\": y, \"x\": x},\n)\n\ngwf_model[\"rch\"] = imod.mf6.Recharge(rate=rch_data)\n\ngwf_model[\"rch\"].dataset"
      ]
    },
    {
      "cell_type": "markdown",
      "metadata": {},
      "source": [
        "We can now let iMOD Python figure out how the simulation's time should be\ndiscretized. It is important that we provide an endtime, otherwise the\nduration of the last stress period cannot be determined:\n\n"
      ]
    },
    {
      "cell_type": "code",
      "execution_count": null,
      "metadata": {
        "collapsed": false
      },
      "outputs": [],
      "source": [
        "endtime = pd.to_datetime([\"2000-01-06\"])\n\nsimulation_bc = imod.mf6.Modflow6Simulation(\"example_bc\")\nsimulation_bc[\"gwf_1\"] = gwf_model\n\nsimulation_bc.create_time_discretization(additional_times=endtime)\n\nsimulation_bc[\"time_discretization\"].dataset"
      ]
    },
    {
      "cell_type": "markdown",
      "metadata": {},
      "source": [
        "Notice that iMOD Python figured out that the two boundary conditions, both\nwith two timesteps, should lead to three stress periods!\n\n## Specifying extra settings\n\nThe ``TimeDiscretization`` package also supports other settings, like the\namount of timesteps which Modflow should use within a stress period, as well\nas a timestep multiplier, to gradually increase the timesteps modflow uses\nwithin a stress period. This can be useful when boundary conditions change\nvery abruptly between stress periods. These settings are set by accessing\ntheir respective variables in the ``dataset``.\n\n"
      ]
    },
    {
      "cell_type": "code",
      "execution_count": null,
      "metadata": {
        "collapsed": false
      },
      "outputs": [],
      "source": [
        "times = simulation_bc[\"time_discretization\"].dataset.coords[\"time\"]\n\nsimulation_bc[\"time_discretization\"].dataset[\"timestep_multiplier\"] = 1.5\nsimulation_bc[\"time_discretization\"].dataset[\"n_timesteps\"] = xr.DataArray(\n    data=[2, 4, 4], dims=(\"time\",), coords={\"time\": times}\n)\n\nsimulation_bc[\"time_discretization\"].dataset"
      ]
    }
  ],
  "metadata": {
    "kernelspec": {
      "display_name": "Python 3",
      "language": "python",
      "name": "python3"
    },
    "language_info": {
      "codemirror_mode": {
        "name": "ipython",
        "version": 3
      },
      "file_extension": ".py",
      "mimetype": "text/x-python",
      "name": "python",
      "nbconvert_exporter": "python",
      "pygments_lexer": "ipython3",
      "version": "3.12.11"
    }
  },
  "nbformat": 4,
  "nbformat_minor": 0
}